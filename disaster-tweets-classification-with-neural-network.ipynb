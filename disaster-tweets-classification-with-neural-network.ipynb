{
 "cells": [
  {
   "cell_type": "code",
   "execution_count": 1,
   "id": "5cd0efe4",
   "metadata": {
    "_cell_guid": "b1076dfc-b9ad-4769-8c92-a6c4dae69d19",
    "_uuid": "8f2839f25d086af736a60e9eeb907d3b93b6e0e5",
    "execution": {
     "iopub.execute_input": "2022-05-26T18:21:36.899146Z",
     "iopub.status.busy": "2022-05-26T18:21:36.898200Z",
     "iopub.status.idle": "2022-05-26T18:21:36.916091Z",
     "shell.execute_reply": "2022-05-26T18:21:36.914488Z"
    },
    "papermill": {
     "duration": 0.084706,
     "end_time": "2022-05-26T18:21:36.918469",
     "exception": false,
     "start_time": "2022-05-26T18:21:36.833763",
     "status": "completed"
    },
    "tags": []
   },
   "outputs": [
    {
     "name": "stdout",
     "output_type": "stream",
     "text": [
      "/kaggle/input/nlp-getting-started/sample_submission.csv\n",
      "/kaggle/input/nlp-getting-started/train.csv\n",
      "/kaggle/input/nlp-getting-started/test.csv\n"
     ]
    }
   ],
   "source": [
    "# This Python 3 environment comes with many helpful analytics libraries installed\n",
    "# It is defined by the kaggle/python Docker image: https://github.com/kaggle/docker-python\n",
    "# For example, here's several helpful packages to load\n",
    "\n",
    "import numpy as np # linear algebra\n",
    "import pandas as pd # data processing, CSV file I/O (e.g. pd.read_csv)\n",
    "\n",
    "# Input data files are available in the read-only \"../input/\" directory\n",
    "# For example, running this (by clicking run or pressing Shift+Enter) will list all files under the input directory\n",
    "\n",
    "import os\n",
    "for dirname, _, filenames in os.walk('/kaggle/input'):\n",
    "    for filename in filenames:\n",
    "        print(os.path.join(dirname, filename))\n",
    "\n",
    "# You can write up to 20GB to the current directory (/kaggle/working/) that gets preserved as output when you create a version using \"Save & Run All\" \n",
    "# You can also write temporary files to /kaggle/temp/, but they won't be saved outside of the current session"
   ]
  },
  {
   "cell_type": "code",
   "execution_count": 2,
   "id": "0b0f54d0",
   "metadata": {
    "execution": {
     "iopub.execute_input": "2022-05-26T18:21:37.047390Z",
     "iopub.status.busy": "2022-05-26T18:21:37.047081Z",
     "iopub.status.idle": "2022-05-26T18:21:45.108270Z",
     "shell.execute_reply": "2022-05-26T18:21:45.107229Z"
    },
    "papermill": {
     "duration": 8.127526,
     "end_time": "2022-05-26T18:21:45.111777",
     "exception": false,
     "start_time": "2022-05-26T18:21:36.984251",
     "status": "completed"
    },
    "tags": []
   },
   "outputs": [],
   "source": [
    "import nltk\n",
    "\n",
    "import matplotlib.pyplot as plt\n",
    "\n",
    "from sklearn.model_selection import train_test_split\n",
    "from nltk.tokenize import word_tokenize\n",
    "import re\n",
    "from sklearn.feature_extraction.text import TfidfVectorizer\n",
    "\n",
    "import tensorflow as tf\n",
    "from keras.models import Sequential\n",
    "from keras.layers import Dense"
   ]
  },
  {
   "cell_type": "code",
   "execution_count": 3,
   "id": "11ec93ed",
   "metadata": {
    "execution": {
     "iopub.execute_input": "2022-05-26T18:21:45.238870Z",
     "iopub.status.busy": "2022-05-26T18:21:45.238536Z",
     "iopub.status.idle": "2022-05-26T18:21:45.330730Z",
     "shell.execute_reply": "2022-05-26T18:21:45.330032Z"
    },
    "papermill": {
     "duration": 0.159761,
     "end_time": "2022-05-26T18:21:45.333250",
     "exception": false,
     "start_time": "2022-05-26T18:21:45.173489",
     "status": "completed"
    },
    "tags": []
   },
   "outputs": [],
   "source": [
    "# Load the data, and separate the target\n",
    "path = \"/kaggle/input/nlp-getting-started/train.csv\"\n",
    "dtrain = pd.read_csv(path)\n",
    "path1 = \"/kaggle/input/nlp-getting-started/test.csv\"\n",
    "dtest = pd.read_csv(path1)\n",
    "\n",
    "\n",
    "df = pd.concat((dtrain, dtest))"
   ]
  },
  {
   "cell_type": "markdown",
   "id": "a1971350",
   "metadata": {
    "papermill": {
     "duration": 0.061436,
     "end_time": "2022-05-26T18:21:45.455772",
     "exception": false,
     "start_time": "2022-05-26T18:21:45.394336",
     "status": "completed"
    },
    "tags": []
   },
   "source": [
    "**Data Exploration**"
   ]
  },
  {
   "cell_type": "code",
   "execution_count": 4,
   "id": "5c5cc010",
   "metadata": {
    "execution": {
     "iopub.execute_input": "2022-05-26T18:21:45.579147Z",
     "iopub.status.busy": "2022-05-26T18:21:45.578838Z",
     "iopub.status.idle": "2022-05-26T18:21:45.599157Z",
     "shell.execute_reply": "2022-05-26T18:21:45.598475Z"
    },
    "papermill": {
     "duration": 0.084859,
     "end_time": "2022-05-26T18:21:45.601902",
     "exception": false,
     "start_time": "2022-05-26T18:21:45.517043",
     "status": "completed"
    },
    "tags": []
   },
   "outputs": [
    {
     "data": {
      "text/html": [
       "<div>\n",
       "<style scoped>\n",
       "    .dataframe tbody tr th:only-of-type {\n",
       "        vertical-align: middle;\n",
       "    }\n",
       "\n",
       "    .dataframe tbody tr th {\n",
       "        vertical-align: top;\n",
       "    }\n",
       "\n",
       "    .dataframe thead th {\n",
       "        text-align: right;\n",
       "    }\n",
       "</style>\n",
       "<table border=\"1\" class=\"dataframe\">\n",
       "  <thead>\n",
       "    <tr style=\"text-align: right;\">\n",
       "      <th></th>\n",
       "      <th>id</th>\n",
       "      <th>keyword</th>\n",
       "      <th>location</th>\n",
       "      <th>text</th>\n",
       "      <th>target</th>\n",
       "    </tr>\n",
       "  </thead>\n",
       "  <tbody>\n",
       "    <tr>\n",
       "      <th>0</th>\n",
       "      <td>1</td>\n",
       "      <td>NaN</td>\n",
       "      <td>NaN</td>\n",
       "      <td>Our Deeds are the Reason of this #earthquake M...</td>\n",
       "      <td>1.0</td>\n",
       "    </tr>\n",
       "    <tr>\n",
       "      <th>1</th>\n",
       "      <td>4</td>\n",
       "      <td>NaN</td>\n",
       "      <td>NaN</td>\n",
       "      <td>Forest fire near La Ronge Sask. Canada</td>\n",
       "      <td>1.0</td>\n",
       "    </tr>\n",
       "    <tr>\n",
       "      <th>2</th>\n",
       "      <td>5</td>\n",
       "      <td>NaN</td>\n",
       "      <td>NaN</td>\n",
       "      <td>All residents asked to 'shelter in place' are ...</td>\n",
       "      <td>1.0</td>\n",
       "    </tr>\n",
       "    <tr>\n",
       "      <th>3</th>\n",
       "      <td>6</td>\n",
       "      <td>NaN</td>\n",
       "      <td>NaN</td>\n",
       "      <td>13,000 people receive #wildfires evacuation or...</td>\n",
       "      <td>1.0</td>\n",
       "    </tr>\n",
       "    <tr>\n",
       "      <th>4</th>\n",
       "      <td>7</td>\n",
       "      <td>NaN</td>\n",
       "      <td>NaN</td>\n",
       "      <td>Just got sent this photo from Ruby #Alaska as ...</td>\n",
       "      <td>1.0</td>\n",
       "    </tr>\n",
       "    <tr>\n",
       "      <th>...</th>\n",
       "      <td>...</td>\n",
       "      <td>...</td>\n",
       "      <td>...</td>\n",
       "      <td>...</td>\n",
       "      <td>...</td>\n",
       "    </tr>\n",
       "    <tr>\n",
       "      <th>3258</th>\n",
       "      <td>10861</td>\n",
       "      <td>NaN</td>\n",
       "      <td>NaN</td>\n",
       "      <td>EARTHQUAKE SAFETY LOS ANGELES ÛÒ SAFETY FASTE...</td>\n",
       "      <td>NaN</td>\n",
       "    </tr>\n",
       "    <tr>\n",
       "      <th>3259</th>\n",
       "      <td>10865</td>\n",
       "      <td>NaN</td>\n",
       "      <td>NaN</td>\n",
       "      <td>Storm in RI worse than last hurricane. My city...</td>\n",
       "      <td>NaN</td>\n",
       "    </tr>\n",
       "    <tr>\n",
       "      <th>3260</th>\n",
       "      <td>10868</td>\n",
       "      <td>NaN</td>\n",
       "      <td>NaN</td>\n",
       "      <td>Green Line derailment in Chicago http://t.co/U...</td>\n",
       "      <td>NaN</td>\n",
       "    </tr>\n",
       "    <tr>\n",
       "      <th>3261</th>\n",
       "      <td>10874</td>\n",
       "      <td>NaN</td>\n",
       "      <td>NaN</td>\n",
       "      <td>MEG issues Hazardous Weather Outlook (HWO) htt...</td>\n",
       "      <td>NaN</td>\n",
       "    </tr>\n",
       "    <tr>\n",
       "      <th>3262</th>\n",
       "      <td>10875</td>\n",
       "      <td>NaN</td>\n",
       "      <td>NaN</td>\n",
       "      <td>#CityofCalgary has activated its Municipal Eme...</td>\n",
       "      <td>NaN</td>\n",
       "    </tr>\n",
       "  </tbody>\n",
       "</table>\n",
       "<p>10876 rows × 5 columns</p>\n",
       "</div>"
      ],
      "text/plain": [
       "         id keyword location  \\\n",
       "0         1     NaN      NaN   \n",
       "1         4     NaN      NaN   \n",
       "2         5     NaN      NaN   \n",
       "3         6     NaN      NaN   \n",
       "4         7     NaN      NaN   \n",
       "...     ...     ...      ...   \n",
       "3258  10861     NaN      NaN   \n",
       "3259  10865     NaN      NaN   \n",
       "3260  10868     NaN      NaN   \n",
       "3261  10874     NaN      NaN   \n",
       "3262  10875     NaN      NaN   \n",
       "\n",
       "                                                   text  target  \n",
       "0     Our Deeds are the Reason of this #earthquake M...     1.0  \n",
       "1                Forest fire near La Ronge Sask. Canada     1.0  \n",
       "2     All residents asked to 'shelter in place' are ...     1.0  \n",
       "3     13,000 people receive #wildfires evacuation or...     1.0  \n",
       "4     Just got sent this photo from Ruby #Alaska as ...     1.0  \n",
       "...                                                 ...     ...  \n",
       "3258  EARTHQUAKE SAFETY LOS ANGELES ÛÒ SAFETY FASTE...     NaN  \n",
       "3259  Storm in RI worse than last hurricane. My city...     NaN  \n",
       "3260  Green Line derailment in Chicago http://t.co/U...     NaN  \n",
       "3261  MEG issues Hazardous Weather Outlook (HWO) htt...     NaN  \n",
       "3262  #CityofCalgary has activated its Municipal Eme...     NaN  \n",
       "\n",
       "[10876 rows x 5 columns]"
      ]
     },
     "execution_count": 4,
     "metadata": {},
     "output_type": "execute_result"
    }
   ],
   "source": [
    "df"
   ]
  },
  {
   "cell_type": "code",
   "execution_count": 5,
   "id": "a3b676c1",
   "metadata": {
    "execution": {
     "iopub.execute_input": "2022-05-26T18:21:45.728688Z",
     "iopub.status.busy": "2022-05-26T18:21:45.728053Z",
     "iopub.status.idle": "2022-05-26T18:21:45.736492Z",
     "shell.execute_reply": "2022-05-26T18:21:45.735593Z"
    },
    "papermill": {
     "duration": 0.074705,
     "end_time": "2022-05-26T18:21:45.739293",
     "exception": false,
     "start_time": "2022-05-26T18:21:45.664588",
     "status": "completed"
    },
    "tags": []
   },
   "outputs": [
    {
     "name": "stdout",
     "output_type": "stream",
     "text": [
      "0.4296597924602653\n"
     ]
    }
   ],
   "source": [
    "## How many are positive (1) and negative (0) in percent:\n",
    "print(dtrain['target'].mean())"
   ]
  },
  {
   "cell_type": "code",
   "execution_count": 6,
   "id": "8c8ef81e",
   "metadata": {
    "execution": {
     "iopub.execute_input": "2022-05-26T18:21:45.869384Z",
     "iopub.status.busy": "2022-05-26T18:21:45.869088Z",
     "iopub.status.idle": "2022-05-26T18:21:45.881922Z",
     "shell.execute_reply": "2022-05-26T18:21:45.881061Z"
    },
    "papermill": {
     "duration": 0.082739,
     "end_time": "2022-05-26T18:21:45.884260",
     "exception": false,
     "start_time": "2022-05-26T18:21:45.801521",
     "status": "completed"
    },
    "tags": []
   },
   "outputs": [
    {
     "data": {
      "text/plain": [
       "ablaze                   50\n",
       "lava                     50\n",
       "loud%20bang              50\n",
       "mass%20murder            50\n",
       "massacre                 50\n",
       "                         ..\n",
       "forest%20fire            24\n",
       "threat                   16\n",
       "radiation%20emergency    14\n",
       "inundation               14\n",
       "epicentre                13\n",
       "Name: keyword, Length: 221, dtype: int64"
      ]
     },
     "execution_count": 6,
     "metadata": {},
     "output_type": "execute_result"
    }
   ],
   "source": [
    "df['keyword'].value_counts()"
   ]
  },
  {
   "cell_type": "code",
   "execution_count": 7,
   "id": "701a5c46",
   "metadata": {
    "execution": {
     "iopub.execute_input": "2022-05-26T18:21:46.036835Z",
     "iopub.status.busy": "2022-05-26T18:21:46.036558Z",
     "iopub.status.idle": "2022-05-26T18:21:46.047676Z",
     "shell.execute_reply": "2022-05-26T18:21:46.046407Z"
    },
    "papermill": {
     "duration": 0.084584,
     "end_time": "2022-05-26T18:21:46.050732",
     "exception": false,
     "start_time": "2022-05-26T18:21:45.966148",
     "status": "completed"
    },
    "tags": []
   },
   "outputs": [
    {
     "name": "stdout",
     "output_type": "stream",
     "text": [
      "0.007999264435454212\n",
      "0.3344979771974991\n"
     ]
    }
   ],
   "source": [
    "print(df['keyword'].isna().sum()/len(df['keyword']))\n",
    "\n",
    "print(df['location'].isna().sum()/len(df['location']))"
   ]
  },
  {
   "cell_type": "code",
   "execution_count": 8,
   "id": "2acff03e",
   "metadata": {
    "execution": {
     "iopub.execute_input": "2022-05-26T18:21:46.181296Z",
     "iopub.status.busy": "2022-05-26T18:21:46.180972Z",
     "iopub.status.idle": "2022-05-26T18:21:46.194885Z",
     "shell.execute_reply": "2022-05-26T18:21:46.194270Z"
    },
    "papermill": {
     "duration": 0.080744,
     "end_time": "2022-05-26T18:21:46.197159",
     "exception": false,
     "start_time": "2022-05-26T18:21:46.116415",
     "status": "completed"
    },
    "tags": []
   },
   "outputs": [
    {
     "data": {
      "text/plain": [
       "keyword\n",
       "ablaze                 0.361111\n",
       "accident               0.685714\n",
       "aftershock             0.000000\n",
       "airplane%20accident    0.857143\n",
       "ambulance              0.526316\n",
       "                         ...   \n",
       "wounded                0.702703\n",
       "wounds                 0.303030\n",
       "wreck                  0.189189\n",
       "wreckage               1.000000\n",
       "wrecked                0.076923\n",
       "Name: target, Length: 221, dtype: float64"
      ]
     },
     "execution_count": 8,
     "metadata": {},
     "output_type": "execute_result"
    }
   ],
   "source": [
    "df.groupby(['keyword'])['target'].mean()"
   ]
  },
  {
   "cell_type": "code",
   "execution_count": 9,
   "id": "18720f80",
   "metadata": {
    "execution": {
     "iopub.execute_input": "2022-05-26T18:21:46.325768Z",
     "iopub.status.busy": "2022-05-26T18:21:46.325181Z",
     "iopub.status.idle": "2022-05-26T18:21:46.337194Z",
     "shell.execute_reply": "2022-05-26T18:21:46.336367Z"
    },
    "papermill": {
     "duration": 0.079074,
     "end_time": "2022-05-26T18:21:46.339378",
     "exception": false,
     "start_time": "2022-05-26T18:21:46.260304",
     "status": "completed"
    },
    "tags": []
   },
   "outputs": [
    {
     "data": {
      "text/plain": [
       "USA                       141\n",
       "New York                  109\n",
       "United States              65\n",
       "London                     58\n",
       "Canada                     42\n",
       "                         ... \n",
       "Brooklyn                    1\n",
       "St.Cloud, MN                1\n",
       "on a catwalk somewhere      1\n",
       "  å_                        1\n",
       "Brussels, Belgium           1\n",
       "Name: location, Length: 4521, dtype: int64"
      ]
     },
     "execution_count": 9,
     "metadata": {},
     "output_type": "execute_result"
    }
   ],
   "source": [
    "df['location'].value_counts()"
   ]
  },
  {
   "cell_type": "markdown",
   "id": "90e6ae3f",
   "metadata": {
    "papermill": {
     "duration": 0.062973,
     "end_time": "2022-05-26T18:21:46.465741",
     "exception": false,
     "start_time": "2022-05-26T18:21:46.402768",
     "status": "completed"
    },
    "tags": []
   },
   "source": [
    "**Feature extraction**"
   ]
  },
  {
   "cell_type": "markdown",
   "id": "245588c0",
   "metadata": {
    "papermill": {
     "duration": 0.063167,
     "end_time": "2022-05-26T18:21:46.592359",
     "exception": false,
     "start_time": "2022-05-26T18:21:46.529192",
     "status": "completed"
    },
    "tags": []
   },
   "source": [
    "1.) convert to lowercase"
   ]
  },
  {
   "cell_type": "code",
   "execution_count": 10,
   "id": "d42f45f7",
   "metadata": {
    "execution": {
     "iopub.execute_input": "2022-05-26T18:21:46.720916Z",
     "iopub.status.busy": "2022-05-26T18:21:46.720401Z",
     "iopub.status.idle": "2022-05-26T18:21:46.733782Z",
     "shell.execute_reply": "2022-05-26T18:21:46.733065Z"
    },
    "papermill": {
     "duration": 0.080919,
     "end_time": "2022-05-26T18:21:46.736599",
     "exception": false,
     "start_time": "2022-05-26T18:21:46.655680",
     "status": "completed"
    },
    "tags": []
   },
   "outputs": [],
   "source": [
    "df['text'] = (df['text']).str.lower()"
   ]
  },
  {
   "cell_type": "markdown",
   "id": "3f8f1243",
   "metadata": {
    "papermill": {
     "duration": 0.064622,
     "end_time": "2022-05-26T18:21:46.865508",
     "exception": false,
     "start_time": "2022-05-26T18:21:46.800886",
     "status": "completed"
    },
    "tags": []
   },
   "source": [
    "2.) Handling location data"
   ]
  },
  {
   "cell_type": "code",
   "execution_count": 11,
   "id": "dc6bb765",
   "metadata": {
    "execution": {
     "iopub.execute_input": "2022-05-26T18:21:46.997765Z",
     "iopub.status.busy": "2022-05-26T18:21:46.997433Z",
     "iopub.status.idle": "2022-05-26T18:21:47.008918Z",
     "shell.execute_reply": "2022-05-26T18:21:47.008137Z"
    },
    "papermill": {
     "duration": 0.080891,
     "end_time": "2022-05-26T18:21:47.011373",
     "exception": false,
     "start_time": "2022-05-26T18:21:46.930482",
     "status": "completed"
    },
    "tags": []
   },
   "outputs": [],
   "source": [
    "df['location'] = df['location'].fillna('None')\n",
    "df['keyword'] = df['keyword'].fillna('None')\n",
    "\n",
    "loc = df.location.unique()"
   ]
  },
  {
   "cell_type": "markdown",
   "id": "0dace226",
   "metadata": {
    "papermill": {
     "duration": 0.063399,
     "end_time": "2022-05-26T18:21:47.138203",
     "exception": false,
     "start_time": "2022-05-26T18:21:47.074804",
     "status": "completed"
    },
    "tags": []
   },
   "source": [
    "Make new list for locations which appear at least 10 times, all other rows will get location 'Unknown'"
   ]
  },
  {
   "cell_type": "code",
   "execution_count": 12,
   "id": "846d220f",
   "metadata": {
    "execution": {
     "iopub.execute_input": "2022-05-26T18:21:47.268049Z",
     "iopub.status.busy": "2022-05-26T18:21:47.267390Z",
     "iopub.status.idle": "2022-05-26T18:22:03.150425Z",
     "shell.execute_reply": "2022-05-26T18:22:03.149610Z"
    },
    "papermill": {
     "duration": 15.950899,
     "end_time": "2022-05-26T18:22:03.152983",
     "exception": false,
     "start_time": "2022-05-26T18:21:47.202084",
     "status": "completed"
    },
    "tags": []
   },
   "outputs": [
    {
     "name": "stdout",
     "output_type": "stream",
     "text": [
      "['None', 'London, UK', 'India', 'USA', 'San Francisco', 'Nashville, TN', 'UK', 'Australia', '304', 'US', 'United States', 'Indonesia', 'Canada', 'San Francisco, CA', 'Toronto', 'Mumbai', 'New York, NY', 'London', 'California, USA', 'Texas', 'New York City', 'Worldwide', 'California', 'Memphis, TN', 'New York', 'Washington, DC', 'Los Angeles, CA', 'Chicago', 'ss', 'Earth', 'Dallas, TX', 'NYC', 'Ireland', 'Los Angeles', 'Denver, CO', 'Philippines', 'World', 'Atlanta, GA', 'Everywhere', 'Nigeria', 'Seattle', 'Florida', 'Calgary, Alberta', 'Seattle, WA', 'Singapore', 'Houston, TX', 'United Kingdom', 'Manchester', 'Chicago, IL', 'Washington, D.C.', 'Denver, Colorado', 'Sacramento, CA', 'Kenya', 'London, England', 'Pennsylvania, USA', 'Colorado', 'Melbourne, Australia', 'Paterson, New Jersey ', ' Road to the Billionaires Club', 'San Diego, CA']\n"
     ]
    }
   ],
   "source": [
    "listt = []\n",
    "for l in loc:\n",
    "    if df.location.value_counts()[l] > 9:\n",
    "        listt.append(l)\n",
    "        \n",
    "print(listt)"
   ]
  },
  {
   "cell_type": "code",
   "execution_count": 13,
   "id": "75e5772e",
   "metadata": {
    "execution": {
     "iopub.execute_input": "2022-05-26T18:22:03.281468Z",
     "iopub.status.busy": "2022-05-26T18:22:03.281162Z",
     "iopub.status.idle": "2022-05-26T18:22:03.298825Z",
     "shell.execute_reply": "2022-05-26T18:22:03.297111Z"
    },
    "papermill": {
     "duration": 0.085185,
     "end_time": "2022-05-26T18:22:03.301722",
     "exception": false,
     "start_time": "2022-05-26T18:22:03.216537",
     "status": "completed"
    },
    "tags": []
   },
   "outputs": [
    {
     "name": "stdout",
     "output_type": "stream",
     "text": [
      "['None' 'Unknown' 'London, UK' 'India' 'USA' 'San Francisco'\n",
      " 'Nashville, TN' 'UK' 'Australia' '304' 'US' 'United States' 'Indonesia'\n",
      " 'Canada' 'San Francisco, CA' 'Toronto' 'Mumbai' 'New York, NY' 'London'\n",
      " 'California, USA' 'Texas' 'New York City' 'Worldwide' 'California'\n",
      " 'Memphis, TN' 'New York' 'Washington, DC' 'Los Angeles, CA' 'Chicago'\n",
      " 'ss' 'Earth' 'Dallas, TX' 'NYC' 'Ireland' 'Los Angeles' 'Denver, CO'\n",
      " 'Philippines' 'World' 'Atlanta, GA' 'Everywhere' 'Nigeria' 'Seattle'\n",
      " 'Florida' 'Calgary, Alberta' 'Seattle, WA' 'Singapore' 'Houston, TX'\n",
      " 'United Kingdom' 'Manchester' 'Chicago, IL' 'Washington, D.C.'\n",
      " 'Denver, Colorado' 'Sacramento, CA' 'Kenya' 'London, England'\n",
      " 'Pennsylvania, USA' 'Colorado' 'Melbourne, Australia'\n",
      " 'Paterson, New Jersey ' ' Road to the Billionaires Club' 'San Diego, CA']\n",
      "61\n"
     ]
    }
   ],
   "source": [
    "df['location'] = [ll if ll in listt else 'Unknown' for ll in df['location']]\n",
    "\n",
    "print(df.location.unique())\n",
    "print(len(df.location.unique()))"
   ]
  },
  {
   "cell_type": "markdown",
   "id": "61d7332c",
   "metadata": {
    "papermill": {
     "duration": 0.063764,
     "end_time": "2022-05-26T18:22:03.429651",
     "exception": false,
     "start_time": "2022-05-26T18:22:03.365887",
     "status": "completed"
    },
    "tags": []
   },
   "source": [
    "Closer inspection of the locations kept shows that some locations appear multiple times and can be grouped like 'US' with 'USA' or 'New York' and 'New York, NY'"
   ]
  },
  {
   "cell_type": "code",
   "execution_count": 14,
   "id": "0cf9e11b",
   "metadata": {
    "execution": {
     "iopub.execute_input": "2022-05-26T18:22:03.559603Z",
     "iopub.status.busy": "2022-05-26T18:22:03.558877Z",
     "iopub.status.idle": "2022-05-26T18:22:03.582450Z",
     "shell.execute_reply": "2022-05-26T18:22:03.581354Z"
    },
    "papermill": {
     "duration": 0.091795,
     "end_time": "2022-05-26T18:22:03.585106",
     "exception": false,
     "start_time": "2022-05-26T18:22:03.493311",
     "status": "completed"
    },
    "tags": []
   },
   "outputs": [],
   "source": [
    "df['location'] = np.where(df['location'].isin(['USA', 'United States']),'US',df['location'])\n",
    "df['location'] = np.where(df['location'].isin(['United Kingdom']),'UK',df['location'])\n",
    "df['location'] = np.where(df['location'].isin(['London, UK', 'London, England']),'London',df['location'])\n",
    "df['location'] = np.where(df['location'].isin(['San Francisco, CA']),'San Francisco',df['location'])\n",
    "df['location'] = np.where(df['location'].isin(['Washington, D.C.']),'Washington, DC',df['location'])\n",
    "df['location'] = np.where(df['location'].isin(['Los Angeles, CA']),'Los Angeles',df['location'])\n",
    "df['location'] = np.where(df['location'].isin(['New York, NY', 'New York City', 'NYC']),'New York',df['location'])\n",
    "df['location'] = np.where(df['location'].isin(['California, USA']),'California',df['location'])\n",
    "df['location'] = np.where(df['location'].isin(['Chicago, IL']),'Chicago',df['location'])\n",
    "df['location'] = np.where(df['location'].isin(['Denver, CO', 'Denver, Colorado']),'Denver',df['location'])\n",
    "df['location'] = np.where(df['location'].isin(['Seattle, WA']),'Seattle',df['location'])"
   ]
  },
  {
   "cell_type": "code",
   "execution_count": 15,
   "id": "262679a6",
   "metadata": {
    "execution": {
     "iopub.execute_input": "2022-05-26T18:22:03.714801Z",
     "iopub.status.busy": "2022-05-26T18:22:03.714490Z",
     "iopub.status.idle": "2022-05-26T18:22:03.725358Z",
     "shell.execute_reply": "2022-05-26T18:22:03.723822Z"
    },
    "papermill": {
     "duration": 0.078654,
     "end_time": "2022-05-26T18:22:03.727684",
     "exception": false,
     "start_time": "2022-05-26T18:22:03.649030",
     "status": "completed"
    },
    "tags": []
   },
   "outputs": [
    {
     "name": "stdout",
     "output_type": "stream",
     "text": [
      "location\n",
      " Road to the Billionaires Club    0.166667\n",
      "304                               0.000000\n",
      "Atlanta, GA                       0.500000\n",
      "Australia                         0.500000\n",
      "Calgary, Alberta                  0.666667\n",
      "California                        0.468750\n",
      "Canada                            0.448276\n",
      "Chicago                           0.448276\n",
      "Colorado                          0.500000\n",
      "Dallas, TX                        0.333333\n",
      "Denver                            0.625000\n",
      "Earth                             0.727273\n",
      "Everywhere                        0.200000\n",
      "Florida                           0.214286\n",
      "Houston, TX                       0.500000\n",
      "India                             0.833333\n",
      "Indonesia                         0.615385\n",
      "Ireland                           0.500000\n",
      "Kenya                             0.250000\n",
      "London                            0.338462\n",
      "Los Angeles                       0.384615\n",
      "Manchester                        0.222222\n",
      "Melbourne, Australia              0.800000\n",
      "Memphis, TN                       0.714286\n",
      "Mumbai                            0.863636\n",
      "Nashville, TN                     0.777778\n",
      "New York                          0.287037\n",
      "Nigeria                           0.785714\n",
      "None                              0.424398\n",
      "Paterson, New Jersey              0.833333\n",
      "Pennsylvania, USA                 0.000000\n",
      "Philippines                       0.600000\n",
      "Sacramento, CA                    0.700000\n",
      "San Diego, CA                     0.333333\n",
      "San Francisco                     0.520000\n",
      "Seattle                           0.388889\n",
      "Singapore                         0.333333\n",
      "Texas                             0.300000\n",
      "Toronto                           0.583333\n",
      "UK                                0.487805\n",
      "US                                0.613497\n",
      "Unknown                           0.418994\n",
      "Washington, DC                    0.705882\n",
      "World                             0.444444\n",
      "Worldwide                         0.631579\n",
      "ss                                0.100000\n",
      "Name: target, dtype: float64\n"
     ]
    }
   ],
   "source": [
    "print(df.groupby(['location'])['target'].mean())"
   ]
  },
  {
   "cell_type": "markdown",
   "id": "f65d0bd7",
   "metadata": {
    "papermill": {
     "duration": 0.06417,
     "end_time": "2022-05-26T18:22:03.857255",
     "exception": false,
     "start_time": "2022-05-26T18:22:03.793085",
     "status": "completed"
    },
    "tags": []
   },
   "source": [
    "Based on the mean of the target value in the test set the location data seems to be useful"
   ]
  },
  {
   "cell_type": "markdown",
   "id": "a893d1e5",
   "metadata": {
    "papermill": {
     "duration": 0.065088,
     "end_time": "2022-05-26T18:22:03.987721",
     "exception": false,
     "start_time": "2022-05-26T18:22:03.922633",
     "status": "completed"
    },
    "tags": []
   },
   "source": [
    "3.) Since both Location and Keyword are categorical features they need to be OneHotEncoded to be useful. This can be done using pd.get_dummies"
   ]
  },
  {
   "cell_type": "code",
   "execution_count": 16,
   "id": "f3fdb3a2",
   "metadata": {
    "execution": {
     "iopub.execute_input": "2022-05-26T18:22:04.121785Z",
     "iopub.status.busy": "2022-05-26T18:22:04.121288Z",
     "iopub.status.idle": "2022-05-26T18:22:04.148970Z",
     "shell.execute_reply": "2022-05-26T18:22:04.148234Z"
    },
    "papermill": {
     "duration": 0.097272,
     "end_time": "2022-05-26T18:22:04.151411",
     "exception": false,
     "start_time": "2022-05-26T18:22:04.054139",
     "status": "completed"
    },
    "tags": []
   },
   "outputs": [],
   "source": [
    "dummies = pd.get_dummies(df['location'], drop_first=True)\n",
    "dummies1 = pd.get_dummies(df['keyword'], drop_first=True)"
   ]
  },
  {
   "cell_type": "markdown",
   "id": "4be771d7",
   "metadata": {
    "papermill": {
     "duration": 0.064032,
     "end_time": "2022-05-26T18:22:04.280241",
     "exception": false,
     "start_time": "2022-05-26T18:22:04.216209",
     "status": "completed"
    },
    "tags": []
   },
   "source": [
    "Next we define a function to get the length of a text"
   ]
  },
  {
   "cell_type": "code",
   "execution_count": 17,
   "id": "3e9f2fb8",
   "metadata": {
    "execution": {
     "iopub.execute_input": "2022-05-26T18:22:04.411105Z",
     "iopub.status.busy": "2022-05-26T18:22:04.410605Z",
     "iopub.status.idle": "2022-05-26T18:22:04.420763Z",
     "shell.execute_reply": "2022-05-26T18:22:04.420053Z"
    },
    "papermill": {
     "duration": 0.078464,
     "end_time": "2022-05-26T18:22:04.423155",
     "exception": false,
     "start_time": "2022-05-26T18:22:04.344691",
     "status": "completed"
    },
    "tags": []
   },
   "outputs": [],
   "source": [
    "def remove_punc(text):\n",
    "    new = re.sub(r'[^\\w\\s]', '', text)\n",
    "    return new\n",
    "\n",
    "def remove_mentions(text):\n",
    "    new = re.sub(\"@\\S+\", \"\", text)\n",
    "    return new\n",
    "\n",
    "def remove_url(text):\n",
    "    new = re.sub(\"https?:\\/\\/.*[\\r\\n]*\", \"\", text)\n",
    "    return new\n",
    "\n",
    "def remove_hashtag(text):\n",
    "    new = re.sub(\"#\", \"\", text)\n",
    "    return new\n",
    "\n",
    "def clean_text(text):\n",
    "    new = remove_url(text)\n",
    "    new = remove_hashtag(new)\n",
    "    new = remove_mentions(new)\n",
    "    new = remove_punc(new)\n",
    "    return new\n",
    "\n",
    "def leng(col):\n",
    "    text = word_tokenize(col, language='english')#word_tokenize\n",
    "    nonPunct = re.compile('.*[A-Za-z0-9].*')  # must contain a letter or digit\n",
    "    filtered = [w for w in text if nonPunct.match(w)]\n",
    "    return len(filtered)\n",
    "\n",
    "def char(col):\n",
    "    #l1=[]\n",
    "    #for rew in col:\n",
    "    text = word_tokenize(col, language='english')#word_tokenize\n",
    "    nonPunct = re.compile('.*[A-Za-z0-9].*')  # must contain a letter or digit\n",
    "    filtered = [w for w in text if nonPunct.match(w)]\n",
    "    #print(text)\n",
    "    s = [len(u) for u in filtered]\n",
    "    #l1.append(sum(s))\n",
    "    return sum(s)"
   ]
  },
  {
   "cell_type": "code",
   "execution_count": 18,
   "id": "9eef43bf",
   "metadata": {
    "execution": {
     "iopub.execute_input": "2022-05-26T18:22:04.554437Z",
     "iopub.status.busy": "2022-05-26T18:22:04.554103Z",
     "iopub.status.idle": "2022-05-26T18:22:04.560671Z",
     "shell.execute_reply": "2022-05-26T18:22:04.559863Z"
    },
    "papermill": {
     "duration": 0.074967,
     "end_time": "2022-05-26T18:22:04.562643",
     "exception": false,
     "start_time": "2022-05-26T18:22:04.487676",
     "status": "completed"
    },
    "tags": []
   },
   "outputs": [
    {
     "data": {
      "text/plain": [
       "'flood disaster Hello World  '"
      ]
     },
     "execution_count": 18,
     "metadata": {},
     "output_type": "execute_result"
    }
   ],
   "source": [
    "clean_text('#flood #disaster Hello World!!.? @ElonMusk, https://kaggle.com')"
   ]
  },
  {
   "cell_type": "markdown",
   "id": "56adaab9",
   "metadata": {
    "papermill": {
     "duration": 0.063589,
     "end_time": "2022-05-26T18:22:04.690384",
     "exception": false,
     "start_time": "2022-05-26T18:22:04.626795",
     "status": "completed"
    },
    "tags": []
   },
   "source": [
    "Using this function we can get the word count of a tweet. Furthermore we define a new column with the word count and standartize it afterwards."
   ]
  },
  {
   "cell_type": "code",
   "execution_count": 19,
   "id": "2cbac6d6",
   "metadata": {
    "execution": {
     "iopub.execute_input": "2022-05-26T18:22:04.820719Z",
     "iopub.status.busy": "2022-05-26T18:22:04.820375Z",
     "iopub.status.idle": "2022-05-26T18:22:04.837667Z",
     "shell.execute_reply": "2022-05-26T18:22:04.836616Z"
    },
    "papermill": {
     "duration": 0.085145,
     "end_time": "2022-05-26T18:22:04.839778",
     "exception": false,
     "start_time": "2022-05-26T18:22:04.754633",
     "status": "completed"
    },
    "tags": []
   },
   "outputs": [
    {
     "data": {
      "text/html": [
       "<div>\n",
       "<style scoped>\n",
       "    .dataframe tbody tr th:only-of-type {\n",
       "        vertical-align: middle;\n",
       "    }\n",
       "\n",
       "    .dataframe tbody tr th {\n",
       "        vertical-align: top;\n",
       "    }\n",
       "\n",
       "    .dataframe thead th {\n",
       "        text-align: right;\n",
       "    }\n",
       "</style>\n",
       "<table border=\"1\" class=\"dataframe\">\n",
       "  <thead>\n",
       "    <tr style=\"text-align: right;\">\n",
       "      <th></th>\n",
       "      <th>id</th>\n",
       "      <th>keyword</th>\n",
       "      <th>location</th>\n",
       "      <th>text</th>\n",
       "      <th>target</th>\n",
       "    </tr>\n",
       "  </thead>\n",
       "  <tbody>\n",
       "    <tr>\n",
       "      <th>0</th>\n",
       "      <td>1</td>\n",
       "      <td>None</td>\n",
       "      <td>None</td>\n",
       "      <td>our deeds are the reason of this #earthquake m...</td>\n",
       "      <td>1.0</td>\n",
       "    </tr>\n",
       "    <tr>\n",
       "      <th>1</th>\n",
       "      <td>4</td>\n",
       "      <td>None</td>\n",
       "      <td>None</td>\n",
       "      <td>forest fire near la ronge sask. canada</td>\n",
       "      <td>1.0</td>\n",
       "    </tr>\n",
       "    <tr>\n",
       "      <th>2</th>\n",
       "      <td>5</td>\n",
       "      <td>None</td>\n",
       "      <td>None</td>\n",
       "      <td>all residents asked to 'shelter in place' are ...</td>\n",
       "      <td>1.0</td>\n",
       "    </tr>\n",
       "    <tr>\n",
       "      <th>3</th>\n",
       "      <td>6</td>\n",
       "      <td>None</td>\n",
       "      <td>None</td>\n",
       "      <td>13,000 people receive #wildfires evacuation or...</td>\n",
       "      <td>1.0</td>\n",
       "    </tr>\n",
       "    <tr>\n",
       "      <th>4</th>\n",
       "      <td>7</td>\n",
       "      <td>None</td>\n",
       "      <td>None</td>\n",
       "      <td>just got sent this photo from ruby #alaska as ...</td>\n",
       "      <td>1.0</td>\n",
       "    </tr>\n",
       "    <tr>\n",
       "      <th>...</th>\n",
       "      <td>...</td>\n",
       "      <td>...</td>\n",
       "      <td>...</td>\n",
       "      <td>...</td>\n",
       "      <td>...</td>\n",
       "    </tr>\n",
       "    <tr>\n",
       "      <th>3258</th>\n",
       "      <td>10861</td>\n",
       "      <td>None</td>\n",
       "      <td>None</td>\n",
       "      <td>earthquake safety los angeles ûò safety faste...</td>\n",
       "      <td>NaN</td>\n",
       "    </tr>\n",
       "    <tr>\n",
       "      <th>3259</th>\n",
       "      <td>10865</td>\n",
       "      <td>None</td>\n",
       "      <td>None</td>\n",
       "      <td>storm in ri worse than last hurricane. my city...</td>\n",
       "      <td>NaN</td>\n",
       "    </tr>\n",
       "    <tr>\n",
       "      <th>3260</th>\n",
       "      <td>10868</td>\n",
       "      <td>None</td>\n",
       "      <td>None</td>\n",
       "      <td>green line derailment in chicago http://t.co/u...</td>\n",
       "      <td>NaN</td>\n",
       "    </tr>\n",
       "    <tr>\n",
       "      <th>3261</th>\n",
       "      <td>10874</td>\n",
       "      <td>None</td>\n",
       "      <td>None</td>\n",
       "      <td>meg issues hazardous weather outlook (hwo) htt...</td>\n",
       "      <td>NaN</td>\n",
       "    </tr>\n",
       "    <tr>\n",
       "      <th>3262</th>\n",
       "      <td>10875</td>\n",
       "      <td>None</td>\n",
       "      <td>None</td>\n",
       "      <td>#cityofcalgary has activated its municipal eme...</td>\n",
       "      <td>NaN</td>\n",
       "    </tr>\n",
       "  </tbody>\n",
       "</table>\n",
       "<p>10876 rows × 5 columns</p>\n",
       "</div>"
      ],
      "text/plain": [
       "         id keyword location  \\\n",
       "0         1    None     None   \n",
       "1         4    None     None   \n",
       "2         5    None     None   \n",
       "3         6    None     None   \n",
       "4         7    None     None   \n",
       "...     ...     ...      ...   \n",
       "3258  10861    None     None   \n",
       "3259  10865    None     None   \n",
       "3260  10868    None     None   \n",
       "3261  10874    None     None   \n",
       "3262  10875    None     None   \n",
       "\n",
       "                                                   text  target  \n",
       "0     our deeds are the reason of this #earthquake m...     1.0  \n",
       "1                forest fire near la ronge sask. canada     1.0  \n",
       "2     all residents asked to 'shelter in place' are ...     1.0  \n",
       "3     13,000 people receive #wildfires evacuation or...     1.0  \n",
       "4     just got sent this photo from ruby #alaska as ...     1.0  \n",
       "...                                                 ...     ...  \n",
       "3258  earthquake safety los angeles ûò safety faste...     NaN  \n",
       "3259  storm in ri worse than last hurricane. my city...     NaN  \n",
       "3260  green line derailment in chicago http://t.co/u...     NaN  \n",
       "3261  meg issues hazardous weather outlook (hwo) htt...     NaN  \n",
       "3262  #cityofcalgary has activated its municipal eme...     NaN  \n",
       "\n",
       "[10876 rows x 5 columns]"
      ]
     },
     "execution_count": 19,
     "metadata": {},
     "output_type": "execute_result"
    }
   ],
   "source": [
    "df"
   ]
  },
  {
   "cell_type": "code",
   "execution_count": 20,
   "id": "a58a5ced",
   "metadata": {
    "execution": {
     "iopub.execute_input": "2022-05-26T18:22:04.973591Z",
     "iopub.status.busy": "2022-05-26T18:22:04.973247Z",
     "iopub.status.idle": "2022-05-26T18:22:17.136142Z",
     "shell.execute_reply": "2022-05-26T18:22:17.134941Z"
    },
    "papermill": {
     "duration": 12.234318,
     "end_time": "2022-05-26T18:22:17.139131",
     "exception": false,
     "start_time": "2022-05-26T18:22:04.904813",
     "status": "completed"
    },
    "tags": []
   },
   "outputs": [
    {
     "name": "stdout",
     "output_type": "stream",
     "text": [
      "5.852008125478557\n",
      "5.326301486818918\n",
      "89.98532558850505\n",
      "78.27567941040995\n",
      "15.885661877101803\n",
      "15.283740211883924\n"
     ]
    }
   ],
   "source": [
    "df['wordCount'] = df['text'].apply(lambda x: leng(x))\n",
    "dtrain['wordCount'] = dtrain['text'].apply(lambda x: leng(x))\n",
    "\n",
    "df['charCount'] = df['text'].apply(lambda x: char(x))\n",
    "dtrain['charCount'] = dtrain['text'].apply(lambda x: char(x))\n",
    "\n",
    "df['char/wrd'] = df['charCount']/df['wordCount']\n",
    "\n",
    "wrdcm = dtrain['wordCount'].mean()\n",
    "wrdcs = dtrain['wordCount'].std()\n",
    "\n",
    "chm = dtrain['charCount'].mean()\n",
    "chsd = dtrain['charCount'].std()\n",
    "\n",
    "\n",
    "print(df[df['target']==1]['char/wrd'].mean())\n",
    "print(df[df['target']==0]['char/wrd'].mean())\n",
    "\n",
    "print(df[df['target']==1]['charCount'].mean())\n",
    "print(df[df['target']==0]['charCount'].mean())\n",
    "\n",
    "print(df[df['target']==1]['wordCount'].mean())\n",
    "print(df[df['target']==0]['wordCount'].mean())\n",
    "\n",
    "#df['wordCount'] = (df['wordCount']-wrdcm)/wrdcs #standartised\n",
    "#df['charCount'] = (df['charCount']-chm)/chsd"
   ]
  },
  {
   "cell_type": "markdown",
   "id": "849e5da7",
   "metadata": {
    "papermill": {
     "duration": 0.066684,
     "end_time": "2022-05-26T18:22:17.275901",
     "exception": false,
     "start_time": "2022-05-26T18:22:17.209217",
     "status": "completed"
    },
    "tags": []
   },
   "source": [
    "Average word count is very similiar for both disaster and non disaster tweets but disaster tweets have more characters per words on average."
   ]
  },
  {
   "cell_type": "markdown",
   "id": "fdb6d564",
   "metadata": {
    "papermill": {
     "duration": 0.066634,
     "end_time": "2022-05-26T18:22:17.410282",
     "exception": false,
     "start_time": "2022-05-26T18:22:17.343648",
     "status": "completed"
    },
    "tags": []
   },
   "source": [
    "Next apply lemmatization"
   ]
  },
  {
   "cell_type": "code",
   "execution_count": 21,
   "id": "d3483351",
   "metadata": {
    "execution": {
     "iopub.execute_input": "2022-05-26T18:22:17.546917Z",
     "iopub.status.busy": "2022-05-26T18:22:17.545811Z",
     "iopub.status.idle": "2022-05-26T18:22:19.772024Z",
     "shell.execute_reply": "2022-05-26T18:22:19.770725Z"
    },
    "papermill": {
     "duration": 2.297342,
     "end_time": "2022-05-26T18:22:19.775232",
     "exception": false,
     "start_time": "2022-05-26T18:22:17.477890",
     "status": "completed"
    },
    "tags": []
   },
   "outputs": [
    {
     "name": "stdout",
     "output_type": "stream",
     "text": [
      "kites ---> kite\n",
      "babies ---> baby\n",
      "dogs ---> dog\n",
      "flying ---> flying\n",
      "smiling ---> smiling\n",
      "driving ---> driving\n",
      "died ---> died\n",
      "tried ---> tried\n",
      "feet ---> foot\n",
      "hands, birds cars\n"
     ]
    }
   ],
   "source": [
    "from nltk.stem import WordNetLemmatizer\n",
    "\n",
    "wl = WordNetLemmatizer()\n",
    " \n",
    "# single word lemmatization examples\n",
    "list1 = ['kites', 'babies', 'dogs', 'flying', 'smiling',\n",
    "         'driving', 'died', 'tried', 'feet']\n",
    "for words in list1:\n",
    "    print(words + \" ---> \" + wl.lemmatize(words))\n",
    "    \n",
    "print(wl.lemmatize('hands, birds cars'))"
   ]
  },
  {
   "cell_type": "code",
   "execution_count": 22,
   "id": "82974921",
   "metadata": {
    "execution": {
     "iopub.execute_input": "2022-05-26T18:22:19.913670Z",
     "iopub.status.busy": "2022-05-26T18:22:19.912745Z",
     "iopub.status.idle": "2022-05-26T18:22:19.921301Z",
     "shell.execute_reply": "2022-05-26T18:22:19.920481Z"
    },
    "papermill": {
     "duration": 0.080438,
     "end_time": "2022-05-26T18:22:19.923580",
     "exception": false,
     "start_time": "2022-05-26T18:22:19.843142",
     "status": "completed"
    },
    "tags": []
   },
   "outputs": [],
   "source": [
    "from nltk.corpus import wordnet\n",
    "def get_wordnet_pos(tag):\n",
    "    if tag.startswith('J'):\n",
    "        return wordnet.ADJ\n",
    "    elif tag.startswith('V'):\n",
    "        return wordnet.VERB\n",
    "    elif tag.startswith('N'):\n",
    "        return wordnet.NOUN\n",
    "    elif tag.startswith('R'):\n",
    "        return wordnet.ADV\n",
    "    else:\n",
    "        return wordnet.NOUN\n",
    "\n",
    "def lemmatizer(string):\n",
    "    word_pos_tags = nltk.pos_tag(word_tokenize(string)) # Get position tags\n",
    "    a=[wl.lemmatize(tag[0], get_wordnet_pos(tag[1])) for idx, tag in enumerate(word_pos_tags)] # Map the position tag and lemmatize the word/token\n",
    "    return \" \".join(a)"
   ]
  },
  {
   "cell_type": "code",
   "execution_count": 23,
   "id": "35a9f35c",
   "metadata": {
    "execution": {
     "iopub.execute_input": "2022-05-26T18:22:20.062725Z",
     "iopub.status.busy": "2022-05-26T18:22:20.061253Z",
     "iopub.status.idle": "2022-05-26T18:22:34.863381Z",
     "shell.execute_reply": "2022-05-26T18:22:34.862305Z"
    },
    "papermill": {
     "duration": 14.87511,
     "end_time": "2022-05-26T18:22:34.866249",
     "exception": false,
     "start_time": "2022-05-26T18:22:19.991139",
     "status": "completed"
    },
    "tags": []
   },
   "outputs": [],
   "source": [
    "df['text'] = df['text'].apply(lambda x: clean_text(x))\n",
    "df['text'] = df['text'].apply(lambda x: lemmatizer(x))"
   ]
  },
  {
   "cell_type": "markdown",
   "id": "ee0f778b",
   "metadata": {
    "papermill": {
     "duration": 0.06681,
     "end_time": "2022-05-26T18:22:34.999607",
     "exception": false,
     "start_time": "2022-05-26T18:22:34.932797",
     "status": "completed"
    },
    "tags": []
   },
   "source": [
    "Next we can add the dummie columns"
   ]
  },
  {
   "cell_type": "code",
   "execution_count": 24,
   "id": "ac8e320b",
   "metadata": {
    "execution": {
     "iopub.execute_input": "2022-05-26T18:22:35.134873Z",
     "iopub.status.busy": "2022-05-26T18:22:35.134417Z",
     "iopub.status.idle": "2022-05-26T18:22:35.161627Z",
     "shell.execute_reply": "2022-05-26T18:22:35.161002Z"
    },
    "papermill": {
     "duration": 0.096617,
     "end_time": "2022-05-26T18:22:35.163505",
     "exception": false,
     "start_time": "2022-05-26T18:22:35.066888",
     "status": "completed"
    },
    "tags": []
   },
   "outputs": [
    {
     "data": {
      "text/html": [
       "<div>\n",
       "<style scoped>\n",
       "    .dataframe tbody tr th:only-of-type {\n",
       "        vertical-align: middle;\n",
       "    }\n",
       "\n",
       "    .dataframe tbody tr th {\n",
       "        vertical-align: top;\n",
       "    }\n",
       "\n",
       "    .dataframe thead th {\n",
       "        text-align: right;\n",
       "    }\n",
       "</style>\n",
       "<table border=\"1\" class=\"dataframe\">\n",
       "  <thead>\n",
       "    <tr style=\"text-align: right;\">\n",
       "      <th></th>\n",
       "      <th>id</th>\n",
       "      <th>keyword</th>\n",
       "      <th>location</th>\n",
       "      <th>text</th>\n",
       "      <th>target</th>\n",
       "      <th>wordCount</th>\n",
       "      <th>charCount</th>\n",
       "      <th>char/wrd</th>\n",
       "      <th>304</th>\n",
       "      <th>Atlanta, GA</th>\n",
       "      <th>...</th>\n",
       "      <th>weapons</th>\n",
       "      <th>whirlwind</th>\n",
       "      <th>wild%20fires</th>\n",
       "      <th>wildfire</th>\n",
       "      <th>windstorm</th>\n",
       "      <th>wounded</th>\n",
       "      <th>wounds</th>\n",
       "      <th>wreck</th>\n",
       "      <th>wreckage</th>\n",
       "      <th>wrecked</th>\n",
       "    </tr>\n",
       "  </thead>\n",
       "  <tbody>\n",
       "    <tr>\n",
       "      <th>0</th>\n",
       "      <td>1</td>\n",
       "      <td>None</td>\n",
       "      <td>None</td>\n",
       "      <td>our deed be the reason of this earthquake may ...</td>\n",
       "      <td>1.0</td>\n",
       "      <td>13</td>\n",
       "      <td>56</td>\n",
       "      <td>4.307692</td>\n",
       "      <td>0</td>\n",
       "      <td>0</td>\n",
       "      <td>...</td>\n",
       "      <td>0</td>\n",
       "      <td>0</td>\n",
       "      <td>0</td>\n",
       "      <td>0</td>\n",
       "      <td>0</td>\n",
       "      <td>0</td>\n",
       "      <td>0</td>\n",
       "      <td>0</td>\n",
       "      <td>0</td>\n",
       "      <td>0</td>\n",
       "    </tr>\n",
       "    <tr>\n",
       "      <th>1</th>\n",
       "      <td>4</td>\n",
       "      <td>None</td>\n",
       "      <td>None</td>\n",
       "      <td>forest fire near la ronge sask canada</td>\n",
       "      <td>1.0</td>\n",
       "      <td>7</td>\n",
       "      <td>31</td>\n",
       "      <td>4.428571</td>\n",
       "      <td>0</td>\n",
       "      <td>0</td>\n",
       "      <td>...</td>\n",
       "      <td>0</td>\n",
       "      <td>0</td>\n",
       "      <td>0</td>\n",
       "      <td>0</td>\n",
       "      <td>0</td>\n",
       "      <td>0</td>\n",
       "      <td>0</td>\n",
       "      <td>0</td>\n",
       "      <td>0</td>\n",
       "      <td>0</td>\n",
       "    </tr>\n",
       "    <tr>\n",
       "      <th>2</th>\n",
       "      <td>5</td>\n",
       "      <td>None</td>\n",
       "      <td>None</td>\n",
       "      <td>all resident ask to shelter in place be be not...</td>\n",
       "      <td>1.0</td>\n",
       "      <td>22</td>\n",
       "      <td>110</td>\n",
       "      <td>5.000000</td>\n",
       "      <td>0</td>\n",
       "      <td>0</td>\n",
       "      <td>...</td>\n",
       "      <td>0</td>\n",
       "      <td>0</td>\n",
       "      <td>0</td>\n",
       "      <td>0</td>\n",
       "      <td>0</td>\n",
       "      <td>0</td>\n",
       "      <td>0</td>\n",
       "      <td>0</td>\n",
       "      <td>0</td>\n",
       "      <td>0</td>\n",
       "    </tr>\n",
       "    <tr>\n",
       "      <th>3</th>\n",
       "      <td>6</td>\n",
       "      <td>None</td>\n",
       "      <td>None</td>\n",
       "      <td>13000 people receive wildfire evacuation order...</td>\n",
       "      <td>1.0</td>\n",
       "      <td>8</td>\n",
       "      <td>56</td>\n",
       "      <td>7.000000</td>\n",
       "      <td>0</td>\n",
       "      <td>0</td>\n",
       "      <td>...</td>\n",
       "      <td>0</td>\n",
       "      <td>0</td>\n",
       "      <td>0</td>\n",
       "      <td>0</td>\n",
       "      <td>0</td>\n",
       "      <td>0</td>\n",
       "      <td>0</td>\n",
       "      <td>0</td>\n",
       "      <td>0</td>\n",
       "      <td>0</td>\n",
       "    </tr>\n",
       "    <tr>\n",
       "      <th>4</th>\n",
       "      <td>7</td>\n",
       "      <td>None</td>\n",
       "      <td>None</td>\n",
       "      <td>just get send this photo from ruby alaska a sm...</td>\n",
       "      <td>1.0</td>\n",
       "      <td>16</td>\n",
       "      <td>70</td>\n",
       "      <td>4.375000</td>\n",
       "      <td>0</td>\n",
       "      <td>0</td>\n",
       "      <td>...</td>\n",
       "      <td>0</td>\n",
       "      <td>0</td>\n",
       "      <td>0</td>\n",
       "      <td>0</td>\n",
       "      <td>0</td>\n",
       "      <td>0</td>\n",
       "      <td>0</td>\n",
       "      <td>0</td>\n",
       "      <td>0</td>\n",
       "      <td>0</td>\n",
       "    </tr>\n",
       "  </tbody>\n",
       "</table>\n",
       "<p>5 rows × 274 columns</p>\n",
       "</div>"
      ],
      "text/plain": [
       "   id keyword location                                               text  \\\n",
       "0   1    None     None  our deed be the reason of this earthquake may ...   \n",
       "1   4    None     None              forest fire near la ronge sask canada   \n",
       "2   5    None     None  all resident ask to shelter in place be be not...   \n",
       "3   6    None     None  13000 people receive wildfire evacuation order...   \n",
       "4   7    None     None  just get send this photo from ruby alaska a sm...   \n",
       "\n",
       "   target  wordCount  charCount  char/wrd  304  Atlanta, GA  ...  weapons  \\\n",
       "0     1.0         13         56  4.307692    0            0  ...        0   \n",
       "1     1.0          7         31  4.428571    0            0  ...        0   \n",
       "2     1.0         22        110  5.000000    0            0  ...        0   \n",
       "3     1.0          8         56  7.000000    0            0  ...        0   \n",
       "4     1.0         16         70  4.375000    0            0  ...        0   \n",
       "\n",
       "   whirlwind  wild%20fires  wildfire  windstorm  wounded  wounds  wreck  \\\n",
       "0          0             0         0          0        0       0      0   \n",
       "1          0             0         0          0        0       0      0   \n",
       "2          0             0         0          0        0       0      0   \n",
       "3          0             0         0          0        0       0      0   \n",
       "4          0             0         0          0        0       0      0   \n",
       "\n",
       "   wreckage  wrecked  \n",
       "0         0        0  \n",
       "1         0        0  \n",
       "2         0        0  \n",
       "3         0        0  \n",
       "4         0        0  \n",
       "\n",
       "[5 rows x 274 columns]"
      ]
     },
     "execution_count": 24,
     "metadata": {},
     "output_type": "execute_result"
    }
   ],
   "source": [
    "df = pd.concat((df, dummies), axis=1)\n",
    "df = pd.concat((df, dummies1), axis=1)\n",
    "\n",
    "df.head()"
   ]
  },
  {
   "cell_type": "markdown",
   "id": "4fe9af72",
   "metadata": {
    "papermill": {
     "duration": 0.069404,
     "end_time": "2022-05-26T18:22:35.299156",
     "exception": false,
     "start_time": "2022-05-26T18:22:35.229752",
     "status": "completed"
    },
    "tags": []
   },
   "source": [
    "For later use we define the feature columns as all columns other than 'id', 'keyword', 'target', 'text', 'location'"
   ]
  },
  {
   "cell_type": "code",
   "execution_count": 25,
   "id": "8680cf60",
   "metadata": {
    "execution": {
     "iopub.execute_input": "2022-05-26T18:22:35.435652Z",
     "iopub.status.busy": "2022-05-26T18:22:35.435194Z",
     "iopub.status.idle": "2022-05-26T18:22:35.439789Z",
     "shell.execute_reply": "2022-05-26T18:22:35.439043Z"
    },
    "papermill": {
     "duration": 0.075309,
     "end_time": "2022-05-26T18:22:35.441880",
     "exception": false,
     "start_time": "2022-05-26T18:22:35.366571",
     "status": "completed"
    },
    "tags": []
   },
   "outputs": [],
   "source": [
    "features = df.columns.drop(['id','keyword','target', 'text', 'location'])"
   ]
  },
  {
   "cell_type": "markdown",
   "id": "3ca5f53b",
   "metadata": {
    "papermill": {
     "duration": 0.067141,
     "end_time": "2022-05-26T18:22:35.578195",
     "exception": false,
     "start_time": "2022-05-26T18:22:35.511054",
     "status": "completed"
    },
    "tags": []
   },
   "source": [
    "4.) Text Vectorization: This will be done using TfidfVectorizer "
   ]
  },
  {
   "cell_type": "code",
   "execution_count": 26,
   "id": "46768d60",
   "metadata": {
    "execution": {
     "iopub.execute_input": "2022-05-26T18:22:35.715724Z",
     "iopub.status.busy": "2022-05-26T18:22:35.714470Z",
     "iopub.status.idle": "2022-05-26T18:22:35.720435Z",
     "shell.execute_reply": "2022-05-26T18:22:35.719809Z"
    },
    "papermill": {
     "duration": 0.077015,
     "end_time": "2022-05-26T18:22:35.722532",
     "exception": false,
     "start_time": "2022-05-26T18:22:35.645517",
     "status": "completed"
    },
    "tags": []
   },
   "outputs": [],
   "source": [
    "stpwrdlist=['the', 'a', 'an']#Custom list of stopwords \n",
    "vectorizer = TfidfVectorizer(max_df=0.9, min_df=0.001, stop_words=stpwrdlist, ngram_range=(1,3)) #stop_words=stpwrdlist"
   ]
  },
  {
   "cell_type": "markdown",
   "id": "d5ad5321",
   "metadata": {
    "papermill": {
     "duration": 0.06812,
     "end_time": "2022-05-26T18:22:35.858490",
     "exception": false,
     "start_time": "2022-05-26T18:22:35.790370",
     "status": "completed"
    },
    "tags": []
   },
   "source": [
    "Split df into train and test set:"
   ]
  },
  {
   "cell_type": "code",
   "execution_count": 27,
   "id": "c5cdc8a8",
   "metadata": {
    "execution": {
     "iopub.execute_input": "2022-05-26T18:22:35.997038Z",
     "iopub.status.busy": "2022-05-26T18:22:35.996398Z",
     "iopub.status.idle": "2022-05-26T18:22:36.040539Z",
     "shell.execute_reply": "2022-05-26T18:22:36.039341Z"
    },
    "papermill": {
     "duration": 0.116619,
     "end_time": "2022-05-26T18:22:36.043545",
     "exception": false,
     "start_time": "2022-05-26T18:22:35.926926",
     "status": "completed"
    },
    "tags": []
   },
   "outputs": [],
   "source": [
    "train = df[df['target'].notna()]\n",
    "test =df[df['target'].isna()]\n",
    "y = train['target']\n",
    "train = train.drop('target', axis=1)"
   ]
  },
  {
   "cell_type": "markdown",
   "id": "d4d8eec9",
   "metadata": {
    "papermill": {
     "duration": 0.066908,
     "end_time": "2022-05-26T18:22:36.180307",
     "exception": false,
     "start_time": "2022-05-26T18:22:36.113399",
     "status": "completed"
    },
    "tags": []
   },
   "source": [
    "Fit vectorizer and transform test set"
   ]
  },
  {
   "cell_type": "code",
   "execution_count": 28,
   "id": "72d1be3f",
   "metadata": {
    "execution": {
     "iopub.execute_input": "2022-05-26T18:22:36.316870Z",
     "iopub.status.busy": "2022-05-26T18:22:36.316589Z",
     "iopub.status.idle": "2022-05-26T18:22:36.979668Z",
     "shell.execute_reply": "2022-05-26T18:22:36.978585Z"
    },
    "papermill": {
     "duration": 0.735258,
     "end_time": "2022-05-26T18:22:36.982679",
     "exception": false,
     "start_time": "2022-05-26T18:22:36.247421",
     "status": "completed"
    },
    "tags": []
   },
   "outputs": [],
   "source": [
    "X = vectorizer.fit_transform(train['text'])\n",
    "\n",
    "X_test = vectorizer.transform(test['text'])"
   ]
  },
  {
   "cell_type": "markdown",
   "id": "2f22aa8d",
   "metadata": {
    "papermill": {
     "duration": 0.068586,
     "end_time": "2022-05-26T18:22:37.119708",
     "exception": false,
     "start_time": "2022-05-26T18:22:37.051122",
     "status": "completed"
    },
    "tags": []
   },
   "source": [
    "5.) Concatenate features from vectorizer with previous features"
   ]
  },
  {
   "cell_type": "code",
   "execution_count": 29,
   "id": "cdbc8c7f",
   "metadata": {
    "execution": {
     "iopub.execute_input": "2022-05-26T18:22:37.255865Z",
     "iopub.status.busy": "2022-05-26T18:22:37.255551Z",
     "iopub.status.idle": "2022-05-26T18:22:37.826231Z",
     "shell.execute_reply": "2022-05-26T18:22:37.825049Z"
    },
    "papermill": {
     "duration": 0.642084,
     "end_time": "2022-05-26T18:22:37.828857",
     "exception": false,
     "start_time": "2022-05-26T18:22:37.186773",
     "status": "completed"
    },
    "tags": []
   },
   "outputs": [],
   "source": [
    "X = np.concatenate((X.toarray(), train[features]), axis=1)\n",
    "\n",
    "X_test = np.concatenate((X_test.toarray(), test[features]), axis=1)"
   ]
  },
  {
   "cell_type": "markdown",
   "id": "47691555",
   "metadata": {
    "papermill": {
     "duration": 0.06699,
     "end_time": "2022-05-26T18:22:37.963005",
     "exception": false,
     "start_time": "2022-05-26T18:22:37.896015",
     "status": "completed"
    },
    "tags": []
   },
   "source": [
    "Split train data into train and validation data"
   ]
  },
  {
   "cell_type": "code",
   "execution_count": 30,
   "id": "46faae01",
   "metadata": {
    "execution": {
     "iopub.execute_input": "2022-05-26T18:22:38.101355Z",
     "iopub.status.busy": "2022-05-26T18:22:38.101008Z",
     "iopub.status.idle": "2022-05-26T18:22:38.244923Z",
     "shell.execute_reply": "2022-05-26T18:22:38.243895Z"
    },
    "papermill": {
     "duration": 0.216999,
     "end_time": "2022-05-26T18:22:38.247586",
     "exception": false,
     "start_time": "2022-05-26T18:22:38.030587",
     "status": "completed"
    },
    "tags": []
   },
   "outputs": [],
   "source": [
    "X_t, X_v, y_t, y_v = train_test_split(X, y, test_size=0.2, random_state=10)"
   ]
  },
  {
   "cell_type": "markdown",
   "id": "07503733",
   "metadata": {
    "papermill": {
     "duration": 0.066906,
     "end_time": "2022-05-26T18:22:38.382099",
     "exception": false,
     "start_time": "2022-05-26T18:22:38.315193",
     "status": "completed"
    },
    "tags": []
   },
   "source": [
    "**Build Neural Network**"
   ]
  },
  {
   "cell_type": "code",
   "execution_count": 31,
   "id": "571304d0",
   "metadata": {
    "execution": {
     "iopub.execute_input": "2022-05-26T18:22:38.518118Z",
     "iopub.status.busy": "2022-05-26T18:22:38.517531Z",
     "iopub.status.idle": "2022-05-26T18:22:38.521285Z",
     "shell.execute_reply": "2022-05-26T18:22:38.520652Z"
    },
    "papermill": {
     "duration": 0.074028,
     "end_time": "2022-05-26T18:22:38.523167",
     "exception": false,
     "start_time": "2022-05-26T18:22:38.449139",
     "status": "completed"
    },
    "tags": []
   },
   "outputs": [],
   "source": [
    "from keras.models import Sequential\n",
    "from keras.layers import Dense\n",
    "#from keras.callbacks import EarlyStopping"
   ]
  },
  {
   "cell_type": "code",
   "execution_count": 32,
   "id": "7d907615",
   "metadata": {
    "execution": {
     "iopub.execute_input": "2022-05-26T18:22:38.659603Z",
     "iopub.status.busy": "2022-05-26T18:22:38.659091Z",
     "iopub.status.idle": "2022-05-26T18:22:38.663856Z",
     "shell.execute_reply": "2022-05-26T18:22:38.663231Z"
    },
    "papermill": {
     "duration": 0.075247,
     "end_time": "2022-05-26T18:22:38.665853",
     "exception": false,
     "start_time": "2022-05-26T18:22:38.590606",
     "status": "completed"
    },
    "tags": []
   },
   "outputs": [
    {
     "data": {
      "text/plain": [
       "(7613, 3376)"
      ]
     },
     "execution_count": 32,
     "metadata": {},
     "output_type": "execute_result"
    }
   ],
   "source": [
    "X.shape"
   ]
  },
  {
   "cell_type": "code",
   "execution_count": 33,
   "id": "4711c766",
   "metadata": {
    "execution": {
     "iopub.execute_input": "2022-05-26T18:22:38.805839Z",
     "iopub.status.busy": "2022-05-26T18:22:38.805521Z",
     "iopub.status.idle": "2022-05-26T18:22:39.176042Z",
     "shell.execute_reply": "2022-05-26T18:22:39.175211Z"
    },
    "papermill": {
     "duration": 0.442835,
     "end_time": "2022-05-26T18:22:39.178740",
     "exception": false,
     "start_time": "2022-05-26T18:22:38.735905",
     "status": "completed"
    },
    "tags": []
   },
   "outputs": [
    {
     "name": "stderr",
     "output_type": "stream",
     "text": [
      "2022-05-26 18:22:38.843291: I tensorflow/core/common_runtime/process_util.cc:146] Creating new thread pool with default inter op setting: 2. Tune using inter_op_parallelism_threads for best performance.\n"
     ]
    }
   ],
   "source": [
    "model = Sequential()\n",
    "\n",
    "#early_stopping_monitor = EarlyStopping(patience=1)\n",
    "model.add(Dense(5, input_shape=(3376,)))\n",
    "model.add(Dense(32, activation='sigmoid'))\n",
    "model.add(Dense(32, activation='sigmoid'))\n",
    "#model.add(Dense(32, activation='leaky_relu'))\n",
    "model.add(Dense(1, activation='sigmoid'))"
   ]
  },
  {
   "cell_type": "code",
   "execution_count": 34,
   "id": "56cf9755",
   "metadata": {
    "execution": {
     "iopub.execute_input": "2022-05-26T18:22:39.315207Z",
     "iopub.status.busy": "2022-05-26T18:22:39.314452Z",
     "iopub.status.idle": "2022-05-26T18:22:39.323335Z",
     "shell.execute_reply": "2022-05-26T18:22:39.321630Z"
    },
    "papermill": {
     "duration": 0.079313,
     "end_time": "2022-05-26T18:22:39.325533",
     "exception": false,
     "start_time": "2022-05-26T18:22:39.246220",
     "status": "completed"
    },
    "tags": []
   },
   "outputs": [
    {
     "name": "stdout",
     "output_type": "stream",
     "text": [
      "Model: \"sequential\"\n",
      "_________________________________________________________________\n",
      "Layer (type)                 Output Shape              Param #   \n",
      "=================================================================\n",
      "dense (Dense)                (None, 5)                 16885     \n",
      "_________________________________________________________________\n",
      "dense_1 (Dense)              (None, 32)                192       \n",
      "_________________________________________________________________\n",
      "dense_2 (Dense)              (None, 32)                1056      \n",
      "_________________________________________________________________\n",
      "dense_3 (Dense)              (None, 1)                 33        \n",
      "=================================================================\n",
      "Total params: 18,166\n",
      "Trainable params: 18,166\n",
      "Non-trainable params: 0\n",
      "_________________________________________________________________\n"
     ]
    }
   ],
   "source": [
    "model.summary()"
   ]
  },
  {
   "cell_type": "code",
   "execution_count": 35,
   "id": "fea949fe",
   "metadata": {
    "execution": {
     "iopub.execute_input": "2022-05-26T18:22:39.464511Z",
     "iopub.status.busy": "2022-05-26T18:22:39.464207Z",
     "iopub.status.idle": "2022-05-26T18:22:39.936977Z",
     "shell.execute_reply": "2022-05-26T18:22:39.935808Z"
    },
    "papermill": {
     "duration": 0.544888,
     "end_time": "2022-05-26T18:22:39.939802",
     "exception": false,
     "start_time": "2022-05-26T18:22:39.394914",
     "status": "completed"
    },
    "tags": []
   },
   "outputs": [],
   "source": [
    "opt = tf.keras.optimizers.Adam(0.001) #tf.keras.optimizers.SGD(learning_rate=0.1, momentum=1) \n",
    "\n",
    "model.compile(optimizer=opt, loss='binary_crossentropy', metrics=['accuracy'])"
   ]
  },
  {
   "cell_type": "code",
   "execution_count": 36,
   "id": "7b9098e4",
   "metadata": {
    "execution": {
     "iopub.execute_input": "2022-05-26T18:22:40.080461Z",
     "iopub.status.busy": "2022-05-26T18:22:40.080141Z",
     "iopub.status.idle": "2022-05-26T18:22:43.906641Z",
     "shell.execute_reply": "2022-05-26T18:22:43.905452Z"
    },
    "papermill": {
     "duration": 3.899151,
     "end_time": "2022-05-26T18:22:43.908911",
     "exception": false,
     "start_time": "2022-05-26T18:22:40.009760",
     "status": "completed"
    },
    "tags": []
   },
   "outputs": [
    {
     "name": "stderr",
     "output_type": "stream",
     "text": [
      "2022-05-26 18:22:40.351162: I tensorflow/compiler/mlir/mlir_graph_optimization_pass.cc:185] None of the MLIR Optimization Passes are enabled (registered 2)\n"
     ]
    },
    {
     "name": "stdout",
     "output_type": "stream",
     "text": [
      "Epoch 1/7\n",
      "122/122 [==============================] - 1s 3ms/step - loss: 0.6869 - accuracy: 0.5560\n",
      "Epoch 2/7\n",
      "122/122 [==============================] - 0s 3ms/step - loss: 0.6656 - accuracy: 0.5810\n",
      "Epoch 3/7\n",
      "122/122 [==============================] - 0s 3ms/step - loss: 0.6160 - accuracy: 0.6673\n",
      "Epoch 4/7\n",
      "122/122 [==============================] - 0s 3ms/step - loss: 0.5319 - accuracy: 0.7555\n",
      "Epoch 5/7\n",
      "122/122 [==============================] - 0s 3ms/step - loss: 0.4527 - accuracy: 0.8044\n",
      "Epoch 6/7\n",
      "122/122 [==============================] - 0s 3ms/step - loss: 0.4014 - accuracy: 0.8314\n",
      "Epoch 7/7\n",
      "122/122 [==============================] - 0s 3ms/step - loss: 0.3779 - accuracy: 0.8425\n"
     ]
    }
   ],
   "source": [
    "h_callback = model.fit(X_t, y_t, epochs=7, batch_size=50)"
   ]
  },
  {
   "cell_type": "code",
   "execution_count": 37,
   "id": "d131885d",
   "metadata": {
    "execution": {
     "iopub.execute_input": "2022-05-26T18:22:44.095129Z",
     "iopub.status.busy": "2022-05-26T18:22:44.094351Z",
     "iopub.status.idle": "2022-05-26T18:22:44.312622Z",
     "shell.execute_reply": "2022-05-26T18:22:44.311754Z"
    },
    "papermill": {
     "duration": 0.316672,
     "end_time": "2022-05-26T18:22:44.316983",
     "exception": false,
     "start_time": "2022-05-26T18:22:44.000311",
     "status": "completed"
    },
    "tags": []
   },
   "outputs": [
    {
     "data": {
      "image/png": "[encoded data removed]",
      "text/plain": [
       "<Figure size 432x288 with 1 Axes>"
      ]
     },
     "metadata": {
      "needs_background": "light"
     },
     "output_type": "display_data"
    }
   ],
   "source": [
    "plt.plot( h_callback.history['accuracy'])\n",
    "#plt.plot( h_callback.history['val_accuracy'])\n",
    "plt.show()"
   ]
  },
  {
   "cell_type": "code",
   "execution_count": 38,
   "id": "d77f50d5",
   "metadata": {
    "execution": {
     "iopub.execute_input": "2022-05-26T18:22:44.508421Z",
     "iopub.status.busy": "2022-05-26T18:22:44.507978Z",
     "iopub.status.idle": "2022-05-26T18:22:44.854512Z",
     "shell.execute_reply": "2022-05-26T18:22:44.852928Z"
    },
    "papermill": {
     "duration": 0.445021,
     "end_time": "2022-05-26T18:22:44.856563",
     "exception": false,
     "start_time": "2022-05-26T18:22:44.411542",
     "status": "completed"
    },
    "tags": []
   },
   "outputs": [
    {
     "name": "stdout",
     "output_type": "stream",
     "text": [
      "48/48 [==============================] - 0s 2ms/step - loss: 0.4330 - accuracy: 0.8024\n"
     ]
    },
    {
     "data": {
      "text/plain": [
       "[0.4329671561717987, 0.8023637533187866]"
      ]
     },
     "execution_count": 38,
     "metadata": {},
     "output_type": "execute_result"
    }
   ],
   "source": [
    "model.evaluate(X_v, y_v)"
   ]
  },
  {
   "cell_type": "markdown",
   "id": "05fbd7b5",
   "metadata": {
    "papermill": {
     "duration": 0.095789,
     "end_time": "2022-05-26T18:22:45.047276",
     "exception": false,
     "start_time": "2022-05-26T18:22:44.951487",
     "status": "completed"
    },
    "tags": []
   },
   "source": [
    "The model seems to perform reasonably well. To get a final prediction we will fit it again to the whole testing data"
   ]
  },
  {
   "cell_type": "code",
   "execution_count": 39,
   "id": "25d12bfd",
   "metadata": {
    "execution": {
     "iopub.execute_input": "2022-05-26T18:22:45.239905Z",
     "iopub.status.busy": "2022-05-26T18:22:45.239440Z",
     "iopub.status.idle": "2022-05-26T18:22:45.244887Z",
     "shell.execute_reply": "2022-05-26T18:22:45.244305Z"
    },
    "papermill": {
     "duration": 0.103086,
     "end_time": "2022-05-26T18:22:45.246641",
     "exception": false,
     "start_time": "2022-05-26T18:22:45.143555",
     "status": "completed"
    },
    "tags": []
   },
   "outputs": [
    {
     "data": {
      "text/plain": [
       "(7613, 3376)"
      ]
     },
     "execution_count": 39,
     "metadata": {},
     "output_type": "execute_result"
    }
   ],
   "source": [
    "X.shape"
   ]
  },
  {
   "cell_type": "code",
   "execution_count": 40,
   "id": "131dd4a7",
   "metadata": {
    "execution": {
     "iopub.execute_input": "2022-05-26T18:22:45.437530Z",
     "iopub.status.busy": "2022-05-26T18:22:45.436331Z",
     "iopub.status.idle": "2022-05-26T18:22:45.485640Z",
     "shell.execute_reply": "2022-05-26T18:22:45.484615Z"
    },
    "papermill": {
     "duration": 0.147604,
     "end_time": "2022-05-26T18:22:45.488598",
     "exception": false,
     "start_time": "2022-05-26T18:22:45.340994",
     "status": "completed"
    },
    "tags": []
   },
   "outputs": [],
   "source": [
    "model1 = Sequential()\n",
    "\n",
    "#early_stopping_monitor = EarlyStopping(patience=1)\n",
    "model1.add(Dense(5, input_shape=(3376,)))\n",
    "model1.add(Dense(32, activation='sigmoid'))\n",
    "model1.add(Dense(32, activation='sigmoid'))\n",
    "model1.add(Dense(1, activation='sigmoid'))\n",
    "\n",
    "model1.compile(optimizer=opt, loss='binary_crossentropy', metrics=['accuracy'])"
   ]
  },
  {
   "cell_type": "code",
   "execution_count": 41,
   "id": "ad11ff6e",
   "metadata": {
    "execution": {
     "iopub.execute_input": "2022-05-26T18:22:45.682386Z",
     "iopub.status.busy": "2022-05-26T18:22:45.682069Z",
     "iopub.status.idle": "2022-05-26T18:22:49.794156Z",
     "shell.execute_reply": "2022-05-26T18:22:49.793325Z"
    },
    "papermill": {
     "duration": 4.210933,
     "end_time": "2022-05-26T18:22:49.796179",
     "exception": false,
     "start_time": "2022-05-26T18:22:45.585246",
     "status": "completed"
    },
    "tags": []
   },
   "outputs": [
    {
     "name": "stdout",
     "output_type": "stream",
     "text": [
      "Epoch 1/7\n",
      "153/153 [==============================] - 1s 3ms/step - loss: 0.6790 - accuracy: 0.5707\n",
      "Epoch 2/7\n",
      "153/153 [==============================] - 0s 3ms/step - loss: 0.5358 - accuracy: 0.7436\n",
      "Epoch 3/7\n",
      "153/153 [==============================] - 0s 3ms/step - loss: 0.4325 - accuracy: 0.8102\n",
      "Epoch 4/7\n",
      "153/153 [==============================] - 0s 3ms/step - loss: 0.3885 - accuracy: 0.8342\n",
      "Epoch 5/7\n",
      "153/153 [==============================] - 0s 3ms/step - loss: 0.3775 - accuracy: 0.8391\n",
      "Epoch 6/7\n",
      "153/153 [==============================] - 0s 3ms/step - loss: 0.3548 - accuracy: 0.8524\n",
      "Epoch 7/7\n",
      "153/153 [==============================] - 0s 3ms/step - loss: 0.3420 - accuracy: 0.8585\n"
     ]
    },
    {
     "data": {
      "text/plain": [
       "<keras.callbacks.History at 0x7fd4655a9150>"
      ]
     },
     "execution_count": 41,
     "metadata": {},
     "output_type": "execute_result"
    }
   ],
   "source": [
    "model1.fit(X, dtrain['target'], epochs=7, batch_size=50)"
   ]
  },
  {
   "cell_type": "code",
   "execution_count": 42,
   "id": "5d47e732",
   "metadata": {
    "execution": {
     "iopub.execute_input": "2022-05-26T18:22:50.040194Z",
     "iopub.status.busy": "2022-05-26T18:22:50.039476Z",
     "iopub.status.idle": "2022-05-26T18:22:50.737991Z",
     "shell.execute_reply": "2022-05-26T18:22:50.736798Z"
    },
    "papermill": {
     "duration": 0.823368,
     "end_time": "2022-05-26T18:22:50.740815",
     "exception": false,
     "start_time": "2022-05-26T18:22:49.917447",
     "status": "completed"
    },
    "tags": []
   },
   "outputs": [],
   "source": [
    "pred1 = np.round(model1.predict(X))"
   ]
  },
  {
   "cell_type": "code",
   "execution_count": 43,
   "id": "a2a645ad",
   "metadata": {
    "execution": {
     "iopub.execute_input": "2022-05-26T18:22:50.987281Z",
     "iopub.status.busy": "2022-05-26T18:22:50.987015Z",
     "iopub.status.idle": "2022-05-26T18:22:50.992798Z",
     "shell.execute_reply": "2022-05-26T18:22:50.992021Z"
    },
    "papermill": {
     "duration": 0.13152,
     "end_time": "2022-05-26T18:22:50.995338",
     "exception": false,
     "start_time": "2022-05-26T18:22:50.863818",
     "status": "completed"
    },
    "tags": []
   },
   "outputs": [
    {
     "data": {
      "text/plain": [
       "array([[0.],\n",
       "       [1.],\n",
       "       [1.],\n",
       "       ...,\n",
       "       [1.],\n",
       "       [1.],\n",
       "       [1.]], dtype=float32)"
      ]
     },
     "execution_count": 43,
     "metadata": {},
     "output_type": "execute_result"
    }
   ],
   "source": [
    "pred1"
   ]
  },
  {
   "cell_type": "code",
   "execution_count": 44,
   "id": "b5b07a1c",
   "metadata": {
    "execution": {
     "iopub.execute_input": "2022-05-26T18:22:51.298905Z",
     "iopub.status.busy": "2022-05-26T18:22:51.298662Z",
     "iopub.status.idle": "2022-05-26T18:22:51.312822Z",
     "shell.execute_reply": "2022-05-26T18:22:51.311877Z"
    },
    "papermill": {
     "duration": 0.167029,
     "end_time": "2022-05-26T18:22:51.315089",
     "exception": false,
     "start_time": "2022-05-26T18:22:51.148060",
     "status": "completed"
    },
    "tags": []
   },
   "outputs": [
    {
     "name": "stdout",
     "output_type": "stream",
     "text": [
      "0.8399161695953571\n",
      "[[4015  327]\n",
      " [ 666 2605]]\n"
     ]
    }
   ],
   "source": [
    "from sklearn.metrics import f1_score, confusion_matrix\n",
    "\n",
    "print(f1_score(dtrain['target'], pred1))\n",
    "print(confusion_matrix(dtrain['target'], pred1))"
   ]
  },
  {
   "cell_type": "markdown",
   "id": "5416f859",
   "metadata": {
    "papermill": {
     "duration": 0.123278,
     "end_time": "2022-05-26T18:22:51.584645",
     "exception": false,
     "start_time": "2022-05-26T18:22:51.461367",
     "status": "completed"
    },
    "tags": []
   },
   "source": [
    "On the train set the model reaches an accuracy of about 86% and f1_score of about 0.83. However it is trained to overfit slightly as seen from the 0.79 accuracy on the validation set, which is closer to what to expect when applied to the test set."
   ]
  },
  {
   "cell_type": "markdown",
   "id": "2f308243",
   "metadata": {
    "papermill": {
     "duration": 0.124588,
     "end_time": "2022-05-26T18:22:51.833818",
     "exception": false,
     "start_time": "2022-05-26T18:22:51.709230",
     "status": "completed"
    },
    "tags": []
   },
   "source": [
    "**Predict and submit**"
   ]
  },
  {
   "cell_type": "code",
   "execution_count": 45,
   "id": "cdff5958",
   "metadata": {
    "execution": {
     "iopub.execute_input": "2022-05-26T18:22:52.131694Z",
     "iopub.status.busy": "2022-05-26T18:22:52.130742Z",
     "iopub.status.idle": "2022-05-26T18:22:52.413240Z",
     "shell.execute_reply": "2022-05-26T18:22:52.412100Z"
    },
    "papermill": {
     "duration": 0.416976,
     "end_time": "2022-05-26T18:22:52.415853",
     "exception": false,
     "start_time": "2022-05-26T18:22:51.998877",
     "status": "completed"
    },
    "tags": []
   },
   "outputs": [],
   "source": [
    "predictions = np.round(model1.predict(X_test)).astype(int)"
   ]
  },
  {
   "cell_type": "code",
   "execution_count": 46,
   "id": "8daefe36",
   "metadata": {
    "execution": {
     "iopub.execute_input": "2022-05-26T18:22:52.672080Z",
     "iopub.status.busy": "2022-05-26T18:22:52.671633Z",
     "iopub.status.idle": "2022-05-26T18:22:52.689270Z",
     "shell.execute_reply": "2022-05-26T18:22:52.688176Z"
    },
    "papermill": {
     "duration": 0.152539,
     "end_time": "2022-05-26T18:22:52.691845",
     "exception": false,
     "start_time": "2022-05-26T18:22:52.539306",
     "status": "completed"
    },
    "tags": []
   },
   "outputs": [],
   "source": [
    "sub=pd.DataFrame({'id':dtest['id'].values.tolist(),'target':predictions.ravel()})\n",
    "sub.to_csv('submission.csv',index=False)"
   ]
  },
  {
   "cell_type": "code",
   "execution_count": 47,
   "id": "bb03080f",
   "metadata": {
    "execution": {
     "iopub.execute_input": "2022-05-26T18:22:52.946387Z",
     "iopub.status.busy": "2022-05-26T18:22:52.944989Z",
     "iopub.status.idle": "2022-05-26T18:22:52.959015Z",
     "shell.execute_reply": "2022-05-26T18:22:52.957725Z"
    },
    "papermill": {
     "duration": 0.144133,
     "end_time": "2022-05-26T18:22:52.961182",
     "exception": false,
     "start_time": "2022-05-26T18:22:52.817049",
     "status": "completed"
    },
    "tags": []
   },
   "outputs": [
    {
     "data": {
      "text/html": [
       "<div>\n",
       "<style scoped>\n",
       "    .dataframe tbody tr th:only-of-type {\n",
       "        vertical-align: middle;\n",
       "    }\n",
       "\n",
       "    .dataframe tbody tr th {\n",
       "        vertical-align: top;\n",
       "    }\n",
       "\n",
       "    .dataframe thead th {\n",
       "        text-align: right;\n",
       "    }\n",
       "</style>\n",
       "<table border=\"1\" class=\"dataframe\">\n",
       "  <thead>\n",
       "    <tr style=\"text-align: right;\">\n",
       "      <th></th>\n",
       "      <th>id</th>\n",
       "      <th>target</th>\n",
       "    </tr>\n",
       "  </thead>\n",
       "  <tbody>\n",
       "    <tr>\n",
       "      <th>0</th>\n",
       "      <td>0</td>\n",
       "      <td>1</td>\n",
       "    </tr>\n",
       "    <tr>\n",
       "      <th>1</th>\n",
       "      <td>2</td>\n",
       "      <td>1</td>\n",
       "    </tr>\n",
       "    <tr>\n",
       "      <th>2</th>\n",
       "      <td>3</td>\n",
       "      <td>1</td>\n",
       "    </tr>\n",
       "    <tr>\n",
       "      <th>3</th>\n",
       "      <td>9</td>\n",
       "      <td>0</td>\n",
       "    </tr>\n",
       "    <tr>\n",
       "      <th>4</th>\n",
       "      <td>11</td>\n",
       "      <td>1</td>\n",
       "    </tr>\n",
       "    <tr>\n",
       "      <th>...</th>\n",
       "      <td>...</td>\n",
       "      <td>...</td>\n",
       "    </tr>\n",
       "    <tr>\n",
       "      <th>3258</th>\n",
       "      <td>10861</td>\n",
       "      <td>1</td>\n",
       "    </tr>\n",
       "    <tr>\n",
       "      <th>3259</th>\n",
       "      <td>10865</td>\n",
       "      <td>0</td>\n",
       "    </tr>\n",
       "    <tr>\n",
       "      <th>3260</th>\n",
       "      <td>10868</td>\n",
       "      <td>1</td>\n",
       "    </tr>\n",
       "    <tr>\n",
       "      <th>3261</th>\n",
       "      <td>10874</td>\n",
       "      <td>1</td>\n",
       "    </tr>\n",
       "    <tr>\n",
       "      <th>3262</th>\n",
       "      <td>10875</td>\n",
       "      <td>1</td>\n",
       "    </tr>\n",
       "  </tbody>\n",
       "</table>\n",
       "<p>3263 rows × 2 columns</p>\n",
       "</div>"
      ],
      "text/plain": [
       "         id  target\n",
       "0         0       1\n",
       "1         2       1\n",
       "2         3       1\n",
       "3         9       0\n",
       "4        11       1\n",
       "...     ...     ...\n",
       "3258  10861       1\n",
       "3259  10865       0\n",
       "3260  10868       1\n",
       "3261  10874       1\n",
       "3262  10875       1\n",
       "\n",
       "[3263 rows x 2 columns]"
      ]
     },
     "execution_count": 47,
     "metadata": {},
     "output_type": "execute_result"
    }
   ],
   "source": [
    "sub"
   ]
  }
 ],
 "metadata": {
  "kernelspec": {
   "display_name": "Python 3",
   "language": "python",
   "name": "python3"
  },
  "language_info": {
   "codemirror_mode": {
    "name": "ipython",
    "version": 3
   },
   "file_extension": ".py",
   "mimetype": "text/x-python",
   "name": "python",
   "nbconvert_exporter": "python",
   "pygments_lexer": "ipython3",
   "version": "3.7.12"
  },
  "papermill": {
   "default_parameters": {},
   "duration": 90.01377,
   "end_time": "2022-05-26T18:22:56.130095",
   "environment_variables": {},
   "exception": null,
   "input_path": "__notebook__.ipynb",
   "output_path": "__notebook__.ipynb",
   "parameters": {},
   "start_time": "2022-05-26T18:21:26.116325",
   "version": "2.3.4"
  }
 },
 "nbformat": 4,
 "nbformat_minor": 5
}
