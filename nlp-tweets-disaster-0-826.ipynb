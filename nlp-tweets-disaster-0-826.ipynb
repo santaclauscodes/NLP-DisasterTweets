{
 "cells": [
  {
   "cell_type": "code",
   "execution_count": 1,
   "id": "4ad0dfa6",
   "metadata": {
    "_cell_guid": "b1076dfc-b9ad-4769-8c92-a6c4dae69d19",
    "_uuid": "8f2839f25d086af736a60e9eeb907d3b93b6e0e5",
    "execution": {
     "iopub.execute_input": "2022-05-08T03:55:49.037322Z",
     "iopub.status.busy": "2022-05-08T03:55:49.036953Z",
     "iopub.status.idle": "2022-05-08T03:55:49.050715Z",
     "shell.execute_reply": "2022-05-08T03:55:49.050020Z"
    },
    "papermill": {
     "duration": 0.065212,
     "end_time": "2022-05-08T03:55:49.052785",
     "exception": false,
     "start_time": "2022-05-08T03:55:48.987573",
     "status": "completed"
    },
    "tags": []
   },
   "outputs": [
    {
     "name": "stdout",
     "output_type": "stream",
     "text": [
      "/kaggle/input/nlp-getting-started/sample_submission.csv\n",
      "/kaggle/input/nlp-getting-started/train.csv\n",
      "/kaggle/input/nlp-getting-started/test.csv\n"
     ]
    }
   ],
   "source": [
    "# This Python 3 environment comes with many helpful analytics libraries installed\n",
    "# It is defined by the kaggle/python Docker image: https://github.com/kaggle/docker-python\n",
    "# For example, here's several helpful packages to load\n",
    "\n",
    "import numpy as np # linear algebra\n",
    "import pandas as pd # data processing, CSV file I/O (e.g. pd.read_csv)\n",
    "\n",
    "# Input data files are available in the read-only \"../input/\" directory\n",
    "# For example, running this (by clicking run or pressing Shift+Enter) will list all files under the input directory\n",
    "\n",
    "import os\n",
    "for dirname, _, filenames in os.walk('/kaggle/input'):\n",
    "    for filename in filenames:\n",
    "        print(os.path.join(dirname, filename))\n",
    "\n",
    "# You can write up to 20GB to the current directory (/kaggle/working/) that gets preserved as output when you create a version using \"Save & Run All\" \n",
    "# You can also write temporary files to /kaggle/temp/, but they won't be saved outside of the current session"
   ]
  },
  {
   "cell_type": "markdown",
   "id": "e8e2c4dc",
   "metadata": {
    "papermill": {
     "duration": 0.044387,
     "end_time": "2022-05-08T03:55:49.142224",
     "exception": false,
     "start_time": "2022-05-08T03:55:49.097837",
     "status": "completed"
    },
    "tags": []
   },
   "source": [
    "Importing all the libraries"
   ]
  },
  {
   "cell_type": "code",
   "execution_count": 2,
   "id": "303a704e",
   "metadata": {
    "execution": {
     "iopub.execute_input": "2022-05-08T03:55:49.233047Z",
     "iopub.status.busy": "2022-05-08T03:55:49.232528Z",
     "iopub.status.idle": "2022-05-08T03:55:56.213140Z",
     "shell.execute_reply": "2022-05-08T03:55:56.212340Z"
    },
    "papermill": {
     "duration": 7.028343,
     "end_time": "2022-05-08T03:55:56.215195",
     "exception": false,
     "start_time": "2022-05-08T03:55:49.186852",
     "status": "completed"
    },
    "tags": []
   },
   "outputs": [],
   "source": [
    "import os\n",
    "import pandas as pd\n",
    "import numpy as np\n",
    "import matplotlib.pyplot as plt\n",
    "import seaborn as sns\n",
    "import missingno as msno\n",
    "from wordcloud import WordCloud\n",
    "\n",
    "from geopy.geocoders import Nominatim\n",
    "from geopy.extra.rate_limiter import RateLimiter\n",
    "import folium \n",
    "from folium import plugins \n",
    "\n",
    "import re\n",
    "import string\n",
    "import nltk\n",
    "from nltk.corpus import stopwords\n",
    "from nltk.stem import WordNetLemmatizer\n",
    "from collections import Counter\n",
    "from collections import defaultdict\n",
    "from sklearn.feature_extraction.text import CountVectorizer\n",
    "from sklearn.model_selection import train_test_split\n",
    "\n",
    "import tensorflow as tf\n",
    "import tensorflow_hub as hub\n",
    "from tensorflow import keras\n",
    "from tensorflow.keras import layers\n",
    "from keras.callbacks import ReduceLROnPlateau\n",
    "\n",
    "import warnings\n",
    "warnings.filterwarnings('ignore')"
   ]
  },
  {
   "cell_type": "markdown",
   "id": "02dc70fc",
   "metadata": {
    "papermill": {
     "duration": 0.042298,
     "end_time": "2022-05-08T03:55:56.300729",
     "exception": false,
     "start_time": "2022-05-08T03:55:56.258431",
     "status": "completed"
    },
    "tags": []
   },
   "source": [
    "Reading the data"
   ]
  },
  {
   "cell_type": "code",
   "execution_count": 3,
   "id": "f796af45",
   "metadata": {
    "execution": {
     "iopub.execute_input": "2022-05-08T03:55:56.387379Z",
     "iopub.status.busy": "2022-05-08T03:55:56.387133Z",
     "iopub.status.idle": "2022-05-08T03:55:56.426453Z",
     "shell.execute_reply": "2022-05-08T03:55:56.425758Z"
    },
    "papermill": {
     "duration": 0.085578,
     "end_time": "2022-05-08T03:55:56.428392",
     "exception": false,
     "start_time": "2022-05-08T03:55:56.342814",
     "status": "completed"
    },
    "tags": []
   },
   "outputs": [],
   "source": [
    "df=pd.read_csv(\"/kaggle/input/nlp-getting-started/train.csv\")"
   ]
  },
  {
   "cell_type": "code",
   "execution_count": 4,
   "id": "c61828b4",
   "metadata": {
    "execution": {
     "iopub.execute_input": "2022-05-08T03:55:56.514620Z",
     "iopub.status.busy": "2022-05-08T03:55:56.514416Z",
     "iopub.status.idle": "2022-05-08T03:55:56.527299Z",
     "shell.execute_reply": "2022-05-08T03:55:56.525979Z"
    },
    "papermill": {
     "duration": 0.05808,
     "end_time": "2022-05-08T03:55:56.529600",
     "exception": false,
     "start_time": "2022-05-08T03:55:56.471520",
     "status": "completed"
    },
    "tags": []
   },
   "outputs": [
    {
     "name": "stdout",
     "output_type": "stream",
     "text": [
      "id             0\n",
      "keyword       61\n",
      "location    2533\n",
      "text           0\n",
      "target         0\n",
      "dtype: int64\n",
      "--------------------------\n",
      "Total missing values: 2594\n",
      "--------------------------\n"
     ]
    }
   ],
   "source": [
    "print(df.isnull().sum())\n",
    "print(\"--------------------------\")\n",
    "print(f\"Total missing values: {df.isnull().sum().sum()}\")\n",
    "print(\"--------------------------\")"
   ]
  },
  {
   "cell_type": "markdown",
   "id": "15f1561b",
   "metadata": {
    "papermill": {
     "duration": 0.042664,
     "end_time": "2022-05-08T03:55:56.615560",
     "exception": false,
     "start_time": "2022-05-08T03:55:56.572896",
     "status": "completed"
    },
    "tags": []
   },
   "source": [
    "**EDA**"
   ]
  },
  {
   "cell_type": "code",
   "execution_count": 5,
   "id": "7624938d",
   "metadata": {
    "execution": {
     "iopub.execute_input": "2022-05-08T03:55:56.701864Z",
     "iopub.status.busy": "2022-05-08T03:55:56.701668Z",
     "iopub.status.idle": "2022-05-08T03:55:57.294944Z",
     "shell.execute_reply": "2022-05-08T03:55:57.294284Z"
    },
    "papermill": {
     "duration": 0.63927,
     "end_time": "2022-05-08T03:55:57.297672",
     "exception": false,
     "start_time": "2022-05-08T03:55:56.658402",
     "status": "completed"
    },
    "tags": []
   },
   "outputs": [
    {
     "data": {
      "image/png": "[encoded data removed]",
      "text/plain": [
       "<Figure size 1080x720 with 3 Axes>"
      ]
     },
     "metadata": {
      "needs_background": "light"
     },
     "output_type": "display_data"
    }
   ],
   "source": [
    "msno.bar(df, color = (0, 0, 0), sort = \"ascending\", figsize = (15, 10))\n",
    "plt.show()"
   ]
  },
  {
   "cell_type": "markdown",
   "id": "c38e067b",
   "metadata": {
    "papermill": {
     "duration": 0.0438,
     "end_time": "2022-05-08T03:55:57.405708",
     "exception": false,
     "start_time": "2022-05-08T03:55:57.361908",
     "status": "completed"
    },
    "tags": []
   },
   "source": [
    "Lets see how our class distribution look like"
   ]
  },
  {
   "cell_type": "code",
   "execution_count": 6,
   "id": "17696e5c",
   "metadata": {
    "execution": {
     "iopub.execute_input": "2022-05-08T03:55:57.494681Z",
     "iopub.status.busy": "2022-05-08T03:55:57.494476Z",
     "iopub.status.idle": "2022-05-08T03:55:57.567934Z",
     "shell.execute_reply": "2022-05-08T03:55:57.566930Z"
    },
    "papermill": {
     "duration": 0.120779,
     "end_time": "2022-05-08T03:55:57.570410",
     "exception": false,
     "start_time": "2022-05-08T03:55:57.449631",
     "status": "completed"
    },
    "tags": []
   },
   "outputs": [
    {
     "data": {
      "image/png": "[encoded data removed]",
      "text/plain": [
       "<Figure size 432x72 with 1 Axes>"
      ]
     },
     "metadata": {
      "needs_background": "light"
     },
     "output_type": "display_data"
    }
   ],
   "source": [
    "custom_colors = ['#000000', '#E31E33', '#4A53E1', '#F5AD02', '#94D5EA', '#F6F8F7']\n",
    "custom_palette = sns.set_palette(sns.color_palette(custom_colors))\n",
    "sns.palplot(sns.color_palette(custom_colors), size = 1)\n",
    "plt.tick_params(axis = 'both', labelsize = 0, length = 0)"
   ]
  },
  {
   "cell_type": "code",
   "execution_count": 7,
   "id": "1343cfdb",
   "metadata": {
    "execution": {
     "iopub.execute_input": "2022-05-08T03:55:57.719745Z",
     "iopub.status.busy": "2022-05-08T03:55:57.719556Z",
     "iopub.status.idle": "2022-05-08T03:55:57.915495Z",
     "shell.execute_reply": "2022-05-08T03:55:57.914808Z"
    },
    "papermill": {
     "duration": 0.256792,
     "end_time": "2022-05-08T03:55:57.917217",
     "exception": false,
     "start_time": "2022-05-08T03:55:57.660425",
     "status": "completed"
    },
    "tags": []
   },
   "outputs": [
    {
     "data": {
      "image/png": "[encoded data removed]",
      "text/plain": [
       "<Figure size 1080x864 with 1 Axes>"
      ]
     },
     "metadata": {
      "needs_background": "light"
     },
     "output_type": "display_data"
    }
   ],
   "source": [
    "plt.figure(figsize = (15, 12))\n",
    "ax = plt.axes()\n",
    "ax.set_facecolor('black')\n",
    "ax = sns.countplot(x = 'target', data = df, palette = [custom_colors[2], custom_colors[1]], edgecolor = 'white', linewidth = 1.2)\n",
    "plt.title('Disaster Count', fontsize = 25)\n",
    "plt.xlabel('Disaster', fontsize = 20)\n",
    "plt.ylabel('Count', fontsize = 20)\n",
    "ax.xaxis.set_tick_params(labelsize = 15)\n",
    "ax.yaxis.set_tick_params(labelsize = 15)\n",
    "bbox_args = dict(boxstyle = 'round', fc = '0.9')\n",
    "for p in ax.patches:\n",
    "        ax.annotate('{:.0f} = {:.2f}%'.format(p.get_height(), (p.get_height() / len(df['target'])) * 100), (p.get_x() + 0.25, p.get_height() + 60), \n",
    "                   color = 'black',\n",
    "                   bbox = bbox_args,\n",
    "                   fontsize = 15)\n",
    "plt.show()"
   ]
  },
  {
   "cell_type": "code",
   "execution_count": 8,
   "id": "41daa7c2",
   "metadata": {
    "execution": {
     "iopub.execute_input": "2022-05-08T03:55:58.014823Z",
     "iopub.status.busy": "2022-05-08T03:55:58.014621Z",
     "iopub.status.idle": "2022-05-08T03:55:58.021124Z",
     "shell.execute_reply": "2022-05-08T03:55:58.020440Z"
    },
    "papermill": {
     "duration": 0.058319,
     "end_time": "2022-05-08T03:55:58.022865",
     "exception": false,
     "start_time": "2022-05-08T03:55:57.964546",
     "status": "completed"
    },
    "tags": []
   },
   "outputs": [
    {
     "data": {
      "text/plain": [
       "0    4342\n",
       "1    3271\n",
       "Name: target, dtype: int64"
      ]
     },
     "execution_count": 8,
     "metadata": {},
     "output_type": "execute_result"
    }
   ],
   "source": [
    "df[\"target\"].value_counts()"
   ]
  },
  {
   "cell_type": "code",
   "execution_count": 9,
   "id": "1af90f2f",
   "metadata": {
    "execution": {
     "iopub.execute_input": "2022-05-08T03:55:58.115939Z",
     "iopub.status.busy": "2022-05-08T03:55:58.115461Z",
     "iopub.status.idle": "2022-05-08T03:55:58.119665Z",
     "shell.execute_reply": "2022-05-08T03:55:58.119001Z"
    },
    "papermill": {
     "duration": 0.052205,
     "end_time": "2022-05-08T03:55:58.121300",
     "exception": false,
     "start_time": "2022-05-08T03:55:58.069095",
     "status": "completed"
    },
    "tags": []
   },
   "outputs": [],
   "source": [
    "#label 0 = non diaster\n",
    "#label 1 = disaster"
   ]
  },
  {
   "cell_type": "markdown",
   "id": "d5aa3a15",
   "metadata": {
    "papermill": {
     "duration": 0.046466,
     "end_time": "2022-05-08T03:55:58.214091",
     "exception": false,
     "start_time": "2022-05-08T03:55:58.167625",
     "status": "completed"
    },
    "tags": []
   },
   "source": [
    "**We have data imbalance so im undersampling the majority class**"
   ]
  },
  {
   "cell_type": "code",
   "execution_count": 10,
   "id": "69481f17",
   "metadata": {
    "execution": {
     "iopub.execute_input": "2022-05-08T03:55:58.308109Z",
     "iopub.status.busy": "2022-05-08T03:55:58.307459Z",
     "iopub.status.idle": "2022-05-08T03:55:58.314081Z",
     "shell.execute_reply": "2022-05-08T03:55:58.313428Z"
    },
    "papermill": {
     "duration": 0.055349,
     "end_time": "2022-05-08T03:55:58.315840",
     "exception": false,
     "start_time": "2022-05-08T03:55:58.260491",
     "status": "completed"
    },
    "tags": []
   },
   "outputs": [],
   "source": [
    "new_df0=df[df['target']==0]\n",
    "new_df1=df[df['target']==1]"
   ]
  },
  {
   "cell_type": "code",
   "execution_count": 11,
   "id": "39459999",
   "metadata": {
    "execution": {
     "iopub.execute_input": "2022-05-08T03:55:58.410307Z",
     "iopub.status.busy": "2022-05-08T03:55:58.409767Z",
     "iopub.status.idle": "2022-05-08T03:55:58.415589Z",
     "shell.execute_reply": "2022-05-08T03:55:58.414772Z"
    },
    "papermill": {
     "duration": 0.054902,
     "end_time": "2022-05-08T03:55:58.417759",
     "exception": false,
     "start_time": "2022-05-08T03:55:58.362857",
     "status": "completed"
    },
    "tags": []
   },
   "outputs": [
    {
     "data": {
      "text/plain": [
       "3271"
      ]
     },
     "execution_count": 11,
     "metadata": {},
     "output_type": "execute_result"
    }
   ],
   "source": [
    "new_df1.shape[0]"
   ]
  },
  {
   "cell_type": "code",
   "execution_count": 12,
   "id": "d3298e4b",
   "metadata": {
    "execution": {
     "iopub.execute_input": "2022-05-08T03:55:58.518023Z",
     "iopub.status.busy": "2022-05-08T03:55:58.517789Z",
     "iopub.status.idle": "2022-05-08T03:55:58.523307Z",
     "shell.execute_reply": "2022-05-08T03:55:58.522469Z"
    },
    "papermill": {
     "duration": 0.059905,
     "end_time": "2022-05-08T03:55:58.525362",
     "exception": false,
     "start_time": "2022-05-08T03:55:58.465457",
     "status": "completed"
    },
    "tags": []
   },
   "outputs": [],
   "source": [
    "new_df0=new_df0.sample(new_df1.shape[0]) #generating random samples from majority class same as of the minority class"
   ]
  },
  {
   "cell_type": "code",
   "execution_count": 13,
   "id": "fc4eb545",
   "metadata": {
    "execution": {
     "iopub.execute_input": "2022-05-08T03:55:58.626571Z",
     "iopub.status.busy": "2022-05-08T03:55:58.626362Z",
     "iopub.status.idle": "2022-05-08T03:55:58.632607Z",
     "shell.execute_reply": "2022-05-08T03:55:58.631940Z"
    },
    "papermill": {
     "duration": 0.058625,
     "end_time": "2022-05-08T03:55:58.634560",
     "exception": false,
     "start_time": "2022-05-08T03:55:58.575935",
     "status": "completed"
    },
    "tags": []
   },
   "outputs": [],
   "source": [
    "df=pd.concat([new_df0,new_df1],axis=0)   #appending both the classes with equal number of observations"
   ]
  },
  {
   "cell_type": "code",
   "execution_count": 14,
   "id": "2cb5ad3a",
   "metadata": {
    "execution": {
     "iopub.execute_input": "2022-05-08T03:55:58.735593Z",
     "iopub.status.busy": "2022-05-08T03:55:58.734856Z",
     "iopub.status.idle": "2022-05-08T03:55:58.740451Z",
     "shell.execute_reply": "2022-05-08T03:55:58.739785Z"
    },
    "papermill": {
     "duration": 0.057974,
     "end_time": "2022-05-08T03:55:58.742236",
     "exception": false,
     "start_time": "2022-05-08T03:55:58.684262",
     "status": "completed"
    },
    "tags": []
   },
   "outputs": [],
   "source": [
    "from sklearn.utils import shuffle   #shuffling the values\n",
    "df = shuffle(df)"
   ]
  },
  {
   "cell_type": "code",
   "execution_count": 15,
   "id": "f5db6ae1",
   "metadata": {
    "execution": {
     "iopub.execute_input": "2022-05-08T03:55:58.841225Z",
     "iopub.status.busy": "2022-05-08T03:55:58.841029Z",
     "iopub.status.idle": "2022-05-08T03:55:58.844832Z",
     "shell.execute_reply": "2022-05-08T03:55:58.844024Z"
    },
    "papermill": {
     "duration": 0.055486,
     "end_time": "2022-05-08T03:55:58.846871",
     "exception": false,
     "start_time": "2022-05-08T03:55:58.791385",
     "status": "completed"
    },
    "tags": []
   },
   "outputs": [],
   "source": [
    "df=df.reset_index(drop=True)"
   ]
  },
  {
   "cell_type": "code",
   "execution_count": 16,
   "id": "e520f106",
   "metadata": {
    "execution": {
     "iopub.execute_input": "2022-05-08T03:55:58.948612Z",
     "iopub.status.busy": "2022-05-08T03:55:58.948402Z",
     "iopub.status.idle": "2022-05-08T03:55:58.964710Z",
     "shell.execute_reply": "2022-05-08T03:55:58.963830Z"
    },
    "papermill": {
     "duration": 0.070153,
     "end_time": "2022-05-08T03:55:58.966785",
     "exception": false,
     "start_time": "2022-05-08T03:55:58.896632",
     "status": "completed"
    },
    "tags": []
   },
   "outputs": [
    {
     "data": {
      "text/html": [
       "<div>\n",
       "<style scoped>\n",
       "    .dataframe tbody tr th:only-of-type {\n",
       "        vertical-align: middle;\n",
       "    }\n",
       "\n",
       "    .dataframe tbody tr th {\n",
       "        vertical-align: top;\n",
       "    }\n",
       "\n",
       "    .dataframe thead th {\n",
       "        text-align: right;\n",
       "    }\n",
       "</style>\n",
       "<table border=\"1\" class=\"dataframe\">\n",
       "  <thead>\n",
       "    <tr style=\"text-align: right;\">\n",
       "      <th></th>\n",
       "      <th>id</th>\n",
       "      <th>keyword</th>\n",
       "      <th>location</th>\n",
       "      <th>text</th>\n",
       "      <th>target</th>\n",
       "    </tr>\n",
       "  </thead>\n",
       "  <tbody>\n",
       "    <tr>\n",
       "      <th>0</th>\n",
       "      <td>3319</td>\n",
       "      <td>demolished</td>\n",
       "      <td>NaN</td>\n",
       "      <td>Why is CHURCH media and #Media420 silent when ...</td>\n",
       "      <td>1</td>\n",
       "    </tr>\n",
       "    <tr>\n",
       "      <th>1</th>\n",
       "      <td>2537</td>\n",
       "      <td>collision</td>\n",
       "      <td>Peterborough, Ontario, Canada</td>\n",
       "      <td>Two-vehicle collision at Fowlers Corners at Hw...</td>\n",
       "      <td>1</td>\n",
       "    </tr>\n",
       "    <tr>\n",
       "      <th>2</th>\n",
       "      <td>344</td>\n",
       "      <td>annihilated</td>\n",
       "      <td>London</td>\n",
       "      <td>A fun filled happy-hour at Simmons bar in Camd...</td>\n",
       "      <td>0</td>\n",
       "    </tr>\n",
       "    <tr>\n",
       "      <th>3</th>\n",
       "      <td>9180</td>\n",
       "      <td>suicide%20bomber</td>\n",
       "      <td>NaN</td>\n",
       "      <td>IS claims suicide bombing against Saudi police...</td>\n",
       "      <td>1</td>\n",
       "    </tr>\n",
       "    <tr>\n",
       "      <th>4</th>\n",
       "      <td>7895</td>\n",
       "      <td>radiation%20emergency</td>\n",
       "      <td>LP, MN USA</td>\n",
       "      <td>http://t.co/X5XUMtoEkE Nuclear Emergency Curre...</td>\n",
       "      <td>0</td>\n",
       "    </tr>\n",
       "    <tr>\n",
       "      <th>...</th>\n",
       "      <td>...</td>\n",
       "      <td>...</td>\n",
       "      <td>...</td>\n",
       "      <td>...</td>\n",
       "      <td>...</td>\n",
       "    </tr>\n",
       "    <tr>\n",
       "      <th>6537</th>\n",
       "      <td>6427</td>\n",
       "      <td>hurricane</td>\n",
       "      <td>NaN</td>\n",
       "      <td>#kick #hurricane Seriously #simple websites: h...</td>\n",
       "      <td>1</td>\n",
       "    </tr>\n",
       "    <tr>\n",
       "      <th>6538</th>\n",
       "      <td>8213</td>\n",
       "      <td>riot</td>\n",
       "      <td>NaN</td>\n",
       "      <td>Riot Kit Bah - part of the new concept Gear co...</td>\n",
       "      <td>0</td>\n",
       "    </tr>\n",
       "    <tr>\n",
       "      <th>6539</th>\n",
       "      <td>799</td>\n",
       "      <td>battle</td>\n",
       "      <td>UK Great Britain</td>\n",
       "      <td>I added a video to a @YouTube playlist http://...</td>\n",
       "      <td>0</td>\n",
       "    </tr>\n",
       "    <tr>\n",
       "      <th>6540</th>\n",
       "      <td>4272</td>\n",
       "      <td>drowning</td>\n",
       "      <td>Hughes, AR</td>\n",
       "      <td>http://t.co/9y0pAJ8sxd Family mourns drowning ...</td>\n",
       "      <td>1</td>\n",
       "    </tr>\n",
       "    <tr>\n",
       "      <th>6541</th>\n",
       "      <td>8640</td>\n",
       "      <td>seismic</td>\n",
       "      <td>NaN</td>\n",
       "      <td>#Sismo DETECTADO #JapÌ_n 06:32:43 Miyagi Estim...</td>\n",
       "      <td>1</td>\n",
       "    </tr>\n",
       "  </tbody>\n",
       "</table>\n",
       "<p>6542 rows × 5 columns</p>\n",
       "</div>"
      ],
      "text/plain": [
       "        id                keyword                       location  \\\n",
       "0     3319             demolished                            NaN   \n",
       "1     2537              collision  Peterborough, Ontario, Canada   \n",
       "2      344            annihilated                         London   \n",
       "3     9180       suicide%20bomber                            NaN   \n",
       "4     7895  radiation%20emergency                     LP, MN USA   \n",
       "...    ...                    ...                            ...   \n",
       "6537  6427              hurricane                            NaN   \n",
       "6538  8213                   riot                            NaN   \n",
       "6539   799                 battle              UK Great Britain    \n",
       "6540  4272               drowning                     Hughes, AR   \n",
       "6541  8640                seismic                            NaN   \n",
       "\n",
       "                                                   text  target  \n",
       "0     Why is CHURCH media and #Media420 silent when ...       1  \n",
       "1     Two-vehicle collision at Fowlers Corners at Hw...       1  \n",
       "2     A fun filled happy-hour at Simmons bar in Camd...       0  \n",
       "3     IS claims suicide bombing against Saudi police...       1  \n",
       "4     http://t.co/X5XUMtoEkE Nuclear Emergency Curre...       0  \n",
       "...                                                 ...     ...  \n",
       "6537  #kick #hurricane Seriously #simple websites: h...       1  \n",
       "6538  Riot Kit Bah - part of the new concept Gear co...       0  \n",
       "6539  I added a video to a @YouTube playlist http://...       0  \n",
       "6540  http://t.co/9y0pAJ8sxd Family mourns drowning ...       1  \n",
       "6541  #Sismo DETECTADO #JapÌ_n 06:32:43 Miyagi Estim...       1  \n",
       "\n",
       "[6542 rows x 5 columns]"
      ]
     },
     "execution_count": 16,
     "metadata": {},
     "output_type": "execute_result"
    }
   ],
   "source": [
    "df"
   ]
  },
  {
   "cell_type": "markdown",
   "id": "bd95309d",
   "metadata": {
    "papermill": {
     "duration": 0.046562,
     "end_time": "2022-05-08T03:55:59.060144",
     "exception": false,
     "start_time": "2022-05-08T03:55:59.013582",
     "status": "completed"
    },
    "tags": []
   },
   "source": [
    "Top 10 locations of tweets"
   ]
  },
  {
   "cell_type": "code",
   "execution_count": 17,
   "id": "a82d2759",
   "metadata": {
    "execution": {
     "iopub.execute_input": "2022-05-08T03:55:59.153915Z",
     "iopub.status.busy": "2022-05-08T03:55:59.153696Z",
     "iopub.status.idle": "2022-05-08T03:55:59.478223Z",
     "shell.execute_reply": "2022-05-08T03:55:59.477440Z"
    },
    "papermill": {
     "duration": 0.373579,
     "end_time": "2022-05-08T03:55:59.480190",
     "exception": false,
     "start_time": "2022-05-08T03:55:59.106611",
     "status": "completed"
    },
    "tags": []
   },
   "outputs": [
    {
     "data": {
      "image/png": "[encoded data removed]",
      "text/plain": [
       "<Figure size 1080x936 with 1 Axes>"
      ]
     },
     "metadata": {
      "needs_background": "light"
     },
     "output_type": "display_data"
    }
   ],
   "source": [
    "plt.figure(figsize = (15, 13))\n",
    "ax = plt.axes()\n",
    "ax.set_facecolor('black')\n",
    "ax = ((df.location.value_counts())[:10]).plot(kind = 'bar', color = custom_colors[2], linewidth = 2, edgecolor = 'white')\n",
    "plt.title('Location Count', fontsize = 30)\n",
    "plt.xlabel('Location', fontsize = 25)\n",
    "plt.ylabel('Count', fontsize = 25)\n",
    "ax.xaxis.set_tick_params(labelsize = 15, rotation = 30)\n",
    "ax.yaxis.set_tick_params(labelsize = 15)\n",
    "bbox_args = dict(boxstyle = 'round', fc = '0.9')\n",
    "for p in ax.patches:\n",
    "        ax.annotate('{:.0f}'.format(p.get_height()), (p.get_x() + 0.15, p.get_height() + 2),\n",
    "                   bbox = bbox_args,\n",
    "                   color = custom_colors[2],\n",
    "                   fontsize = 15)"
   ]
  },
  {
   "cell_type": "code",
   "execution_count": null,
   "id": "d398ba6b",
   "metadata": {
    "papermill": {
     "duration": 0.047316,
     "end_time": "2022-05-08T03:55:59.575806",
     "exception": false,
     "start_time": "2022-05-08T03:55:59.528490",
     "status": "completed"
    },
    "tags": []
   },
   "outputs": [],
   "source": []
  },
  {
   "cell_type": "markdown",
   "id": "704333d3",
   "metadata": {
    "papermill": {
     "duration": 0.047696,
     "end_time": "2022-05-08T03:55:59.671387",
     "exception": false,
     "start_time": "2022-05-08T03:55:59.623691",
     "status": "completed"
    },
    "tags": []
   },
   "source": [
    "**Data Preprocessing**"
   ]
  },
  {
   "cell_type": "code",
   "execution_count": 18,
   "id": "fe444678",
   "metadata": {
    "execution": {
     "iopub.execute_input": "2022-05-08T03:55:59.767816Z",
     "iopub.status.busy": "2022-05-08T03:55:59.767575Z",
     "iopub.status.idle": "2022-05-08T03:55:59.951604Z",
     "shell.execute_reply": "2022-05-08T03:55:59.950773Z"
    },
    "papermill": {
     "duration": 0.234862,
     "end_time": "2022-05-08T03:55:59.953859",
     "exception": false,
     "start_time": "2022-05-08T03:55:59.718997",
     "status": "completed"
    },
    "tags": []
   },
   "outputs": [],
   "source": [
    "# %20 is the URL encoding of space, let's replace them with '_'\n",
    "def re_encode_space(input_string):\n",
    "    return None if pd.isna(input_string) else input_string.replace('%20', '_')\n",
    "\n",
    "\n",
    "# Let's try to find hastags\n",
    "import re\n",
    "\n",
    "def find_hash_tags(input_string):\n",
    "    hash_tags = re.findall(r\"#(\\w+)\", str(input_string))\n",
    "    return ','.join(hash_tags)\n",
    "\n",
    "\n",
    "# Let's turn hashtags to normal words\n",
    "def re_encode_hashtags(input_string):\n",
    "    return None if pd.isna(input_string) else input_string.replace('#', '')\n",
    "\n",
    "\n",
    "# Let's remove URLs from the tweets\n",
    "def remove_links(input_string):\n",
    "    res = input_string\n",
    "    urls = re.findall(r'(https?://[^\\s]+)', res)\n",
    "    for link in urls:\n",
    "        res = res.strip(link)\n",
    "    return res\n",
    "\n",
    "\n",
    "# Let's remove the state abbreviations\n",
    "def state_renaming(input_string):\n",
    "\n",
    "    states = {\n",
    "        'AK': 'Alaska',\n",
    "        'AL': 'Alabama',\n",
    "        'AR': 'Arkansas',\n",
    "        'AZ': 'Arizona',\n",
    "        'CA': 'California',\n",
    "        'CO': 'Colorado',\n",
    "        'CT': 'Connecticut',\n",
    "        'DC': 'District_of_Columbia',\n",
    "        'DE': 'Delaware',\n",
    "        'FL': 'Florida',\n",
    "        'GA': 'Georgia',\n",
    "        'HI': 'Hawaii',\n",
    "        'IA': 'Iowa',\n",
    "        'ID': 'Idaho',\n",
    "        'IL': 'Illinois',\n",
    "        'IN': 'Indiana',\n",
    "        'KS': 'Kansas',\n",
    "        'KY': 'Kentucky',\n",
    "        'LA': 'Louisiana',\n",
    "        'MA': 'Massachusetts',\n",
    "        'MD': 'Maryland',\n",
    "        'ME': 'Maine',\n",
    "        'MI': 'Michigan',\n",
    "        'MN': 'Minnesota',\n",
    "        'MO': 'Missouri',\n",
    "        'MS': 'Mississippi',\n",
    "        'MT': 'Montana',\n",
    "        'NC': 'North_Carolina',\n",
    "        'ND': 'North_Dakota',\n",
    "        'NE': 'Nebraska',\n",
    "        'NH': 'New_Hampshire',\n",
    "        'NJ': 'New_Jersey',\n",
    "        'NM': 'New_Mexico',\n",
    "        'NV': 'Nevada',\n",
    "        'NY': 'New_York',\n",
    "        'OH': 'Ohio',\n",
    "        'OK': 'Oklahoma',\n",
    "        'OR': 'Oregon',\n",
    "        'PA': 'Pennsylvania',\n",
    "        'RI': 'Rhode_Island',\n",
    "        'SC': 'South_Carolina',\n",
    "        'SD': 'South_Dakota',\n",
    "        'TN': 'Tennessee',\n",
    "        'TX': 'Texas',\n",
    "        'UT': 'Utah',\n",
    "        'VA': 'Virginia',\n",
    "        'VT': 'Vermont',\n",
    "        'WA': 'Washington',\n",
    "        'WI': 'Wisconsin',\n",
    "        'WV': 'West_Virginia',\n",
    "        'WY': 'Wyoming'\n",
    "    }\n",
    "\n",
    "    result = input_string\n",
    "    \n",
    "    if isinstance(input_string, str):\n",
    "        input_candidates = input_string.split(', ')\n",
    "        \n",
    "        if len(input_candidates) > 1:\n",
    "            for candidate in input_candidates:\n",
    "                if candidate in states.keys():\n",
    "                    result = states[candidate]\n",
    "                \n",
    "    if input_string in states.keys():\n",
    "        result = states[input_string]\n",
    "\n",
    "    return result"
   ]
  },
  {
   "cell_type": "code",
   "execution_count": 19,
   "id": "f167e564",
   "metadata": {
    "execution": {
     "iopub.execute_input": "2022-05-08T03:56:00.052699Z",
     "iopub.status.busy": "2022-05-08T03:56:00.052495Z",
     "iopub.status.idle": "2022-05-08T03:56:00.057852Z",
     "shell.execute_reply": "2022-05-08T03:56:00.057108Z"
    },
    "papermill": {
     "duration": 0.056241,
     "end_time": "2022-05-08T03:56:00.059706",
     "exception": false,
     "start_time": "2022-05-08T03:56:00.003465",
     "status": "completed"
    },
    "tags": []
   },
   "outputs": [],
   "source": [
    "# Let's wrap the preprocessing functions so it's easier to\n",
    "# process both train and test dataset\n",
    "def preprocess_data(input_data):\n",
    "    input_df = input_data.copy()\n",
    "    input_df['keyword'] = input_df['keyword'].map(re_encode_space)\n",
    "    input_df['keyword'].fillna('Missing', inplace=True)\n",
    "    input_df['hashtags'] = input_df['text'].map(find_hash_tags)\n",
    "    input_df['text'] = input_df['text'].map(re_encode_hashtags)\n",
    "    input_df['text'] = input_df['text'].map(remove_links)\n",
    "    input_df['location'] = input_df['location'].map(state_renaming)\n",
    "    return input_df"
   ]
  },
  {
   "cell_type": "code",
   "execution_count": 20,
   "id": "957b314a",
   "metadata": {
    "execution": {
     "iopub.execute_input": "2022-05-08T03:56:00.160726Z",
     "iopub.status.busy": "2022-05-08T03:56:00.160530Z",
     "iopub.status.idle": "2022-05-08T03:56:00.163556Z",
     "shell.execute_reply": "2022-05-08T03:56:00.162911Z"
    },
    "papermill": {
     "duration": 0.058123,
     "end_time": "2022-05-08T03:56:00.165194",
     "exception": false,
     "start_time": "2022-05-08T03:56:00.107071",
     "status": "completed"
    },
    "tags": []
   },
   "outputs": [],
   "source": [
    "# our training data is df"
   ]
  },
  {
   "cell_type": "markdown",
   "id": "bd171dfe",
   "metadata": {
    "papermill": {
     "duration": 0.047478,
     "end_time": "2022-05-08T03:56:00.260585",
     "exception": false,
     "start_time": "2022-05-08T03:56:00.213107",
     "status": "completed"
    },
    "tags": []
   },
   "source": [
    "importing test data"
   ]
  },
  {
   "cell_type": "code",
   "execution_count": 21,
   "id": "7e13f105",
   "metadata": {
    "execution": {
     "iopub.execute_input": "2022-05-08T03:56:00.357283Z",
     "iopub.status.busy": "2022-05-08T03:56:00.356638Z",
     "iopub.status.idle": "2022-05-08T03:56:00.378932Z",
     "shell.execute_reply": "2022-05-08T03:56:00.378269Z"
    },
    "papermill": {
     "duration": 0.072595,
     "end_time": "2022-05-08T03:56:00.380701",
     "exception": false,
     "start_time": "2022-05-08T03:56:00.308106",
     "status": "completed"
    },
    "tags": []
   },
   "outputs": [],
   "source": [
    "test_data=pd.read_csv(\"/kaggle/input/nlp-getting-started/test.csv\")"
   ]
  },
  {
   "cell_type": "code",
   "execution_count": 22,
   "id": "8b142ff0",
   "metadata": {
    "execution": {
     "iopub.execute_input": "2022-05-08T03:56:00.478700Z",
     "iopub.status.busy": "2022-05-08T03:56:00.478488Z",
     "iopub.status.idle": "2022-05-08T03:56:00.481757Z",
     "shell.execute_reply": "2022-05-08T03:56:00.481007Z"
    },
    "papermill": {
     "duration": 0.053794,
     "end_time": "2022-05-08T03:56:00.483577",
     "exception": false,
     "start_time": "2022-05-08T03:56:00.429783",
     "status": "completed"
    },
    "tags": []
   },
   "outputs": [],
   "source": [
    "#we are going to rename train data as original_data and test as test_data"
   ]
  },
  {
   "cell_type": "code",
   "execution_count": 23,
   "id": "3c7a7a5b",
   "metadata": {
    "execution": {
     "iopub.execute_input": "2022-05-08T03:56:00.589987Z",
     "iopub.status.busy": "2022-05-08T03:56:00.589481Z",
     "iopub.status.idle": "2022-05-08T03:56:00.693414Z",
     "shell.execute_reply": "2022-05-08T03:56:00.692778Z"
    },
    "papermill": {
     "duration": 0.159569,
     "end_time": "2022-05-08T03:56:00.695123",
     "exception": false,
     "start_time": "2022-05-08T03:56:00.535554",
     "status": "completed"
    },
    "tags": []
   },
   "outputs": [],
   "source": [
    "original_data = preprocess_data(df)\n",
    "test_data = preprocess_data(test_data)"
   ]
  },
  {
   "cell_type": "code",
   "execution_count": null,
   "id": "735905db",
   "metadata": {
    "papermill": {
     "duration": 0.04884,
     "end_time": "2022-05-08T03:56:00.792717",
     "exception": false,
     "start_time": "2022-05-08T03:56:00.743877",
     "status": "completed"
    },
    "tags": []
   },
   "outputs": [],
   "source": []
  },
  {
   "cell_type": "code",
   "execution_count": 24,
   "id": "cb8f9703",
   "metadata": {
    "execution": {
     "iopub.execute_input": "2022-05-08T03:56:00.892887Z",
     "iopub.status.busy": "2022-05-08T03:56:00.892677Z",
     "iopub.status.idle": "2022-05-08T03:56:02.007946Z",
     "shell.execute_reply": "2022-05-08T03:56:02.007231Z"
    },
    "papermill": {
     "duration": 1.172267,
     "end_time": "2022-05-08T03:56:02.014382",
     "exception": false,
     "start_time": "2022-05-08T03:56:00.842115",
     "status": "completed"
    },
    "tags": []
   },
   "outputs": [
    {
     "data": {
      "image/png": "[encoded data removed]",
      "text/plain": [
       "<Figure size 1152x648 with 3 Axes>"
      ]
     },
     "metadata": {
      "needs_background": "light"
     },
     "output_type": "display_data"
    }
   ],
   "source": [
    "# We notice that keyword field has missing values\n",
    "# We notice location has missing values\n",
    "\n",
    "# Let's Visualize the keyword field in a word cloud to get an idea of what it is\n",
    "import matplotlib.pyplot as plt\n",
    "from wordcloud import WordCloud\n",
    "\n",
    "keyword_words = str(original_data['keyword']\n",
    "    .dropna()\n",
    "    .unique()\n",
    "    .tolist()\n",
    ")\n",
    "\n",
    "location_words = str(original_data['location']\n",
    "    .dropna()\n",
    "    .unique()\n",
    "    .tolist()\n",
    ")\n",
    "\n",
    "hashtag_words = str(original_data['hashtags']\n",
    "    .dropna()\n",
    "    .unique()\n",
    "    .tolist()\n",
    ")\n",
    "\n",
    "keyword_wordcloud = WordCloud(\n",
    "    background_color='white',\n",
    "    stopwords=None,\n",
    "    max_words=200,\n",
    "    max_font_size=40, \n",
    "    random_state=42\n",
    ").generate(keyword_words)\n",
    "\n",
    "location_wordcloud = WordCloud(\n",
    "    background_color='white',\n",
    "    stopwords=None,\n",
    "    max_words=200,\n",
    "    max_font_size=40, \n",
    "    random_state=42\n",
    ").generate(location_words)\n",
    "\n",
    "hashtag_wordcloud = WordCloud(\n",
    "    background_color='white',\n",
    "    stopwords=None,\n",
    "    max_words=200,\n",
    "    max_font_size=40, \n",
    "    random_state=42\n",
    ").generate(hashtag_words)\n",
    "\n",
    "fig, ax = plt.subplots(1,3, figsize=(16,9), constrained_layout=True)\n",
    "ax[0].set_title(\"Keywords\")\n",
    "ax[0].imshow(keyword_wordcloud)\n",
    "ax[0].axis(False)\n",
    "ax[1].set_title('Location')\n",
    "ax[1].imshow(location_wordcloud)\n",
    "ax[1].axis(False)\n",
    "ax[2].set_title('Hashtags')\n",
    "ax[2].imshow(hashtag_wordcloud)\n",
    "ax[2].axis(False)\n",
    "plt.show()"
   ]
  },
  {
   "cell_type": "markdown",
   "id": "38183737",
   "metadata": {
    "papermill": {
     "duration": 0.05627,
     "end_time": "2022-05-08T03:56:02.128394",
     "exception": false,
     "start_time": "2022-05-08T03:56:02.072124",
     "status": "completed"
    },
    "tags": []
   },
   "source": [
    "TF-IDF + LogistiRegression"
   ]
  },
  {
   "cell_type": "code",
   "execution_count": 25,
   "id": "6c48a360",
   "metadata": {
    "execution": {
     "iopub.execute_input": "2022-05-08T03:56:02.242588Z",
     "iopub.status.busy": "2022-05-08T03:56:02.242369Z",
     "iopub.status.idle": "2022-05-08T03:56:02.246234Z",
     "shell.execute_reply": "2022-05-08T03:56:02.245408Z"
    },
    "papermill": {
     "duration": 0.063603,
     "end_time": "2022-05-08T03:56:02.248285",
     "exception": false,
     "start_time": "2022-05-08T03:56:02.184682",
     "status": "completed"
    },
    "tags": []
   },
   "outputs": [],
   "source": [
    "X = original_data['text']\n",
    "y = original_data['target']"
   ]
  },
  {
   "cell_type": "code",
   "execution_count": 26,
   "id": "0afd46ed",
   "metadata": {
    "execution": {
     "iopub.execute_input": "2022-05-08T03:56:02.363196Z",
     "iopub.status.busy": "2022-05-08T03:56:02.363003Z",
     "iopub.status.idle": "2022-05-08T03:56:02.369401Z",
     "shell.execute_reply": "2022-05-08T03:56:02.368798Z"
    },
    "papermill": {
     "duration": 0.066163,
     "end_time": "2022-05-08T03:56:02.371031",
     "exception": false,
     "start_time": "2022-05-08T03:56:02.304868",
     "status": "completed"
    },
    "tags": []
   },
   "outputs": [],
   "source": [
    "from sklearn.model_selection import StratifiedKFold\n",
    "from sklearn.svm import SVC\n",
    "from sklearn.pipeline import Pipeline\n",
    "from sklearn.feature_extraction.text import TfidfVectorizer,CountVectorizer\n",
    "from sklearn.linear_model import LogisticRegression\n",
    "from sklearn.metrics import roc_auc_score\n",
    "from sklearn.metrics import accuracy_score"
   ]
  },
  {
   "cell_type": "code",
   "execution_count": 27,
   "id": "e0e70ac8",
   "metadata": {
    "execution": {
     "iopub.execute_input": "2022-05-08T03:56:02.486375Z",
     "iopub.status.busy": "2022-05-08T03:56:02.486182Z",
     "iopub.status.idle": "2022-05-08T03:56:04.461282Z",
     "shell.execute_reply": "2022-05-08T03:56:04.460414Z"
    },
    "papermill": {
     "duration": 2.035862,
     "end_time": "2022-05-08T03:56:04.464279",
     "exception": false,
     "start_time": "2022-05-08T03:56:02.428417",
     "status": "completed"
    },
    "tags": []
   },
   "outputs": [
    {
     "name": "stdout",
     "output_type": "stream",
     "text": [
      "Fold: 0, train auc: 0.957, validation auc: 0.857\n",
      "Fold: 1, train auc: 0.959, validation auc: 0.857\n",
      "Fold: 2, train auc: 0.958, validation auc: 0.862\n",
      "Fold: 3, train auc: 0.960, validation auc: 0.857\n",
      "Fold: 4, train auc: 0.959, validation auc: 0.849\n",
      "Train average: 0.959, validation average: 0.856\n",
      "OOF Accuracy Score: 0.7858453072454906\n"
     ]
    }
   ],
   "source": [
    "skf = StratifiedKFold(n_splits=5)\n",
    "train_average_score = 0\n",
    "validation_average_score = 0\n",
    "validation_oof_predictions = np.zeros((len(X)))\n",
    "\n",
    "for fold_n, (train_idx, test_idx) in enumerate(skf.split(X, y)):\n",
    "    X_train, y_train = X[train_idx], y[train_idx]\n",
    "    X_test, y_test = X[test_idx], y[test_idx]\n",
    "    \n",
    "    model = Pipeline([\n",
    "        ('Encoder', TfidfVectorizer(max_features=None)),\n",
    "        ('Clf', LogisticRegression(penalty='l2', C=1, solver='liblinear'))\n",
    "    ])\n",
    "    \n",
    "    model.fit(X_train, y_train)\n",
    "    \n",
    "    train_predictions = model.predict_proba(X_train)[:, 1]\n",
    "    validation_predictions = model.predict_proba(X_test)[:, 1]\n",
    "    \n",
    "    train_score = roc_auc_score(y_train, train_predictions)\n",
    "    validation_score = roc_auc_score(y_test, validation_predictions)\n",
    "    \n",
    "    train_average_score += train_score / 5\n",
    "    validation_average_score += validation_score / 5\n",
    "    validation_oof_predictions[test_idx,] = (validation_predictions > 0.5).astype(int)\n",
    "    \n",
    "    print(f'Fold: {fold_n}, train auc: {train_score:.3f}, validation auc: {validation_score:.3f}')\n",
    "print(f'Train average: {train_average_score:.3f}, validation average: {validation_average_score:.3f}')\n",
    "print(f'OOF Accuracy Score: {accuracy_score(y, validation_oof_predictions)}')"
   ]
  },
  {
   "cell_type": "code",
   "execution_count": 28,
   "id": "2bfb45da",
   "metadata": {
    "execution": {
     "iopub.execute_input": "2022-05-08T03:56:04.598329Z",
     "iopub.status.busy": "2022-05-08T03:56:04.597658Z",
     "iopub.status.idle": "2022-05-08T03:56:04.601363Z",
     "shell.execute_reply": "2022-05-08T03:56:04.600501Z"
    },
    "papermill": {
     "duration": 0.072361,
     "end_time": "2022-05-08T03:56:04.603509",
     "exception": false,
     "start_time": "2022-05-08T03:56:04.531148",
     "status": "completed"
    },
    "tags": []
   },
   "outputs": [],
   "source": [
    "#Tokeninzing"
   ]
  },
  {
   "cell_type": "code",
   "execution_count": 29,
   "id": "1e664ca7",
   "metadata": {
    "execution": {
     "iopub.execute_input": "2022-05-08T03:56:04.728636Z",
     "iopub.status.busy": "2022-05-08T03:56:04.728399Z",
     "iopub.status.idle": "2022-05-08T03:56:06.374006Z",
     "shell.execute_reply": "2022-05-08T03:56:06.373246Z"
    },
    "papermill": {
     "duration": 1.710786,
     "end_time": "2022-05-08T03:56:06.376144",
     "exception": false,
     "start_time": "2022-05-08T03:56:04.665358",
     "status": "completed"
    },
    "tags": []
   },
   "outputs": [],
   "source": [
    "from nltk.tokenize import TweetTokenizer\n",
    "# The tokenizer is responsible to turn a string of words\n",
    "# into a list of tokens (words) for which we'll get their\n",
    "# vector representation (embeddings)\n",
    "tknzr = TweetTokenizer(\n",
    "    preserve_case=False,\n",
    "    reduce_len=True,\n",
    "    strip_handles=True,\n",
    ")\n",
    "\n",
    "\n",
    "def tokenize_tweets(tokenizer, input_text):\n",
    "    tokens = list(tokenizer.tokenize(input_text))\n",
    "    tokens = [re.sub('[^A-Za-z0-9]+', '', i) for i in tokens]\n",
    "    return tokens\n",
    "\n",
    "original_data['tokens'] = original_data['text']\n",
    "original_data['tokens'] = original_data['tokens'].apply(lambda x: tokenize_tweets(tknzr, x))\n",
    "\n",
    "test_data['tokens'] = test_data['text'].apply(lambda x: tokenize_tweets(tknzr, x))"
   ]
  },
  {
   "cell_type": "code",
   "execution_count": 30,
   "id": "adff3330",
   "metadata": {
    "execution": {
     "iopub.execute_input": "2022-05-08T03:56:06.497422Z",
     "iopub.status.busy": "2022-05-08T03:56:06.496855Z",
     "iopub.status.idle": "2022-05-08T03:56:06.508501Z",
     "shell.execute_reply": "2022-05-08T03:56:06.507569Z"
    },
    "papermill": {
     "duration": 0.07385,
     "end_time": "2022-05-08T03:56:06.510555",
     "exception": false,
     "start_time": "2022-05-08T03:56:06.436705",
     "status": "completed"
    },
    "tags": []
   },
   "outputs": [],
   "source": [
    "# We'll pad all embeddings to match the length of the biggest tweet\n",
    "# in order to account for the variability in tweet length\n",
    "# Later on the model is going to mask the padded values, so that\n",
    "# they won't influence the result\n",
    "max_tweet_length = max(original_data['tokens'].apply(lambda x: len(x)).max(), \n",
    "                       test_data['tokens'].apply(lambda x: len(x)).max())"
   ]
  },
  {
   "cell_type": "markdown",
   "id": "3415a983",
   "metadata": {
    "papermill": {
     "duration": 0.059965,
     "end_time": "2022-05-08T03:56:06.635254",
     "exception": false,
     "start_time": "2022-05-08T03:56:06.575289",
     "status": "completed"
    },
    "tags": []
   },
   "source": [
    "USING BERT Embeddings"
   ]
  },
  {
   "cell_type": "code",
   "execution_count": 31,
   "id": "fbb4ceaa",
   "metadata": {
    "execution": {
     "iopub.execute_input": "2022-05-08T03:56:06.753703Z",
     "iopub.status.busy": "2022-05-08T03:56:06.753491Z",
     "iopub.status.idle": "2022-05-08T03:56:06.759276Z",
     "shell.execute_reply": "2022-05-08T03:56:06.758550Z"
    },
    "papermill": {
     "duration": 0.066898,
     "end_time": "2022-05-08T03:56:06.760918",
     "exception": false,
     "start_time": "2022-05-08T03:56:06.694020",
     "status": "completed"
    },
    "tags": []
   },
   "outputs": [],
   "source": [
    "X = original_data['text'].tolist()\n",
    "y = np.asarray(original_data['target'].tolist()).astype(np.float32)\n",
    "\n",
    "test_array = test_data['text'].tolist()"
   ]
  },
  {
   "cell_type": "code",
   "execution_count": 32,
   "id": "bb6232b7",
   "metadata": {
    "execution": {
     "iopub.execute_input": "2022-05-08T03:56:06.878981Z",
     "iopub.status.busy": "2022-05-08T03:56:06.878751Z",
     "iopub.status.idle": "2022-05-08T03:56:08.521440Z",
     "shell.execute_reply": "2022-05-08T03:56:08.520503Z"
    },
    "papermill": {
     "duration": 1.703955,
     "end_time": "2022-05-08T03:56:08.523574",
     "exception": false,
     "start_time": "2022-05-08T03:56:06.819619",
     "status": "completed"
    },
    "tags": []
   },
   "outputs": [],
   "source": [
    "from transformers import AutoTokenizer, AutoConfig,TFBertModel"
   ]
  },
  {
   "cell_type": "code",
   "execution_count": 33,
   "id": "0be010e5",
   "metadata": {
    "execution": {
     "iopub.execute_input": "2022-05-08T03:56:08.651551Z",
     "iopub.status.busy": "2022-05-08T03:56:08.650974Z",
     "iopub.status.idle": "2022-05-08T03:57:23.197330Z",
     "shell.execute_reply": "2022-05-08T03:57:23.196575Z"
    },
    "papermill": {
     "duration": 74.611917,
     "end_time": "2022-05-08T03:57:23.199427",
     "exception": false,
     "start_time": "2022-05-08T03:56:08.587510",
     "status": "completed"
    },
    "tags": []
   },
   "outputs": [
    {
     "data": {
      "application/vnd.jupyter.widget-view+json": {
       "model_id": "c6191b436c4646a0a851d18a7ee74370",
       "version_major": 2,
       "version_minor": 0
      },
      "text/plain": [
       "Downloading:   0%|          | 0.00/28.0 [00:00<?, ?B/s]"
      ]
     },
     "metadata": {},
     "output_type": "display_data"
    },
    {
     "data": {
      "application/vnd.jupyter.widget-view+json": {
       "model_id": "7016d3b8f34148c8b4de4ccd585a865f",
       "version_major": 2,
       "version_minor": 0
      },
      "text/plain": [
       "Downloading:   0%|          | 0.00/570 [00:00<?, ?B/s]"
      ]
     },
     "metadata": {},
     "output_type": "display_data"
    },
    {
     "data": {
      "application/vnd.jupyter.widget-view+json": {
       "model_id": "cf8ba9cf2f5a4f32b30e9c7378b96f85",
       "version_major": 2,
       "version_minor": 0
      },
      "text/plain": [
       "Downloading:   0%|          | 0.00/226k [00:00<?, ?B/s]"
      ]
     },
     "metadata": {},
     "output_type": "display_data"
    },
    {
     "data": {
      "application/vnd.jupyter.widget-view+json": {
       "model_id": "aeb42a1c7d784e7383702e02f8eb2d70",
       "version_major": 2,
       "version_minor": 0
      },
      "text/plain": [
       "Downloading:   0%|          | 0.00/455k [00:00<?, ?B/s]"
      ]
     },
     "metadata": {},
     "output_type": "display_data"
    },
    {
     "data": {
      "application/vnd.jupyter.widget-view+json": {
       "model_id": "5c2a4adc9fc74613981ea9cd1170c745",
       "version_major": 2,
       "version_minor": 0
      },
      "text/plain": [
       "Downloading:   0%|          | 0.00/511M [00:00<?, ?B/s]"
      ]
     },
     "metadata": {},
     "output_type": "display_data"
    },
    {
     "name": "stderr",
     "output_type": "stream",
     "text": [
      "2022-05-08 03:57:15.319855: I tensorflow/stream_executor/cuda/cuda_gpu_executor.cc:937] successful NUMA node read from SysFS had negative value (-1), but there must be at least one NUMA node, so returning NUMA node zero\n",
      "2022-05-08 03:57:15.321014: I tensorflow/stream_executor/cuda/cuda_gpu_executor.cc:937] successful NUMA node read from SysFS had negative value (-1), but there must be at least one NUMA node, so returning NUMA node zero\n",
      "2022-05-08 03:57:15.321725: I tensorflow/stream_executor/cuda/cuda_gpu_executor.cc:937] successful NUMA node read from SysFS had negative value (-1), but there must be at least one NUMA node, so returning NUMA node zero\n",
      "2022-05-08 03:57:15.322674: I tensorflow/core/platform/cpu_feature_guard.cc:142] This TensorFlow binary is optimized with oneAPI Deep Neural Network Library (oneDNN) to use the following CPU instructions in performance-critical operations:  AVX2 AVX512F FMA\n",
      "To enable them in other operations, rebuild TensorFlow with the appropriate compiler flags.\n",
      "2022-05-08 03:57:15.323023: I tensorflow/stream_executor/cuda/cuda_gpu_executor.cc:937] successful NUMA node read from SysFS had negative value (-1), but there must be at least one NUMA node, so returning NUMA node zero\n",
      "2022-05-08 03:57:15.323794: I tensorflow/stream_executor/cuda/cuda_gpu_executor.cc:937] successful NUMA node read from SysFS had negative value (-1), but there must be at least one NUMA node, so returning NUMA node zero\n",
      "2022-05-08 03:57:15.324587: I tensorflow/stream_executor/cuda/cuda_gpu_executor.cc:937] successful NUMA node read from SysFS had negative value (-1), but there must be at least one NUMA node, so returning NUMA node zero\n",
      "2022-05-08 03:57:19.707246: I tensorflow/stream_executor/cuda/cuda_gpu_executor.cc:937] successful NUMA node read from SysFS had negative value (-1), but there must be at least one NUMA node, so returning NUMA node zero\n",
      "2022-05-08 03:57:19.708200: I tensorflow/stream_executor/cuda/cuda_gpu_executor.cc:937] successful NUMA node read from SysFS had negative value (-1), but there must be at least one NUMA node, so returning NUMA node zero\n",
      "2022-05-08 03:57:19.708874: I tensorflow/stream_executor/cuda/cuda_gpu_executor.cc:937] successful NUMA node read from SysFS had negative value (-1), but there must be at least one NUMA node, so returning NUMA node zero\n",
      "2022-05-08 03:57:19.710075: I tensorflow/core/common_runtime/gpu/gpu_device.cc:1510] Created device /job:localhost/replica:0/task:0/device:GPU:0 with 14969 MB memory:  -> device: 0, name: Tesla P100-PCIE-16GB, pci bus id: 0000:00:04.0, compute capability: 6.0\n",
      "Some layers from the model checkpoint at bert-base-uncased were not used when initializing TFBertModel: ['nsp___cls', 'mlm___cls']\n",
      "- This IS expected if you are initializing TFBertModel from the checkpoint of a model trained on another task or with another architecture (e.g. initializing a BertForSequenceClassification model from a BertForPreTraining model).\n",
      "- This IS NOT expected if you are initializing TFBertModel from the checkpoint of a model that you expect to be exactly identical (initializing a BertForSequenceClassification model from a BertForSequenceClassification model).\n",
      "All the layers of TFBertModel were initialized from the model checkpoint at bert-base-uncased.\n",
      "If your task is similar to the task the model of the checkpoint was trained on, you can already use TFBertModel for predictions without further training.\n"
     ]
    }
   ],
   "source": [
    "bert_tokenizer = AutoTokenizer.from_pretrained('bert-base-uncased')\n",
    "bert = TFBertModel.from_pretrained('bert-base-uncased')\n",
    "\n",
    "X = bert_tokenizer(\n",
    "    text=X,\n",
    "    add_special_tokens=True,\n",
    "    max_length=max_tweet_length,\n",
    "    truncation=True,\n",
    "    padding=True, \n",
    "    return_tensors='tf',\n",
    "    return_token_type_ids = False,\n",
    "    return_attention_mask = True,\n",
    "    verbose = True)\n",
    "\n",
    "test_array = bert_tokenizer(\n",
    "    text=test_array,\n",
    "    add_special_tokens=True,\n",
    "    max_length=max_tweet_length,\n",
    "    truncation=True,\n",
    "    padding=True, \n",
    "    return_tensors='tf',\n",
    "    return_token_type_ids = False,\n",
    "    return_attention_mask = True,\n",
    "    verbose = True)"
   ]
  },
  {
   "cell_type": "code",
   "execution_count": 34,
   "id": "82fafeb2",
   "metadata": {
    "execution": {
     "iopub.execute_input": "2022-05-08T03:57:23.339756Z",
     "iopub.status.busy": "2022-05-08T03:57:23.339481Z",
     "iopub.status.idle": "2022-05-08T03:57:48.234198Z",
     "shell.execute_reply": "2022-05-08T03:57:48.233422Z"
    },
    "papermill": {
     "duration": 24.96704,
     "end_time": "2022-05-08T03:57:48.236215",
     "exception": false,
     "start_time": "2022-05-08T03:57:23.269175",
     "status": "completed"
    },
    "tags": []
   },
   "outputs": [
    {
     "name": "stderr",
     "output_type": "stream",
     "text": [
      "2022-05-08 03:57:23.422978: I tensorflow/compiler/mlir/mlir_graph_optimization_pass.cc:185] None of the MLIR Optimization Passes are enabled (registered 2)\n"
     ]
    },
    {
     "data": {
      "image/png": "[encoded data removed]",
      "text/plain": [
       "<Figure size 432x288 with 1 Axes>"
      ]
     },
     "metadata": {
      "needs_background": "light"
     },
     "output_type": "display_data"
    }
   ],
   "source": [
    "epochs = 5\n",
    "steps_per_epoch = X['input_ids'].numpy().shape[0]\n",
    "num_train_steps = steps_per_epoch * epochs\n",
    "num_warmup_steps = int(0.1*num_train_steps)\n",
    "\n",
    "class BertLrSchedule(tf.keras.optimizers.schedules.LearningRateSchedule):\n",
    "\n",
    "    @tf.function\n",
    "    def __init__(self, initial_learning_rate, num_warmups, num_train_steps):\n",
    "        self.overshoot = 1000\n",
    "        self.initial_learning_rate = initial_learning_rate\n",
    "        self.num_warmups = num_warmups\n",
    "        self.num_train_steps = num_train_steps\n",
    "        self.angle_warm = self.initial_learning_rate / self.num_warmups\n",
    "        self.angle_decay = - self.initial_learning_rate / \\\n",
    "            (self.num_train_steps - self.num_warmups - self.overshoot)\n",
    "    \n",
    "    @tf.function\n",
    "    def __call__(self, step):\n",
    "        if step <= self.num_warmups:\n",
    "            return (tf.cast(step, tf.float32) + 1) * self.angle_warm\n",
    "        else:\n",
    "            return self.initial_learning_rate + (tf.cast(step, tf.float32) - self.num_warmups + 1 + self.overshoot) * self.angle_decay\n",
    "        \n",
    "        \n",
    "schedule = BertLrSchedule(initial_learning_rate=2e-5, \n",
    "                          num_warmups=num_warmup_steps, \n",
    "                          num_train_steps=num_train_steps)\n",
    "\n",
    "steps = np.arange(num_train_steps)\n",
    "lrs = [schedule.__call__(i) for i in steps]\n",
    "\n",
    "import matplotlib.pyplot as plt\n",
    "fig, ax = plt.subplots(1,1)\n",
    "ax.plot(steps, lrs)\n",
    "ax.set_xlabel('Train steps')\n",
    "ax.set_ylabel('Learning Rate')\n",
    "ax.set_title('Bert scheduler')\n",
    "plt.show()"
   ]
  },
  {
   "cell_type": "markdown",
   "id": "0af75122",
   "metadata": {
    "papermill": {
     "duration": 0.064246,
     "end_time": "2022-05-08T03:57:48.367806",
     "exception": false,
     "start_time": "2022-05-08T03:57:48.303560",
     "status": "completed"
    },
    "tags": []
   },
   "source": [
    "**Model Building**"
   ]
  },
  {
   "cell_type": "code",
   "execution_count": 35,
   "id": "37fe6b42",
   "metadata": {
    "execution": {
     "iopub.execute_input": "2022-05-08T03:57:48.500562Z",
     "iopub.status.busy": "2022-05-08T03:57:48.500316Z",
     "iopub.status.idle": "2022-05-08T03:57:48.505074Z",
     "shell.execute_reply": "2022-05-08T03:57:48.504246Z"
    },
    "papermill": {
     "duration": 0.075929,
     "end_time": "2022-05-08T03:57:48.506926",
     "exception": false,
     "start_time": "2022-05-08T03:57:48.430997",
     "status": "completed"
    },
    "tags": []
   },
   "outputs": [],
   "source": [
    "from tensorflow.keras.optimizers import Adam"
   ]
  },
  {
   "cell_type": "code",
   "execution_count": 36,
   "id": "870f9ec9",
   "metadata": {
    "execution": {
     "iopub.execute_input": "2022-05-08T03:57:48.638458Z",
     "iopub.status.busy": "2022-05-08T03:57:48.638256Z",
     "iopub.status.idle": "2022-05-08T04:16:39.902067Z",
     "shell.execute_reply": "2022-05-08T04:16:39.900056Z"
    },
    "papermill": {
     "duration": 1131.332011,
     "end_time": "2022-05-08T04:16:39.904625",
     "exception": false,
     "start_time": "2022-05-08T03:57:48.572614",
     "status": "completed"
    },
    "tags": []
   },
   "outputs": [
    {
     "name": "stdout",
     "output_type": "stream",
     "text": [
      "Epoch 1/5\n",
      "164/164 [==============================] - 48s 207ms/step - loss: 0.7396\n",
      "Epoch 2/5\n",
      "164/164 [==============================] - 34s 207ms/step - loss: 0.6072\n",
      "Epoch 3/5\n",
      "164/164 [==============================] - 34s 207ms/step - loss: 0.4960\n",
      "Epoch 4/5\n",
      "164/164 [==============================] - 34s 207ms/step - loss: 0.4229\n",
      "Epoch 5/5\n",
      "164/164 [==============================] - 34s 207ms/step - loss: 0.3883\n",
      "Fold: 0, train auc: 0.929, validation auc: 0.898\n",
      "Epoch 1/5\n",
      "164/164 [==============================] - 49s 207ms/step - loss: 0.4044\n",
      "Epoch 2/5\n",
      "164/164 [==============================] - 34s 207ms/step - loss: 0.3420\n",
      "Epoch 3/5\n",
      "164/164 [==============================] - 34s 207ms/step - loss: 0.2967\n",
      "Epoch 4/5\n",
      "164/164 [==============================] - 34s 208ms/step - loss: 0.2514\n",
      "Epoch 5/5\n",
      "164/164 [==============================] - 34s 208ms/step - loss: 0.2019\n",
      "Fold: 1, train auc: 0.990, validation auc: 0.923\n",
      "Epoch 1/5\n",
      "164/164 [==============================] - 49s 207ms/step - loss: 0.2594\n",
      "Epoch 2/5\n",
      "164/164 [==============================] - 34s 208ms/step - loss: 0.1806\n",
      "Epoch 3/5\n",
      "164/164 [==============================] - 34s 208ms/step - loss: 0.1448\n",
      "Epoch 4/5\n",
      "164/164 [==============================] - 34s 207ms/step - loss: 0.1133\n",
      "Epoch 5/5\n",
      "164/164 [==============================] - 34s 207ms/step - loss: 0.1008\n",
      "Fold: 2, train auc: 0.999, validation auc: 0.975\n",
      "Epoch 1/5\n",
      "164/164 [==============================] - 48s 207ms/step - loss: 0.1632\n",
      "Epoch 2/5\n",
      "164/164 [==============================] - 34s 207ms/step - loss: 0.1021\n",
      "Epoch 3/5\n",
      "164/164 [==============================] - 34s 208ms/step - loss: 0.0925\n",
      "Epoch 4/5\n",
      "164/164 [==============================] - 34s 208ms/step - loss: 0.0696\n",
      "Epoch 5/5\n",
      "164/164 [==============================] - 34s 209ms/step - loss: 0.0708\n",
      "Fold: 3, train auc: 0.999, validation auc: 0.993\n",
      "Epoch 1/5\n",
      "164/164 [==============================] - 49s 208ms/step - loss: 0.0917\n",
      "Epoch 2/5\n",
      "164/164 [==============================] - 34s 208ms/step - loss: 0.0590\n",
      "Epoch 3/5\n",
      "164/164 [==============================] - 34s 208ms/step - loss: 0.0473\n",
      "Epoch 4/5\n",
      "164/164 [==============================] - 34s 208ms/step - loss: 0.0508\n",
      "Epoch 5/5\n",
      "164/164 [==============================] - 34s 209ms/step - loss: 0.0435\n",
      "Fold: 4, train auc: 1.000, validation auc: 0.998\n",
      "Train average: 0.983, validation average: 0.957\n",
      "OOF Accuracy Score: 0.9159278508101498\n"
     ]
    }
   ],
   "source": [
    "def build_bert_classifier():\n",
    "    input_ids = tf.keras.layers.Input(shape=(max_tweet_length,), dtype=tf.int32, name=\"input_ids\")\n",
    "    input_mask = tf.keras.layers.Input(shape=(max_tweet_length,), dtype=tf.int32, name=\"attention_mask\")\n",
    "    embeddings = bert(input_ids,attention_mask = input_mask)['pooler_output']\n",
    "    net = tf.keras.layers.Dropout(0.1)(embeddings)\n",
    "    net = tf.keras.layers.Dense(128, activation='relu', name='pre-clf')(net)\n",
    "    net = tf.keras.layers.Dropout(0.1)(net)\n",
    "    net = tf.keras.layers.Dense(1, activation=None, name='classifier')(net)\n",
    "    return tf.keras.Model(inputs=[input_ids, input_mask], outputs=net)\n",
    "\n",
    "skf = StratifiedKFold(n_splits=5)\n",
    "train_average_score = 0\n",
    "validation_average_score = 0\n",
    "validation_oof_predictions = np.zeros((len(X['input_ids'].numpy())))\n",
    "\n",
    "loss = tf.keras.losses.BinaryCrossentropy(from_logits=True)\n",
    "optimizer = Adam(learning_rate=schedule)\n",
    "epochs = 5\n",
    "\n",
    "# It's a good practice to predict the test set on every fold\n",
    "# And average the predictions over the folds\n",
    "averaged_test_predictions = np.zeros((test_array['input_ids'].shape[0]))\n",
    "\n",
    "# It's standard practice to use Stratified k-fold cross validation\n",
    "# so we're also using it here\n",
    "for fold_n, (train_idx, test_idx) in enumerate(skf.split(X['input_ids'].numpy(), y)):\n",
    "    X_train_ids = X['input_ids'].numpy()[train_idx]\n",
    "    X_train_att = X['attention_mask'].numpy()[train_idx]\n",
    "    y_train = y[train_idx]\n",
    "    \n",
    "    X_test_ids = X['input_ids'].numpy()[test_idx]\n",
    "    X_test_att = X['attention_mask'].numpy()[test_idx]\n",
    "    y_test = y[test_idx]\n",
    "    \n",
    "    # Re-build the model at every fold to \"reset\" it\n",
    "    model = build_bert_classifier()\n",
    "    model.layers[2].trainable = True\n",
    "    \n",
    "    model.compile(optimizer=optimizer,\n",
    "                  loss=loss)\n",
    "    \n",
    "    model.fit(x={'input_ids':X_train_ids,'attention_mask':X_train_att}, \n",
    "              y=y_train, batch_size=32, epochs=epochs)\n",
    "    \n",
    "    train_predictions = model.predict({'input_ids':X_train_ids,'attention_mask':X_train_att})\n",
    "    validation_predictions = model.predict({'input_ids':X_test_ids,'attention_mask':X_test_att})\n",
    "    \n",
    "    train_score = roc_auc_score(y_train, train_predictions)\n",
    "    validation_score = roc_auc_score(y_test, validation_predictions)\n",
    "    \n",
    "    train_average_score += train_score / 5\n",
    "    validation_average_score += validation_score / 5\n",
    "    validation_oof_predictions[test_idx,] = (validation_predictions > 0.5).astype(int).flatten()\n",
    "    \n",
    "    print(f'Fold: {fold_n}, train auc: {train_score:.3f}, validation auc: {validation_score:.3f}')\n",
    "    \n",
    "    test_predictions = model.predict({'input_ids':test_array['input_ids'],\n",
    "                                      'attention_mask':test_array['attention_mask']}).flatten()\n",
    "    averaged_test_predictions += test_predictions / 5\n",
    "    \n",
    "print(f'Train average: {train_average_score:.3f}, validation average: {validation_average_score:.3f}')\n",
    "print(f'OOF Accuracy Score: {accuracy_score(y, validation_oof_predictions)}')"
   ]
  },
  {
   "cell_type": "markdown",
   "id": "74b81b9c",
   "metadata": {
    "papermill": {
     "duration": 1.405729,
     "end_time": "2022-05-08T04:16:42.735235",
     "exception": false,
     "start_time": "2022-05-08T04:16:41.329506",
     "status": "completed"
    },
    "tags": []
   },
   "source": [
    "**Creating the submission file from predictions**"
   ]
  },
  {
   "cell_type": "code",
   "execution_count": 37,
   "id": "93819654",
   "metadata": {
    "execution": {
     "iopub.execute_input": "2022-05-08T04:16:45.506612Z",
     "iopub.status.busy": "2022-05-08T04:16:45.506353Z",
     "iopub.status.idle": "2022-05-08T04:16:45.532514Z",
     "shell.execute_reply": "2022-05-08T04:16:45.531798Z"
    },
    "papermill": {
     "duration": 1.408149,
     "end_time": "2022-05-08T04:16:45.534336",
     "exception": false,
     "start_time": "2022-05-08T04:16:44.126187",
     "status": "completed"
    },
    "tags": []
   },
   "outputs": [],
   "source": [
    "sub=pd.read_csv(\"/kaggle/input/nlp-getting-started/sample_submission.csv\")\n",
    "sub['target']=(averaged_test_predictions > 0.5).astype(int)\n",
    "sub.to_csv(\"submission.csv\",index=False)"
   ]
  },
  {
   "cell_type": "code",
   "execution_count": 38,
   "id": "3e55354e",
   "metadata": {
    "execution": {
     "iopub.execute_input": "2022-05-08T04:16:48.561599Z",
     "iopub.status.busy": "2022-05-08T04:16:48.560847Z",
     "iopub.status.idle": "2022-05-08T04:16:48.571866Z",
     "shell.execute_reply": "2022-05-08T04:16:48.571008Z"
    },
    "papermill": {
     "duration": 1.43852,
     "end_time": "2022-05-08T04:16:48.573571",
     "exception": false,
     "start_time": "2022-05-08T04:16:47.135051",
     "status": "completed"
    },
    "tags": []
   },
   "outputs": [
    {
     "data": {
      "text/html": [
       "<div>\n",
       "<style scoped>\n",
       "    .dataframe tbody tr th:only-of-type {\n",
       "        vertical-align: middle;\n",
       "    }\n",
       "\n",
       "    .dataframe tbody tr th {\n",
       "        vertical-align: top;\n",
       "    }\n",
       "\n",
       "    .dataframe thead th {\n",
       "        text-align: right;\n",
       "    }\n",
       "</style>\n",
       "<table border=\"1\" class=\"dataframe\">\n",
       "  <thead>\n",
       "    <tr style=\"text-align: right;\">\n",
       "      <th></th>\n",
       "      <th>id</th>\n",
       "      <th>target</th>\n",
       "    </tr>\n",
       "  </thead>\n",
       "  <tbody>\n",
       "    <tr>\n",
       "      <th>0</th>\n",
       "      <td>0</td>\n",
       "      <td>1</td>\n",
       "    </tr>\n",
       "    <tr>\n",
       "      <th>1</th>\n",
       "      <td>2</td>\n",
       "      <td>1</td>\n",
       "    </tr>\n",
       "    <tr>\n",
       "      <th>2</th>\n",
       "      <td>3</td>\n",
       "      <td>1</td>\n",
       "    </tr>\n",
       "    <tr>\n",
       "      <th>3</th>\n",
       "      <td>9</td>\n",
       "      <td>1</td>\n",
       "    </tr>\n",
       "    <tr>\n",
       "      <th>4</th>\n",
       "      <td>11</td>\n",
       "      <td>1</td>\n",
       "    </tr>\n",
       "    <tr>\n",
       "      <th>...</th>\n",
       "      <td>...</td>\n",
       "      <td>...</td>\n",
       "    </tr>\n",
       "    <tr>\n",
       "      <th>3258</th>\n",
       "      <td>10861</td>\n",
       "      <td>1</td>\n",
       "    </tr>\n",
       "    <tr>\n",
       "      <th>3259</th>\n",
       "      <td>10865</td>\n",
       "      <td>1</td>\n",
       "    </tr>\n",
       "    <tr>\n",
       "      <th>3260</th>\n",
       "      <td>10868</td>\n",
       "      <td>1</td>\n",
       "    </tr>\n",
       "    <tr>\n",
       "      <th>3261</th>\n",
       "      <td>10874</td>\n",
       "      <td>1</td>\n",
       "    </tr>\n",
       "    <tr>\n",
       "      <th>3262</th>\n",
       "      <td>10875</td>\n",
       "      <td>1</td>\n",
       "    </tr>\n",
       "  </tbody>\n",
       "</table>\n",
       "<p>3263 rows × 2 columns</p>\n",
       "</div>"
      ],
      "text/plain": [
       "         id  target\n",
       "0         0       1\n",
       "1         2       1\n",
       "2         3       1\n",
       "3         9       1\n",
       "4        11       1\n",
       "...     ...     ...\n",
       "3258  10861       1\n",
       "3259  10865       1\n",
       "3260  10868       1\n",
       "3261  10874       1\n",
       "3262  10875       1\n",
       "\n",
       "[3263 rows x 2 columns]"
      ]
     },
     "execution_count": 38,
     "metadata": {},
     "output_type": "execute_result"
    }
   ],
   "source": [
    "sub"
   ]
  },
  {
   "cell_type": "code",
   "execution_count": null,
   "id": "d05b6cfa",
   "metadata": {
    "execution": {
     "iopub.execute_input": "2022-05-08T03:32:27.942935Z",
     "iopub.status.busy": "2022-05-08T03:32:27.942187Z",
     "iopub.status.idle": "2022-05-08T03:32:27.955073Z",
     "shell.execute_reply": "2022-05-08T03:32:27.954346Z",
     "shell.execute_reply.started": "2022-05-08T03:32:27.942889Z"
    },
    "papermill": {
     "duration": 1.386155,
     "end_time": "2022-05-08T04:16:51.410125",
     "exception": false,
     "start_time": "2022-05-08T04:16:50.023970",
     "status": "completed"
    },
    "tags": []
   },
   "outputs": [],
   "source": []
  },
  {
   "cell_type": "code",
   "execution_count": null,
   "id": "f68af46d",
   "metadata": {
    "execution": {
     "iopub.execute_input": "2022-05-07T17:41:24.247322Z",
     "iopub.status.busy": "2022-05-07T17:41:24.247062Z",
     "iopub.status.idle": "2022-05-07T17:41:24.253952Z",
     "shell.execute_reply": "2022-05-07T17:41:24.253261Z",
     "shell.execute_reply.started": "2022-05-07T17:41:24.247291Z"
    },
    "papermill": {
     "duration": 1.377417,
     "end_time": "2022-05-08T04:16:54.168237",
     "exception": false,
     "start_time": "2022-05-08T04:16:52.790820",
     "status": "completed"
    },
    "tags": []
   },
   "outputs": [],
   "source": []
  },
  {
   "cell_type": "code",
   "execution_count": null,
   "id": "43f7dc84",
   "metadata": {
    "papermill": {
     "duration": 1.38261,
     "end_time": "2022-05-08T04:16:56.938851",
     "exception": false,
     "start_time": "2022-05-08T04:16:55.556241",
     "status": "completed"
    },
    "tags": []
   },
   "outputs": [],
   "source": []
  }
 ],
 "metadata": {
  "kernelspec": {
   "display_name": "Python 3",
   "language": "python",
   "name": "python3"
  },
  "language_info": {
   "codemirror_mode": {
    "name": "ipython",
    "version": 3
   },
   "file_extension": ".py",
   "mimetype": "text/x-python",
   "name": "python",
   "nbconvert_exporter": "python",
   "pygments_lexer": "ipython3",
   "version": "3.7.12"
  },
  "papermill": {
   "default_parameters": {},
   "duration": 1281.347511,
   "end_time": "2022-05-08T04:17:01.937403",
   "environment_variables": {},
   "exception": null,
   "input_path": "__notebook__.ipynb",
   "output_path": "__notebook__.ipynb",
   "parameters": {},
   "start_time": "2022-05-08T03:55:40.589892",
   "version": "2.3.4"
  },
  "widgets": {
   "application/vnd.jupyter.widget-state+json": {
    "state": {
     "05f527990185457f8a7082b0b82ed12b": {
      "model_module": "@jupyter-widgets/controls",
      "model_module_version": "1.5.0",
      "model_name": "ProgressStyleModel",
      "state": {
       "_model_module": "@jupyter-widgets/controls",
       "_model_module_version": "1.5.0",
       "_model_name": "ProgressStyleModel",
       "_view_count": null,
       "_view_module": "@jupyter-widgets/base",
       "_view_module_version": "1.2.0",
       "_view_name": "StyleView",
       "bar_color": null,
       "description_width": ""
      }
     },
     "0abbc940ae2f4c0c839d6f5593b74896": {
      "model_module": "@jupyter-widgets/controls",
      "model_module_version": "1.5.0",
      "model_name": "HTMLModel",
      "state": {
       "_dom_classes": [],
       "_model_module": "@jupyter-widgets/controls",
       "_model_module_version": "1.5.0",
       "_model_name": "HTMLModel",
       "_view_count": null,
       "_view_module": "@jupyter-widgets/controls",
       "_view_module_version": "1.5.0",
       "_view_name": "HTMLView",
       "description": "",
       "description_tooltip": null,
       "layout": "IPY_MODEL_8456d3100ef24977a8c09dcade3ccfd9",
       "placeholder": "​",
       "style": "IPY_MODEL_e9777e2abefa4800a142c8fcdac32953",
       "value": "Downloading: 100%"
      }
     },
     "0e916c954fd34f7f8a34292d9a7af0ed": {
      "model_module": "@jupyter-widgets/base",
      "model_module_version": "1.2.0",
      "model_name": "LayoutModel",
      "state": {
       "_model_module": "@jupyter-widgets/base",
       "_model_module_version": "1.2.0",
       "_model_name": "LayoutModel",
       "_view_count": null,
       "_view_module": "@jupyter-widgets/base",
       "_view_module_version": "1.2.0",
       "_view_name": "LayoutView",
       "align_content": null,
       "align_items": null,
       "align_self": null,
       "border": null,
       "bottom": null,
       "display": null,
       "flex": null,
       "flex_flow": null,
       "grid_area": null,
       "grid_auto_columns": null,
       "grid_auto_flow": null,
       "grid_auto_rows": null,
       "grid_column": null,
       "grid_gap": null,
       "grid_row": null,
       "grid_template_areas": null,
       "grid_template_columns": null,
       "grid_template_rows": null,
       "height": null,
       "justify_content": null,
       "justify_items": null,
       "left": null,
       "margin": null,
       "max_height": null,
       "max_width": null,
       "min_height": null,
       "min_width": null,
       "object_fit": null,
       "object_position": null,
       "order": null,
       "overflow": null,
       "overflow_x": null,
       "overflow_y": null,
       "padding": null,
       "right": null,
       "top": null,
       "visibility": null,
       "width": null
      }
     },
     "11f88634a3b94df99ba99275f0c20387": {
      "model_module": "@jupyter-widgets/base",
      "model_module_version": "1.2.0",
      "model_name": "LayoutModel",
      "state": {
       "_model_module": "@jupyter-widgets/base",
       "_model_module_version": "1.2.0",
       "_model_name": "LayoutModel",
       "_view_count": null,
       "_view_module": "@jupyter-widgets/base",
       "_view_module_version": "1.2.0",
       "_view_name": "LayoutView",
       "align_content": null,
       "align_items": null,
       "align_self": null,
       "border": null,
       "bottom": null,
       "display": null,
       "flex": null,
       "flex_flow": null,
       "grid_area": null,
       "grid_auto_columns": null,
       "grid_auto_flow": null,
       "grid_auto_rows": null,
       "grid_column": null,
       "grid_gap": null,
       "grid_row": null,
       "grid_template_areas": null,
       "grid_template_columns": null,
       "grid_template_rows": null,
       "height": null,
       "justify_content": null,
       "justify_items": null,
       "left": null,
       "margin": null,
       "max_height": null,
       "max_width": null,
       "min_height": null,
       "min_width": null,
       "object_fit": null,
       "object_position": null,
       "order": null,
       "overflow": null,
       "overflow_x": null,
       "overflow_y": null,
       "padding": null,
       "right": null,
       "top": null,
       "visibility": null,
       "width": null
      }
     },
     "126ee3e62095492990bec5e08b392d73": {
      "model_module": "@jupyter-widgets/base",
      "model_module_version": "1.2.0",
      "model_name": "LayoutModel",
      "state": {
       "_model_module": "@jupyter-widgets/base",
       "_model_module_version": "1.2.0",
       "_model_name": "LayoutModel",
       "_view_count": null,
       "_view_module": "@jupyter-widgets/base",
       "_view_module_version": "1.2.0",
       "_view_name": "LayoutView",
       "align_content": null,
       "align_items": null,
       "align_self": null,
       "border": null,
       "bottom": null,
       "display": null,
       "flex": null,
       "flex_flow": null,
       "grid_area": null,
       "grid_auto_columns": null,
       "grid_auto_flow": null,
       "grid_auto_rows": null,
       "grid_column": null,
       "grid_gap": null,
       "grid_row": null,
       "grid_template_areas": null,
       "grid_template_columns": null,
       "grid_template_rows": null,
       "height": null,
       "justify_content": null,
       "justify_items": null,
       "left": null,
       "margin": null,
       "max_height": null,
       "max_width": null,
       "min_height": null,
       "min_width": null,
       "object_fit": null,
       "object_position": null,
       "order": null,
       "overflow": null,
       "overflow_x": null,
       "overflow_y": null,
       "padding": null,
       "right": null,
       "top": null,
       "visibility": null,
       "width": null
      }
     },
     "12fd6c7adb5c47e8a623882ff5bd073b": {
      "model_module": "@jupyter-widgets/controls",
      "model_module_version": "1.5.0",
      "model_name": "FloatProgressModel",
      "state": {
       "_dom_classes": [],
       "_model_module": "@jupyter-widgets/controls",
       "_model_module_version": "1.5.0",
       "_model_name": "FloatProgressModel",
       "_view_count": null,
       "_view_module": "@jupyter-widgets/controls",
       "_view_module_version": "1.5.0",
       "_view_name": "ProgressView",
       "bar_style": "success",
       "description": "",
       "description_tooltip": null,
       "layout": "IPY_MODEL_bd92fdbc9d774251afb1b4823cdc2c57",
       "max": 570.0,
       "min": 0.0,
       "orientation": "horizontal",
       "style": "IPY_MODEL_917409b42ba844ebb9afcb633ed102a9",
       "value": 570.0
      }
     },
     "1cf901ebb88147dfa7c7ca30ea65eaf8": {
      "model_module": "@jupyter-widgets/controls",
      "model_module_version": "1.5.0",
      "model_name": "FloatProgressModel",
      "state": {
       "_dom_classes": [],
       "_model_module": "@jupyter-widgets/controls",
       "_model_module_version": "1.5.0",
       "_model_name": "FloatProgressModel",
       "_view_count": null,
       "_view_module": "@jupyter-widgets/controls",
       "_view_module_version": "1.5.0",
       "_view_name": "ProgressView",
       "bar_style": "success",
       "description": "",
       "description_tooltip": null,
       "layout": "IPY_MODEL_11f88634a3b94df99ba99275f0c20387",
       "max": 466062.0,
       "min": 0.0,
       "orientation": "horizontal",
       "style": "IPY_MODEL_f694850436ba40299f4a7b5d4ce05f2d",
       "value": 466062.0
      }
     },
     "1f32f7c8b1954bd088601a66031ef768": {
      "model_module": "@jupyter-widgets/controls",
      "model_module_version": "1.5.0",
      "model_name": "HTMLModel",
      "state": {
       "_dom_classes": [],
       "_model_module": "@jupyter-widgets/controls",
       "_model_module_version": "1.5.0",
       "_model_name": "HTMLModel",
       "_view_count": null,
       "_view_module": "@jupyter-widgets/controls",
       "_view_module_version": "1.5.0",
       "_view_name": "HTMLView",
       "description": "",
       "description_tooltip": null,
       "layout": "IPY_MODEL_0e916c954fd34f7f8a34292d9a7af0ed",
       "placeholder": "​",
       "style": "IPY_MODEL_309944eb44b04874a06a019d31b39732",
       "value": "Downloading: 100%"
      }
     },
     "233a384dce314e60a35936670b4622e1": {
      "model_module": "@jupyter-widgets/controls",
      "model_module_version": "1.5.0",
      "model_name": "FloatProgressModel",
      "state": {
       "_dom_classes": [],
       "_model_module": "@jupyter-widgets/controls",
       "_model_module_version": "1.5.0",
       "_model_name": "FloatProgressModel",
       "_view_count": null,
       "_view_module": "@jupyter-widgets/controls",
       "_view_module_version": "1.5.0",
       "_view_name": "ProgressView",
       "bar_style": "success",
       "description": "",
       "description_tooltip": null,
       "layout": "IPY_MODEL_ce83253015714cf7896ab12f104ecfe5",
       "max": 28.0,
       "min": 0.0,
       "orientation": "horizontal",
       "style": "IPY_MODEL_d545e2ef483542eb94cccd87549b82a7",
       "value": 28.0
      }
     },
     "27ee5276642a435494e7e3ef7a075793": {
      "model_module": "@jupyter-widgets/controls",
      "model_module_version": "1.5.0",
      "model_name": "HTMLModel",
      "state": {
       "_dom_classes": [],
       "_model_module": "@jupyter-widgets/controls",
       "_model_module_version": "1.5.0",
       "_model_name": "HTMLModel",
       "_view_count": null,
       "_view_module": "@jupyter-widgets/controls",
       "_view_module_version": "1.5.0",
       "_view_name": "HTMLView",
       "description": "",
       "description_tooltip": null,
       "layout": "IPY_MODEL_2ed8438f7c7340f5b1b2b9bd53ed3080",
       "placeholder": "​",
       "style": "IPY_MODEL_c9f341aa60514e9b81e640e416e5bf52",
       "value": "Downloading: 100%"
      }
     },
     "2ed8438f7c7340f5b1b2b9bd53ed3080": {
      "model_module": "@jupyter-widgets/base",
      "model_module_version": "1.2.0",
      "model_name": "LayoutModel",
      "state": {
       "_model_module": "@jupyter-widgets/base",
       "_model_module_version": "1.2.0",
       "_model_name": "LayoutModel",
       "_view_count": null,
       "_view_module": "@jupyter-widgets/base",
       "_view_module_version": "1.2.0",
       "_view_name": "LayoutView",
       "align_content": null,
       "align_items": null,
       "align_self": null,
       "border": null,
       "bottom": null,
       "display": null,
       "flex": null,
       "flex_flow": null,
       "grid_area": null,
       "grid_auto_columns": null,
       "grid_auto_flow": null,
       "grid_auto_rows": null,
       "grid_column": null,
       "grid_gap": null,
       "grid_row": null,
       "grid_template_areas": null,
       "grid_template_columns": null,
       "grid_template_rows": null,
       "height": null,
       "justify_content": null,
       "justify_items": null,
       "left": null,
       "margin": null,
       "max_height": null,
       "max_width": null,
       "min_height": null,
       "min_width": null,
       "object_fit": null,
       "object_position": null,
       "order": null,
       "overflow": null,
       "overflow_x": null,
       "overflow_y": null,
       "padding": null,
       "right": null,
       "top": null,
       "visibility": null,
       "width": null
      }
     },
     "2eee8b520081467cb5328abe16ad3314": {
      "model_module": "@jupyter-widgets/controls",
      "model_module_version": "1.5.0",
      "model_name": "DescriptionStyleModel",
      "state": {
       "_model_module": "@jupyter-widgets/controls",
       "_model_module_version": "1.5.0",
       "_model_name": "DescriptionStyleModel",
       "_view_count": null,
       "_view_module": "@jupyter-widgets/base",
       "_view_module_version": "1.2.0",
       "_view_name": "StyleView",
       "description_width": ""
      }
     },
     "309944eb44b04874a06a019d31b39732": {
      "model_module": "@jupyter-widgets/controls",
      "model_module_version": "1.5.0",
      "model_name": "DescriptionStyleModel",
      "state": {
       "_model_module": "@jupyter-widgets/controls",
       "_model_module_version": "1.5.0",
       "_model_name": "DescriptionStyleModel",
       "_view_count": null,
       "_view_module": "@jupyter-widgets/base",
       "_view_module_version": "1.2.0",
       "_view_name": "StyleView",
       "description_width": ""
      }
     },
     "33cb58bc6ab24a5d964f941bec4b789a": {
      "model_module": "@jupyter-widgets/controls",
      "model_module_version": "1.5.0",
      "model_name": "HTMLModel",
      "state": {
       "_dom_classes": [],
       "_model_module": "@jupyter-widgets/controls",
       "_model_module_version": "1.5.0",
       "_model_name": "HTMLModel",
       "_view_count": null,
       "_view_module": "@jupyter-widgets/controls",
       "_view_module_version": "1.5.0",
       "_view_name": "HTMLView",
       "description": "",
       "description_tooltip": null,
       "layout": "IPY_MODEL_3586726caeaa4607a4a5369e3d700c0e",
       "placeholder": "​",
       "style": "IPY_MODEL_736e525e9d5a40dd950800178be3faa2",
       "value": " 455k/455k [00:00&lt;00:00, 593kB/s]"
      }
     },
     "3586726caeaa4607a4a5369e3d700c0e": {
      "model_module": "@jupyter-widgets/base",
      "model_module_version": "1.2.0",
      "model_name": "LayoutModel",
      "state": {
       "_model_module": "@jupyter-widgets/base",
       "_model_module_version": "1.2.0",
       "_model_name": "LayoutModel",
       "_view_count": null,
       "_view_module": "@jupyter-widgets/base",
       "_view_module_version": "1.2.0",
       "_view_name": "LayoutView",
       "align_content": null,
       "align_items": null,
       "align_self": null,
       "border": null,
       "bottom": null,
       "display": null,
       "flex": null,
       "flex_flow": null,
       "grid_area": null,
       "grid_auto_columns": null,
       "grid_auto_flow": null,
       "grid_auto_rows": null,
       "grid_column": null,
       "grid_gap": null,
       "grid_row": null,
       "grid_template_areas": null,
       "grid_template_columns": null,
       "grid_template_rows": null,
       "height": null,
       "justify_content": null,
       "justify_items": null,
       "left": null,
       "margin": null,
       "max_height": null,
       "max_width": null,
       "min_height": null,
       "min_width": null,
       "object_fit": null,
       "object_position": null,
       "order": null,
       "overflow": null,
       "overflow_x": null,
       "overflow_y": null,
       "padding": null,
       "right": null,
       "top": null,
       "visibility": null,
       "width": null
      }
     },
     "37a7385b5e6d43998567dec7b144fd2f": {
      "model_module": "@jupyter-widgets/base",
      "model_module_version": "1.2.0",
      "model_name": "LayoutModel",
      "state": {
       "_model_module": "@jupyter-widgets/base",
       "_model_module_version": "1.2.0",
       "_model_name": "LayoutModel",
       "_view_count": null,
       "_view_module": "@jupyter-widgets/base",
       "_view_module_version": "1.2.0",
       "_view_name": "LayoutView",
       "align_content": null,
       "align_items": null,
       "align_self": null,
       "border": null,
       "bottom": null,
       "display": null,
       "flex": null,
       "flex_flow": null,
       "grid_area": null,
       "grid_auto_columns": null,
       "grid_auto_flow": null,
       "grid_auto_rows": null,
       "grid_column": null,
       "grid_gap": null,
       "grid_row": null,
       "grid_template_areas": null,
       "grid_template_columns": null,
       "grid_template_rows": null,
       "height": null,
       "justify_content": null,
       "justify_items": null,
       "left": null,
       "margin": null,
       "max_height": null,
       "max_width": null,
       "min_height": null,
       "min_width": null,
       "object_fit": null,
       "object_position": null,
       "order": null,
       "overflow": null,
       "overflow_x": null,
       "overflow_y": null,
       "padding": null,
       "right": null,
       "top": null,
       "visibility": null,
       "width": null
      }
     },
     "39430bc3668042b1b1263cd7b6eab5a9": {
      "model_module": "@jupyter-widgets/controls",
      "model_module_version": "1.5.0",
      "model_name": "FloatProgressModel",
      "state": {
       "_dom_classes": [],
       "_model_module": "@jupyter-widgets/controls",
       "_model_module_version": "1.5.0",
       "_model_name": "FloatProgressModel",
       "_view_count": null,
       "_view_module": "@jupyter-widgets/controls",
       "_view_module_version": "1.5.0",
       "_view_name": "ProgressView",
       "bar_style": "success",
       "description": "",
       "description_tooltip": null,
       "layout": "IPY_MODEL_126ee3e62095492990bec5e08b392d73",
       "max": 231508.0,
       "min": 0.0,
       "orientation": "horizontal",
       "style": "IPY_MODEL_5fcce91c915d4f17a30c320f35674ab7",
       "value": 231508.0
      }
     },
     "4835a23a6e7d475486a2dfa5f7475a4b": {
      "model_module": "@jupyter-widgets/base",
      "model_module_version": "1.2.0",
      "model_name": "LayoutModel",
      "state": {
       "_model_module": "@jupyter-widgets/base",
       "_model_module_version": "1.2.0",
       "_model_name": "LayoutModel",
       "_view_count": null,
       "_view_module": "@jupyter-widgets/base",
       "_view_module_version": "1.2.0",
       "_view_name": "LayoutView",
       "align_content": null,
       "align_items": null,
       "align_self": null,
       "border": null,
       "bottom": null,
       "display": null,
       "flex": null,
       "flex_flow": null,
       "grid_area": null,
       "grid_auto_columns": null,
       "grid_auto_flow": null,
       "grid_auto_rows": null,
       "grid_column": null,
       "grid_gap": null,
       "grid_row": null,
       "grid_template_areas": null,
       "grid_template_columns": null,
       "grid_template_rows": null,
       "height": null,
       "justify_content": null,
       "justify_items": null,
       "left": null,
       "margin": null,
       "max_height": null,
       "max_width": null,
       "min_height": null,
       "min_width": null,
       "object_fit": null,
       "object_position": null,
       "order": null,
       "overflow": null,
       "overflow_x": null,
       "overflow_y": null,
       "padding": null,
       "right": null,
       "top": null,
       "visibility": null,
       "width": null
      }
     },
     "4bad920f086d480cbd3ad187d7386a0a": {
      "model_module": "@jupyter-widgets/base",
      "model_module_version": "1.2.0",
      "model_name": "LayoutModel",
      "state": {
       "_model_module": "@jupyter-widgets/base",
       "_model_module_version": "1.2.0",
       "_model_name": "LayoutModel",
       "_view_count": null,
       "_view_module": "@jupyter-widgets/base",
       "_view_module_version": "1.2.0",
       "_view_name": "LayoutView",
       "align_content": null,
       "align_items": null,
       "align_self": null,
       "border": null,
       "bottom": null,
       "display": null,
       "flex": null,
       "flex_flow": null,
       "grid_area": null,
       "grid_auto_columns": null,
       "grid_auto_flow": null,
       "grid_auto_rows": null,
       "grid_column": null,
       "grid_gap": null,
       "grid_row": null,
       "grid_template_areas": null,
       "grid_template_columns": null,
       "grid_template_rows": null,
       "height": null,
       "justify_content": null,
       "justify_items": null,
       "left": null,
       "margin": null,
       "max_height": null,
       "max_width": null,
       "min_height": null,
       "min_width": null,
       "object_fit": null,
       "object_position": null,
       "order": null,
       "overflow": null,
       "overflow_x": null,
       "overflow_y": null,
       "padding": null,
       "right": null,
       "top": null,
       "visibility": null,
       "width": null
      }
     },
     "51e5c10da8524d4abb8680420eac53fc": {
      "model_module": "@jupyter-widgets/base",
      "model_module_version": "1.2.0",
      "model_name": "LayoutModel",
      "state": {
       "_model_module": "@jupyter-widgets/base",
       "_model_module_version": "1.2.0",
       "_model_name": "LayoutModel",
       "_view_count": null,
       "_view_module": "@jupyter-widgets/base",
       "_view_module_version": "1.2.0",
       "_view_name": "LayoutView",
       "align_content": null,
       "align_items": null,
       "align_self": null,
       "border": null,
       "bottom": null,
       "display": null,
       "flex": null,
       "flex_flow": null,
       "grid_area": null,
       "grid_auto_columns": null,
       "grid_auto_flow": null,
       "grid_auto_rows": null,
       "grid_column": null,
       "grid_gap": null,
       "grid_row": null,
       "grid_template_areas": null,
       "grid_template_columns": null,
       "grid_template_rows": null,
       "height": null,
       "justify_content": null,
       "justify_items": null,
       "left": null,
       "margin": null,
       "max_height": null,
       "max_width": null,
       "min_height": null,
       "min_width": null,
       "object_fit": null,
       "object_position": null,
       "order": null,
       "overflow": null,
       "overflow_x": null,
       "overflow_y": null,
       "padding": null,
       "right": null,
       "top": null,
       "visibility": null,
       "width": null
      }
     },
     "54b46b8695ef47668dfe168d58162c98": {
      "model_module": "@jupyter-widgets/base",
      "model_module_version": "1.2.0",
      "model_name": "LayoutModel",
      "state": {
       "_model_module": "@jupyter-widgets/base",
       "_model_module_version": "1.2.0",
       "_model_name": "LayoutModel",
       "_view_count": null,
       "_view_module": "@jupyter-widgets/base",
       "_view_module_version": "1.2.0",
       "_view_name": "LayoutView",
       "align_content": null,
       "align_items": null,
       "align_self": null,
       "border": null,
       "bottom": null,
       "display": null,
       "flex": null,
       "flex_flow": null,
       "grid_area": null,
       "grid_auto_columns": null,
       "grid_auto_flow": null,
       "grid_auto_rows": null,
       "grid_column": null,
       "grid_gap": null,
       "grid_row": null,
       "grid_template_areas": null,
       "grid_template_columns": null,
       "grid_template_rows": null,
       "height": null,
       "justify_content": null,
       "justify_items": null,
       "left": null,
       "margin": null,
       "max_height": null,
       "max_width": null,
       "min_height": null,
       "min_width": null,
       "object_fit": null,
       "object_position": null,
       "order": null,
       "overflow": null,
       "overflow_x": null,
       "overflow_y": null,
       "padding": null,
       "right": null,
       "top": null,
       "visibility": null,
       "width": null
      }
     },
     "5b37bfb4e7d34250a1f22e8be9b98cc3": {
      "model_module": "@jupyter-widgets/base",
      "model_module_version": "1.2.0",
      "model_name": "LayoutModel",
      "state": {
       "_model_module": "@jupyter-widgets/base",
       "_model_module_version": "1.2.0",
       "_model_name": "LayoutModel",
       "_view_count": null,
       "_view_module": "@jupyter-widgets/base",
       "_view_module_version": "1.2.0",
       "_view_name": "LayoutView",
       "align_content": null,
       "align_items": null,
       "align_self": null,
       "border": null,
       "bottom": null,
       "display": null,
       "flex": null,
       "flex_flow": null,
       "grid_area": null,
       "grid_auto_columns": null,
       "grid_auto_flow": null,
       "grid_auto_rows": null,
       "grid_column": null,
       "grid_gap": null,
       "grid_row": null,
       "grid_template_areas": null,
       "grid_template_columns": null,
       "grid_template_rows": null,
       "height": null,
       "justify_content": null,
       "justify_items": null,
       "left": null,
       "margin": null,
       "max_height": null,
       "max_width": null,
       "min_height": null,
       "min_width": null,
       "object_fit": null,
       "object_position": null,
       "order": null,
       "overflow": null,
       "overflow_x": null,
       "overflow_y": null,
       "padding": null,
       "right": null,
       "top": null,
       "visibility": null,
       "width": null
      }
     },
     "5c2a4adc9fc74613981ea9cd1170c745": {
      "model_module": "@jupyter-widgets/controls",
      "model_module_version": "1.5.0",
      "model_name": "HBoxModel",
      "state": {
       "_dom_classes": [],
       "_model_module": "@jupyter-widgets/controls",
       "_model_module_version": "1.5.0",
       "_model_name": "HBoxModel",
       "_view_count": null,
       "_view_module": "@jupyter-widgets/controls",
       "_view_module_version": "1.5.0",
       "_view_name": "HBoxView",
       "box_style": "",
       "children": [
        "IPY_MODEL_96a0e04d74d545aa8433bd8e37d33ee9",
        "IPY_MODEL_7962832633a34a7cb2706966bcae4d9d",
        "IPY_MODEL_5d0280c493db493890c02c2e5c0365ce"
       ],
       "layout": "IPY_MODEL_4835a23a6e7d475486a2dfa5f7475a4b"
      }
     },
     "5d0280c493db493890c02c2e5c0365ce": {
      "model_module": "@jupyter-widgets/controls",
      "model_module_version": "1.5.0",
      "model_name": "HTMLModel",
      "state": {
       "_dom_classes": [],
       "_model_module": "@jupyter-widgets/controls",
       "_model_module_version": "1.5.0",
       "_model_name": "HTMLModel",
       "_view_count": null,
       "_view_module": "@jupyter-widgets/controls",
       "_view_module_version": "1.5.0",
       "_view_name": "HTMLView",
       "description": "",
       "description_tooltip": null,
       "layout": "IPY_MODEL_b08d53aa554f485c99e2d7919c9e6759",
       "placeholder": "​",
       "style": "IPY_MODEL_82e53bb2278746e0850f20d47a4f6e98",
       "value": " 511M/511M [00:48&lt;00:00, 11.3MB/s]"
      }
     },
     "5e9f3c38f563427384862fef2ad9dd29": {
      "model_module": "@jupyter-widgets/controls",
      "model_module_version": "1.5.0",
      "model_name": "HTMLModel",
      "state": {
       "_dom_classes": [],
       "_model_module": "@jupyter-widgets/controls",
       "_model_module_version": "1.5.0",
       "_model_name": "HTMLModel",
       "_view_count": null,
       "_view_module": "@jupyter-widgets/controls",
       "_view_module_version": "1.5.0",
       "_view_name": "HTMLView",
       "description": "",
       "description_tooltip": null,
       "layout": "IPY_MODEL_aaf66817d794408bbfbf4b952c2d8fcd",
       "placeholder": "​",
       "style": "IPY_MODEL_2eee8b520081467cb5328abe16ad3314",
       "value": "Downloading: 100%"
      }
     },
     "5fcce91c915d4f17a30c320f35674ab7": {
      "model_module": "@jupyter-widgets/controls",
      "model_module_version": "1.5.0",
      "model_name": "ProgressStyleModel",
      "state": {
       "_model_module": "@jupyter-widgets/controls",
       "_model_module_version": "1.5.0",
       "_model_name": "ProgressStyleModel",
       "_view_count": null,
       "_view_module": "@jupyter-widgets/base",
       "_view_module_version": "1.2.0",
       "_view_name": "StyleView",
       "bar_color": null,
       "description_width": ""
      }
     },
     "7016d3b8f34148c8b4de4ccd585a865f": {
      "model_module": "@jupyter-widgets/controls",
      "model_module_version": "1.5.0",
      "model_name": "HBoxModel",
      "state": {
       "_dom_classes": [],
       "_model_module": "@jupyter-widgets/controls",
       "_model_module_version": "1.5.0",
       "_model_name": "HBoxModel",
       "_view_count": null,
       "_view_module": "@jupyter-widgets/controls",
       "_view_module_version": "1.5.0",
       "_view_name": "HBoxView",
       "box_style": "",
       "children": [
        "IPY_MODEL_5e9f3c38f563427384862fef2ad9dd29",
        "IPY_MODEL_12fd6c7adb5c47e8a623882ff5bd073b",
        "IPY_MODEL_f120cfd70e13431fa804e5201d8d78aa"
       ],
       "layout": "IPY_MODEL_7e9910122f7b4d36b33636e10a9e5247"
      }
     },
     "736e525e9d5a40dd950800178be3faa2": {
      "model_module": "@jupyter-widgets/controls",
      "model_module_version": "1.5.0",
      "model_name": "DescriptionStyleModel",
      "state": {
       "_model_module": "@jupyter-widgets/controls",
       "_model_module_version": "1.5.0",
       "_model_name": "DescriptionStyleModel",
       "_view_count": null,
       "_view_module": "@jupyter-widgets/base",
       "_view_module_version": "1.2.0",
       "_view_name": "StyleView",
       "description_width": ""
      }
     },
     "7962832633a34a7cb2706966bcae4d9d": {
      "model_module": "@jupyter-widgets/controls",
      "model_module_version": "1.5.0",
      "model_name": "FloatProgressModel",
      "state": {
       "_dom_classes": [],
       "_model_module": "@jupyter-widgets/controls",
       "_model_module_version": "1.5.0",
       "_model_name": "FloatProgressModel",
       "_view_count": null,
       "_view_module": "@jupyter-widgets/controls",
       "_view_module_version": "1.5.0",
       "_view_name": "ProgressView",
       "bar_style": "success",
       "description": "",
       "description_tooltip": null,
       "layout": "IPY_MODEL_4bad920f086d480cbd3ad187d7386a0a",
       "max": 536063208.0,
       "min": 0.0,
       "orientation": "horizontal",
       "style": "IPY_MODEL_05f527990185457f8a7082b0b82ed12b",
       "value": 536063208.0
      }
     },
     "7e9910122f7b4d36b33636e10a9e5247": {
      "model_module": "@jupyter-widgets/base",
      "model_module_version": "1.2.0",
      "model_name": "LayoutModel",
      "state": {
       "_model_module": "@jupyter-widgets/base",
       "_model_module_version": "1.2.0",
       "_model_name": "LayoutModel",
       "_view_count": null,
       "_view_module": "@jupyter-widgets/base",
       "_view_module_version": "1.2.0",
       "_view_name": "LayoutView",
       "align_content": null,
       "align_items": null,
       "align_self": null,
       "border": null,
       "bottom": null,
       "display": null,
       "flex": null,
       "flex_flow": null,
       "grid_area": null,
       "grid_auto_columns": null,
       "grid_auto_flow": null,
       "grid_auto_rows": null,
       "grid_column": null,
       "grid_gap": null,
       "grid_row": null,
       "grid_template_areas": null,
       "grid_template_columns": null,
       "grid_template_rows": null,
       "height": null,
       "justify_content": null,
       "justify_items": null,
       "left": null,
       "margin": null,
       "max_height": null,
       "max_width": null,
       "min_height": null,
       "min_width": null,
       "object_fit": null,
       "object_position": null,
       "order": null,
       "overflow": null,
       "overflow_x": null,
       "overflow_y": null,
       "padding": null,
       "right": null,
       "top": null,
       "visibility": null,
       "width": null
      }
     },
     "82e53bb2278746e0850f20d47a4f6e98": {
      "model_module": "@jupyter-widgets/controls",
      "model_module_version": "1.5.0",
      "model_name": "DescriptionStyleModel",
      "state": {
       "_model_module": "@jupyter-widgets/controls",
       "_model_module_version": "1.5.0",
       "_model_name": "DescriptionStyleModel",
       "_view_count": null,
       "_view_module": "@jupyter-widgets/base",
       "_view_module_version": "1.2.0",
       "_view_name": "StyleView",
       "description_width": ""
      }
     },
     "8456d3100ef24977a8c09dcade3ccfd9": {
      "model_module": "@jupyter-widgets/base",
      "model_module_version": "1.2.0",
      "model_name": "LayoutModel",
      "state": {
       "_model_module": "@jupyter-widgets/base",
       "_model_module_version": "1.2.0",
       "_model_name": "LayoutModel",
       "_view_count": null,
       "_view_module": "@jupyter-widgets/base",
       "_view_module_version": "1.2.0",
       "_view_name": "LayoutView",
       "align_content": null,
       "align_items": null,
       "align_self": null,
       "border": null,
       "bottom": null,
       "display": null,
       "flex": null,
       "flex_flow": null,
       "grid_area": null,
       "grid_auto_columns": null,
       "grid_auto_flow": null,
       "grid_auto_rows": null,
       "grid_column": null,
       "grid_gap": null,
       "grid_row": null,
       "grid_template_areas": null,
       "grid_template_columns": null,
       "grid_template_rows": null,
       "height": null,
       "justify_content": null,
       "justify_items": null,
       "left": null,
       "margin": null,
       "max_height": null,
       "max_width": null,
       "min_height": null,
       "min_width": null,
       "object_fit": null,
       "object_position": null,
       "order": null,
       "overflow": null,
       "overflow_x": null,
       "overflow_y": null,
       "padding": null,
       "right": null,
       "top": null,
       "visibility": null,
       "width": null
      }
     },
     "87c892036468456bbdf04aee0bade0b9": {
      "model_module": "@jupyter-widgets/base",
      "model_module_version": "1.2.0",
      "model_name": "LayoutModel",
      "state": {
       "_model_module": "@jupyter-widgets/base",
       "_model_module_version": "1.2.0",
       "_model_name": "LayoutModel",
       "_view_count": null,
       "_view_module": "@jupyter-widgets/base",
       "_view_module_version": "1.2.0",
       "_view_name": "LayoutView",
       "align_content": null,
       "align_items": null,
       "align_self": null,
       "border": null,
       "bottom": null,
       "display": null,
       "flex": null,
       "flex_flow": null,
       "grid_area": null,
       "grid_auto_columns": null,
       "grid_auto_flow": null,
       "grid_auto_rows": null,
       "grid_column": null,
       "grid_gap": null,
       "grid_row": null,
       "grid_template_areas": null,
       "grid_template_columns": null,
       "grid_template_rows": null,
       "height": null,
       "justify_content": null,
       "justify_items": null,
       "left": null,
       "margin": null,
       "max_height": null,
       "max_width": null,
       "min_height": null,
       "min_width": null,
       "object_fit": null,
       "object_position": null,
       "order": null,
       "overflow": null,
       "overflow_x": null,
       "overflow_y": null,
       "padding": null,
       "right": null,
       "top": null,
       "visibility": null,
       "width": null
      }
     },
     "8cf9f89dd5a443e1bc48d6b05e5a54dd": {
      "model_module": "@jupyter-widgets/controls",
      "model_module_version": "1.5.0",
      "model_name": "DescriptionStyleModel",
      "state": {
       "_model_module": "@jupyter-widgets/controls",
       "_model_module_version": "1.5.0",
       "_model_name": "DescriptionStyleModel",
       "_view_count": null,
       "_view_module": "@jupyter-widgets/base",
       "_view_module_version": "1.2.0",
       "_view_name": "StyleView",
       "description_width": ""
      }
     },
     "917409b42ba844ebb9afcb633ed102a9": {
      "model_module": "@jupyter-widgets/controls",
      "model_module_version": "1.5.0",
      "model_name": "ProgressStyleModel",
      "state": {
       "_model_module": "@jupyter-widgets/controls",
       "_model_module_version": "1.5.0",
       "_model_name": "ProgressStyleModel",
       "_view_count": null,
       "_view_module": "@jupyter-widgets/base",
       "_view_module_version": "1.2.0",
       "_view_name": "StyleView",
       "bar_color": null,
       "description_width": ""
      }
     },
     "96a0e04d74d545aa8433bd8e37d33ee9": {
      "model_module": "@jupyter-widgets/controls",
      "model_module_version": "1.5.0",
      "model_name": "HTMLModel",
      "state": {
       "_dom_classes": [],
       "_model_module": "@jupyter-widgets/controls",
       "_model_module_version": "1.5.0",
       "_model_name": "HTMLModel",
       "_view_count": null,
       "_view_module": "@jupyter-widgets/controls",
       "_view_module_version": "1.5.0",
       "_view_name": "HTMLView",
       "description": "",
       "description_tooltip": null,
       "layout": "IPY_MODEL_37a7385b5e6d43998567dec7b144fd2f",
       "placeholder": "​",
       "style": "IPY_MODEL_c6099927e0ad480f9dc913644111138a",
       "value": "Downloading: 100%"
      }
     },
     "9de82f04eae54467b7086283bf184b70": {
      "model_module": "@jupyter-widgets/base",
      "model_module_version": "1.2.0",
      "model_name": "LayoutModel",
      "state": {
       "_model_module": "@jupyter-widgets/base",
       "_model_module_version": "1.2.0",
       "_model_name": "LayoutModel",
       "_view_count": null,
       "_view_module": "@jupyter-widgets/base",
       "_view_module_version": "1.2.0",
       "_view_name": "LayoutView",
       "align_content": null,
       "align_items": null,
       "align_self": null,
       "border": null,
       "bottom": null,
       "display": null,
       "flex": null,
       "flex_flow": null,
       "grid_area": null,
       "grid_auto_columns": null,
       "grid_auto_flow": null,
       "grid_auto_rows": null,
       "grid_column": null,
       "grid_gap": null,
       "grid_row": null,
       "grid_template_areas": null,
       "grid_template_columns": null,
       "grid_template_rows": null,
       "height": null,
       "justify_content": null,
       "justify_items": null,
       "left": null,
       "margin": null,
       "max_height": null,
       "max_width": null,
       "min_height": null,
       "min_width": null,
       "object_fit": null,
       "object_position": null,
       "order": null,
       "overflow": null,
       "overflow_x": null,
       "overflow_y": null,
       "padding": null,
       "right": null,
       "top": null,
       "visibility": null,
       "width": null
      }
     },
     "aaf66817d794408bbfbf4b952c2d8fcd": {
      "model_module": "@jupyter-widgets/base",
      "model_module_version": "1.2.0",
      "model_name": "LayoutModel",
      "state": {
       "_model_module": "@jupyter-widgets/base",
       "_model_module_version": "1.2.0",
       "_model_name": "LayoutModel",
       "_view_count": null,
       "_view_module": "@jupyter-widgets/base",
       "_view_module_version": "1.2.0",
       "_view_name": "LayoutView",
       "align_content": null,
       "align_items": null,
       "align_self": null,
       "border": null,
       "bottom": null,
       "display": null,
       "flex": null,
       "flex_flow": null,
       "grid_area": null,
       "grid_auto_columns": null,
       "grid_auto_flow": null,
       "grid_auto_rows": null,
       "grid_column": null,
       "grid_gap": null,
       "grid_row": null,
       "grid_template_areas": null,
       "grid_template_columns": null,
       "grid_template_rows": null,
       "height": null,
       "justify_content": null,
       "justify_items": null,
       "left": null,
       "margin": null,
       "max_height": null,
       "max_width": null,
       "min_height": null,
       "min_width": null,
       "object_fit": null,
       "object_position": null,
       "order": null,
       "overflow": null,
       "overflow_x": null,
       "overflow_y": null,
       "padding": null,
       "right": null,
       "top": null,
       "visibility": null,
       "width": null
      }
     },
     "aeb42a1c7d784e7383702e02f8eb2d70": {
      "model_module": "@jupyter-widgets/controls",
      "model_module_version": "1.5.0",
      "model_name": "HBoxModel",
      "state": {
       "_dom_classes": [],
       "_model_module": "@jupyter-widgets/controls",
       "_model_module_version": "1.5.0",
       "_model_name": "HBoxModel",
       "_view_count": null,
       "_view_module": "@jupyter-widgets/controls",
       "_view_module_version": "1.5.0",
       "_view_name": "HBoxView",
       "box_style": "",
       "children": [
        "IPY_MODEL_1f32f7c8b1954bd088601a66031ef768",
        "IPY_MODEL_1cf901ebb88147dfa7c7ca30ea65eaf8",
        "IPY_MODEL_33cb58bc6ab24a5d964f941bec4b789a"
       ],
       "layout": "IPY_MODEL_5b37bfb4e7d34250a1f22e8be9b98cc3"
      }
     },
     "b08d53aa554f485c99e2d7919c9e6759": {
      "model_module": "@jupyter-widgets/base",
      "model_module_version": "1.2.0",
      "model_name": "LayoutModel",
      "state": {
       "_model_module": "@jupyter-widgets/base",
       "_model_module_version": "1.2.0",
       "_model_name": "LayoutModel",
       "_view_count": null,
       "_view_module": "@jupyter-widgets/base",
       "_view_module_version": "1.2.0",
       "_view_name": "LayoutView",
       "align_content": null,
       "align_items": null,
       "align_self": null,
       "border": null,
       "bottom": null,
       "display": null,
       "flex": null,
       "flex_flow": null,
       "grid_area": null,
       "grid_auto_columns": null,
       "grid_auto_flow": null,
       "grid_auto_rows": null,
       "grid_column": null,
       "grid_gap": null,
       "grid_row": null,
       "grid_template_areas": null,
       "grid_template_columns": null,
       "grid_template_rows": null,
       "height": null,
       "justify_content": null,
       "justify_items": null,
       "left": null,
       "margin": null,
       "max_height": null,
       "max_width": null,
       "min_height": null,
       "min_width": null,
       "object_fit": null,
       "object_position": null,
       "order": null,
       "overflow": null,
       "overflow_x": null,
       "overflow_y": null,
       "padding": null,
       "right": null,
       "top": null,
       "visibility": null,
       "width": null
      }
     },
     "bd92fdbc9d774251afb1b4823cdc2c57": {
      "model_module": "@jupyter-widgets/base",
      "model_module_version": "1.2.0",
      "model_name": "LayoutModel",
      "state": {
       "_model_module": "@jupyter-widgets/base",
       "_model_module_version": "1.2.0",
       "_model_name": "LayoutModel",
       "_view_count": null,
       "_view_module": "@jupyter-widgets/base",
       "_view_module_version": "1.2.0",
       "_view_name": "LayoutView",
       "align_content": null,
       "align_items": null,
       "align_self": null,
       "border": null,
       "bottom": null,
       "display": null,
       "flex": null,
       "flex_flow": null,
       "grid_area": null,
       "grid_auto_columns": null,
       "grid_auto_flow": null,
       "grid_auto_rows": null,
       "grid_column": null,
       "grid_gap": null,
       "grid_row": null,
       "grid_template_areas": null,
       "grid_template_columns": null,
       "grid_template_rows": null,
       "height": null,
       "justify_content": null,
       "justify_items": null,
       "left": null,
       "margin": null,
       "max_height": null,
       "max_width": null,
       "min_height": null,
       "min_width": null,
       "object_fit": null,
       "object_position": null,
       "order": null,
       "overflow": null,
       "overflow_x": null,
       "overflow_y": null,
       "padding": null,
       "right": null,
       "top": null,
       "visibility": null,
       "width": null
      }
     },
     "c405688e4da54bd78bcbb3287bfebcc2": {
      "model_module": "@jupyter-widgets/controls",
      "model_module_version": "1.5.0",
      "model_name": "DescriptionStyleModel",
      "state": {
       "_model_module": "@jupyter-widgets/controls",
       "_model_module_version": "1.5.0",
       "_model_name": "DescriptionStyleModel",
       "_view_count": null,
       "_view_module": "@jupyter-widgets/base",
       "_view_module_version": "1.2.0",
       "_view_name": "StyleView",
       "description_width": ""
      }
     },
     "c6099927e0ad480f9dc913644111138a": {
      "model_module": "@jupyter-widgets/controls",
      "model_module_version": "1.5.0",
      "model_name": "DescriptionStyleModel",
      "state": {
       "_model_module": "@jupyter-widgets/controls",
       "_model_module_version": "1.5.0",
       "_model_name": "DescriptionStyleModel",
       "_view_count": null,
       "_view_module": "@jupyter-widgets/base",
       "_view_module_version": "1.2.0",
       "_view_name": "StyleView",
       "description_width": ""
      }
     },
     "c6191b436c4646a0a851d18a7ee74370": {
      "model_module": "@jupyter-widgets/controls",
      "model_module_version": "1.5.0",
      "model_name": "HBoxModel",
      "state": {
       "_dom_classes": [],
       "_model_module": "@jupyter-widgets/controls",
       "_model_module_version": "1.5.0",
       "_model_name": "HBoxModel",
       "_view_count": null,
       "_view_module": "@jupyter-widgets/controls",
       "_view_module_version": "1.5.0",
       "_view_name": "HBoxView",
       "box_style": "",
       "children": [
        "IPY_MODEL_0abbc940ae2f4c0c839d6f5593b74896",
        "IPY_MODEL_233a384dce314e60a35936670b4622e1",
        "IPY_MODEL_dd4d18164d9d4c7bb09f404ff2225142"
       ],
       "layout": "IPY_MODEL_51e5c10da8524d4abb8680420eac53fc"
      }
     },
     "c8fc3d4a58714a5bbab9aaf5447ee1dd": {
      "model_module": "@jupyter-widgets/base",
      "model_module_version": "1.2.0",
      "model_name": "LayoutModel",
      "state": {
       "_model_module": "@jupyter-widgets/base",
       "_model_module_version": "1.2.0",
       "_model_name": "LayoutModel",
       "_view_count": null,
       "_view_module": "@jupyter-widgets/base",
       "_view_module_version": "1.2.0",
       "_view_name": "LayoutView",
       "align_content": null,
       "align_items": null,
       "align_self": null,
       "border": null,
       "bottom": null,
       "display": null,
       "flex": null,
       "flex_flow": null,
       "grid_area": null,
       "grid_auto_columns": null,
       "grid_auto_flow": null,
       "grid_auto_rows": null,
       "grid_column": null,
       "grid_gap": null,
       "grid_row": null,
       "grid_template_areas": null,
       "grid_template_columns": null,
       "grid_template_rows": null,
       "height": null,
       "justify_content": null,
       "justify_items": null,
       "left": null,
       "margin": null,
       "max_height": null,
       "max_width": null,
       "min_height": null,
       "min_width": null,
       "object_fit": null,
       "object_position": null,
       "order": null,
       "overflow": null,
       "overflow_x": null,
       "overflow_y": null,
       "padding": null,
       "right": null,
       "top": null,
       "visibility": null,
       "width": null
      }
     },
     "c9f341aa60514e9b81e640e416e5bf52": {
      "model_module": "@jupyter-widgets/controls",
      "model_module_version": "1.5.0",
      "model_name": "DescriptionStyleModel",
      "state": {
       "_model_module": "@jupyter-widgets/controls",
       "_model_module_version": "1.5.0",
       "_model_name": "DescriptionStyleModel",
       "_view_count": null,
       "_view_module": "@jupyter-widgets/base",
       "_view_module_version": "1.2.0",
       "_view_name": "StyleView",
       "description_width": ""
      }
     },
     "ce83253015714cf7896ab12f104ecfe5": {
      "model_module": "@jupyter-widgets/base",
      "model_module_version": "1.2.0",
      "model_name": "LayoutModel",
      "state": {
       "_model_module": "@jupyter-widgets/base",
       "_model_module_version": "1.2.0",
       "_model_name": "LayoutModel",
       "_view_count": null,
       "_view_module": "@jupyter-widgets/base",
       "_view_module_version": "1.2.0",
       "_view_name": "LayoutView",
       "align_content": null,
       "align_items": null,
       "align_self": null,
       "border": null,
       "bottom": null,
       "display": null,
       "flex": null,
       "flex_flow": null,
       "grid_area": null,
       "grid_auto_columns": null,
       "grid_auto_flow": null,
       "grid_auto_rows": null,
       "grid_column": null,
       "grid_gap": null,
       "grid_row": null,
       "grid_template_areas": null,
       "grid_template_columns": null,
       "grid_template_rows": null,
       "height": null,
       "justify_content": null,
       "justify_items": null,
       "left": null,
       "margin": null,
       "max_height": null,
       "max_width": null,
       "min_height": null,
       "min_width": null,
       "object_fit": null,
       "object_position": null,
       "order": null,
       "overflow": null,
       "overflow_x": null,
       "overflow_y": null,
       "padding": null,
       "right": null,
       "top": null,
       "visibility": null,
       "width": null
      }
     },
     "cf8ba9cf2f5a4f32b30e9c7378b96f85": {
      "model_module": "@jupyter-widgets/controls",
      "model_module_version": "1.5.0",
      "model_name": "HBoxModel",
      "state": {
       "_dom_classes": [],
       "_model_module": "@jupyter-widgets/controls",
       "_model_module_version": "1.5.0",
       "_model_name": "HBoxModel",
       "_view_count": null,
       "_view_module": "@jupyter-widgets/controls",
       "_view_module_version": "1.5.0",
       "_view_name": "HBoxView",
       "box_style": "",
       "children": [
        "IPY_MODEL_27ee5276642a435494e7e3ef7a075793",
        "IPY_MODEL_39430bc3668042b1b1263cd7b6eab5a9",
        "IPY_MODEL_dd5c2e9039ba425fa76121c3bc05185c"
       ],
       "layout": "IPY_MODEL_54b46b8695ef47668dfe168d58162c98"
      }
     },
     "d545e2ef483542eb94cccd87549b82a7": {
      "model_module": "@jupyter-widgets/controls",
      "model_module_version": "1.5.0",
      "model_name": "ProgressStyleModel",
      "state": {
       "_model_module": "@jupyter-widgets/controls",
       "_model_module_version": "1.5.0",
       "_model_name": "ProgressStyleModel",
       "_view_count": null,
       "_view_module": "@jupyter-widgets/base",
       "_view_module_version": "1.2.0",
       "_view_name": "StyleView",
       "bar_color": null,
       "description_width": ""
      }
     },
     "db88ffb265bd41d79f7e6efdffe1e0a9": {
      "model_module": "@jupyter-widgets/controls",
      "model_module_version": "1.5.0",
      "model_name": "DescriptionStyleModel",
      "state": {
       "_model_module": "@jupyter-widgets/controls",
       "_model_module_version": "1.5.0",
       "_model_name": "DescriptionStyleModel",
       "_view_count": null,
       "_view_module": "@jupyter-widgets/base",
       "_view_module_version": "1.2.0",
       "_view_name": "StyleView",
       "description_width": ""
      }
     },
     "dd4d18164d9d4c7bb09f404ff2225142": {
      "model_module": "@jupyter-widgets/controls",
      "model_module_version": "1.5.0",
      "model_name": "HTMLModel",
      "state": {
       "_dom_classes": [],
       "_model_module": "@jupyter-widgets/controls",
       "_model_module_version": "1.5.0",
       "_model_name": "HTMLModel",
       "_view_count": null,
       "_view_module": "@jupyter-widgets/controls",
       "_view_module_version": "1.5.0",
       "_view_name": "HTMLView",
       "description": "",
       "description_tooltip": null,
       "layout": "IPY_MODEL_87c892036468456bbdf04aee0bade0b9",
       "placeholder": "​",
       "style": "IPY_MODEL_db88ffb265bd41d79f7e6efdffe1e0a9",
       "value": " 28.0/28.0 [00:00&lt;00:00, 909B/s]"
      }
     },
     "dd5c2e9039ba425fa76121c3bc05185c": {
      "model_module": "@jupyter-widgets/controls",
      "model_module_version": "1.5.0",
      "model_name": "HTMLModel",
      "state": {
       "_dom_classes": [],
       "_model_module": "@jupyter-widgets/controls",
       "_model_module_version": "1.5.0",
       "_model_name": "HTMLModel",
       "_view_count": null,
       "_view_module": "@jupyter-widgets/controls",
       "_view_module_version": "1.5.0",
       "_view_name": "HTMLView",
       "description": "",
       "description_tooltip": null,
       "layout": "IPY_MODEL_9de82f04eae54467b7086283bf184b70",
       "placeholder": "​",
       "style": "IPY_MODEL_c405688e4da54bd78bcbb3287bfebcc2",
       "value": " 226k/226k [00:00&lt;00:00, 300kB/s]"
      }
     },
     "e9777e2abefa4800a142c8fcdac32953": {
      "model_module": "@jupyter-widgets/controls",
      "model_module_version": "1.5.0",
      "model_name": "DescriptionStyleModel",
      "state": {
       "_model_module": "@jupyter-widgets/controls",
       "_model_module_version": "1.5.0",
       "_model_name": "DescriptionStyleModel",
       "_view_count": null,
       "_view_module": "@jupyter-widgets/base",
       "_view_module_version": "1.2.0",
       "_view_name": "StyleView",
       "description_width": ""
      }
     },
     "f120cfd70e13431fa804e5201d8d78aa": {
      "model_module": "@jupyter-widgets/controls",
      "model_module_version": "1.5.0",
      "model_name": "HTMLModel",
      "state": {
       "_dom_classes": [],
       "_model_module": "@jupyter-widgets/controls",
       "_model_module_version": "1.5.0",
       "_model_name": "HTMLModel",
       "_view_count": null,
       "_view_module": "@jupyter-widgets/controls",
       "_view_module_version": "1.5.0",
       "_view_name": "HTMLView",
       "description": "",
       "description_tooltip": null,
       "layout": "IPY_MODEL_c8fc3d4a58714a5bbab9aaf5447ee1dd",
       "placeholder": "​",
       "style": "IPY_MODEL_8cf9f89dd5a443e1bc48d6b05e5a54dd",
       "value": " 570/570 [00:00&lt;00:00, 21.3kB/s]"
      }
     },
     "f694850436ba40299f4a7b5d4ce05f2d": {
      "model_module": "@jupyter-widgets/controls",
      "model_module_version": "1.5.0",
      "model_name": "ProgressStyleModel",
      "state": {
       "_model_module": "@jupyter-widgets/controls",
       "_model_module_version": "1.5.0",
       "_model_name": "ProgressStyleModel",
       "_view_count": null,
       "_view_module": "@jupyter-widgets/base",
       "_view_module_version": "1.2.0",
       "_view_name": "StyleView",
       "bar_color": null,
       "description_width": ""
      }
     }
    },
    "version_major": 2,
    "version_minor": 0
   }
  }
 },
 "nbformat": 4,
 "nbformat_minor": 5
}
